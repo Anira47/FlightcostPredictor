{
 "cells": [
  {
   "cell_type": "code",
   "execution_count": 1,
   "id": "d334f4ab",
   "metadata": {},
   "outputs": [],
   "source": [
    "import numpy as np\n",
    "import pandas as pd\n",
    "import seaborn as sns\n",
    "import matplotlib.pyplot as plt\n",
    "%matplotlib inline"
   ]
  },
  {
   "cell_type": "code",
   "execution_count": 2,
   "id": "0c58de44",
   "metadata": {},
   "outputs": [],
   "source": [
    "df=pd.read_excel('Data_Train.xlsx')"
   ]
  },
  {
   "cell_type": "code",
   "execution_count": 3,
   "id": "07339cd1",
   "metadata": {},
   "outputs": [
    {
     "data": {
      "text/html": [
       "<div>\n",
       "<style scoped>\n",
       "    .dataframe tbody tr th:only-of-type {\n",
       "        vertical-align: middle;\n",
       "    }\n",
       "\n",
       "    .dataframe tbody tr th {\n",
       "        vertical-align: top;\n",
       "    }\n",
       "\n",
       "    .dataframe thead th {\n",
       "        text-align: right;\n",
       "    }\n",
       "</style>\n",
       "<table border=\"1\" class=\"dataframe\">\n",
       "  <thead>\n",
       "    <tr style=\"text-align: right;\">\n",
       "      <th></th>\n",
       "      <th>Airline</th>\n",
       "      <th>Date_of_Journey</th>\n",
       "      <th>Source</th>\n",
       "      <th>Destination</th>\n",
       "      <th>Route</th>\n",
       "      <th>Dep_Time</th>\n",
       "      <th>Arrival_Time</th>\n",
       "      <th>Duration</th>\n",
       "      <th>Total_Stops</th>\n",
       "      <th>Additional_Info</th>\n",
       "      <th>Price</th>\n",
       "    </tr>\n",
       "  </thead>\n",
       "  <tbody>\n",
       "    <tr>\n",
       "      <th>0</th>\n",
       "      <td>IndiGo</td>\n",
       "      <td>24/03/2019</td>\n",
       "      <td>Banglore</td>\n",
       "      <td>New Delhi</td>\n",
       "      <td>BLR → DEL</td>\n",
       "      <td>22:20</td>\n",
       "      <td>01:10 22 Mar</td>\n",
       "      <td>2h 50m</td>\n",
       "      <td>non-stop</td>\n",
       "      <td>No info</td>\n",
       "      <td>3897</td>\n",
       "    </tr>\n",
       "    <tr>\n",
       "      <th>1</th>\n",
       "      <td>Air India</td>\n",
       "      <td>1/05/2019</td>\n",
       "      <td>Kolkata</td>\n",
       "      <td>Banglore</td>\n",
       "      <td>CCU → IXR → BBI → BLR</td>\n",
       "      <td>05:50</td>\n",
       "      <td>13:15</td>\n",
       "      <td>7h 25m</td>\n",
       "      <td>2 stops</td>\n",
       "      <td>No info</td>\n",
       "      <td>7662</td>\n",
       "    </tr>\n",
       "    <tr>\n",
       "      <th>2</th>\n",
       "      <td>Jet Airways</td>\n",
       "      <td>9/06/2019</td>\n",
       "      <td>Delhi</td>\n",
       "      <td>Cochin</td>\n",
       "      <td>DEL → LKO → BOM → COK</td>\n",
       "      <td>09:25</td>\n",
       "      <td>04:25 10 Jun</td>\n",
       "      <td>19h</td>\n",
       "      <td>2 stops</td>\n",
       "      <td>No info</td>\n",
       "      <td>13882</td>\n",
       "    </tr>\n",
       "    <tr>\n",
       "      <th>3</th>\n",
       "      <td>IndiGo</td>\n",
       "      <td>12/05/2019</td>\n",
       "      <td>Kolkata</td>\n",
       "      <td>Banglore</td>\n",
       "      <td>CCU → NAG → BLR</td>\n",
       "      <td>18:05</td>\n",
       "      <td>23:30</td>\n",
       "      <td>5h 25m</td>\n",
       "      <td>1 stop</td>\n",
       "      <td>No info</td>\n",
       "      <td>6218</td>\n",
       "    </tr>\n",
       "    <tr>\n",
       "      <th>4</th>\n",
       "      <td>IndiGo</td>\n",
       "      <td>01/03/2019</td>\n",
       "      <td>Banglore</td>\n",
       "      <td>New Delhi</td>\n",
       "      <td>BLR → NAG → DEL</td>\n",
       "      <td>16:50</td>\n",
       "      <td>21:35</td>\n",
       "      <td>4h 45m</td>\n",
       "      <td>1 stop</td>\n",
       "      <td>No info</td>\n",
       "      <td>13302</td>\n",
       "    </tr>\n",
       "  </tbody>\n",
       "</table>\n",
       "</div>"
      ],
      "text/plain": [
       "       Airline Date_of_Journey    Source Destination                  Route  \\\n",
       "0       IndiGo      24/03/2019  Banglore   New Delhi              BLR → DEL   \n",
       "1    Air India       1/05/2019   Kolkata    Banglore  CCU → IXR → BBI → BLR   \n",
       "2  Jet Airways       9/06/2019     Delhi      Cochin  DEL → LKO → BOM → COK   \n",
       "3       IndiGo      12/05/2019   Kolkata    Banglore        CCU → NAG → BLR   \n",
       "4       IndiGo      01/03/2019  Banglore   New Delhi        BLR → NAG → DEL   \n",
       "\n",
       "  Dep_Time  Arrival_Time Duration Total_Stops Additional_Info  Price  \n",
       "0    22:20  01:10 22 Mar   2h 50m    non-stop         No info   3897  \n",
       "1    05:50         13:15   7h 25m     2 stops         No info   7662  \n",
       "2    09:25  04:25 10 Jun      19h     2 stops         No info  13882  \n",
       "3    18:05         23:30   5h 25m      1 stop         No info   6218  \n",
       "4    16:50         21:35   4h 45m      1 stop         No info  13302  "
      ]
     },
     "execution_count": 3,
     "metadata": {},
     "output_type": "execute_result"
    }
   ],
   "source": [
    "df.head()"
   ]
  },
  {
   "cell_type": "code",
   "execution_count": 4,
   "id": "97e3c09a",
   "metadata": {},
   "outputs": [
    {
     "data": {
      "text/plain": [
       "Airline            0\n",
       "Date_of_Journey    0\n",
       "Source             0\n",
       "Destination        0\n",
       "Route              1\n",
       "Dep_Time           0\n",
       "Arrival_Time       0\n",
       "Duration           0\n",
       "Total_Stops        1\n",
       "Additional_Info    0\n",
       "Price              0\n",
       "dtype: int64"
      ]
     },
     "execution_count": 4,
     "metadata": {},
     "output_type": "execute_result"
    }
   ],
   "source": [
    "df.isnull().sum()"
   ]
  },
  {
   "cell_type": "code",
   "execution_count": 5,
   "id": "7862390c",
   "metadata": {},
   "outputs": [],
   "source": [
    "df=df.dropna()"
   ]
  },
  {
   "cell_type": "code",
   "execution_count": 6,
   "id": "941fdd33",
   "metadata": {},
   "outputs": [
    {
     "data": {
      "text/plain": [
       "Airline            0\n",
       "Date_of_Journey    0\n",
       "Source             0\n",
       "Destination        0\n",
       "Route              0\n",
       "Dep_Time           0\n",
       "Arrival_Time       0\n",
       "Duration           0\n",
       "Total_Stops        0\n",
       "Additional_Info    0\n",
       "Price              0\n",
       "dtype: int64"
      ]
     },
     "execution_count": 6,
     "metadata": {},
     "output_type": "execute_result"
    }
   ],
   "source": [
    "df.isnull().sum()"
   ]
  },
  {
   "cell_type": "code",
   "execution_count": 7,
   "id": "d313f74a",
   "metadata": {},
   "outputs": [
    {
     "data": {
      "text/plain": [
       "Airline            object\n",
       "Date_of_Journey    object\n",
       "Source             object\n",
       "Destination        object\n",
       "Route              object\n",
       "Dep_Time           object\n",
       "Arrival_Time       object\n",
       "Duration           object\n",
       "Total_Stops        object\n",
       "Additional_Info    object\n",
       "Price               int64\n",
       "dtype: object"
      ]
     },
     "execution_count": 7,
     "metadata": {},
     "output_type": "execute_result"
    }
   ],
   "source": [
    "df.dtypes"
   ]
  },
  {
   "cell_type": "code",
   "execution_count": 8,
   "id": "becf777d",
   "metadata": {},
   "outputs": [],
   "source": [
    "#as date of jouney deptime arrival time should be in date time format we have to converet"
   ]
  },
  {
   "cell_type": "code",
   "execution_count": 9,
   "id": "cb3c6459",
   "metadata": {},
   "outputs": [
    {
     "data": {
      "text/plain": [
       "0        24/03/2019\n",
       "1         1/05/2019\n",
       "2         9/06/2019\n",
       "3        12/05/2019\n",
       "4        01/03/2019\n",
       "            ...    \n",
       "10678     9/04/2019\n",
       "10679    27/04/2019\n",
       "10680    27/04/2019\n",
       "10681    01/03/2019\n",
       "10682     9/05/2019\n",
       "Name: Date_of_Journey, Length: 10682, dtype: object"
      ]
     },
     "execution_count": 9,
     "metadata": {},
     "output_type": "execute_result"
    }
   ],
   "source": [
    "df['Date_of_Journey']"
   ]
  },
  {
   "cell_type": "code",
   "execution_count": 10,
   "id": "0fc3de61",
   "metadata": {},
   "outputs": [],
   "source": [
    "def converter(df,date_column):\n",
    "    df[date_column] = pd.to_datetime(df[date_column])"
   ]
  },
  {
   "cell_type": "code",
   "execution_count": 11,
   "id": "25cd1383",
   "metadata": {},
   "outputs": [
    {
     "name": "stderr",
     "output_type": "stream",
     "text": [
      "C:\\Users\\rohit\\AppData\\Local\\Temp\\ipykernel_13920\\165850772.py:2: UserWarning: Parsing dates in %d/%m/%Y format when dayfirst=False (the default) was specified. Pass `dayfirst=True` or specify a format to silence this warning.\n",
      "  df[date_column] = pd.to_datetime(df[date_column])\n",
      "C:\\Users\\rohit\\AppData\\Local\\Temp\\ipykernel_13920\\165850772.py:2: UserWarning: Could not infer format, so each element will be parsed individually, falling back to `dateutil`. To ensure parsing is consistent and as-expected, please specify a format.\n",
      "  df[date_column] = pd.to_datetime(df[date_column])\n",
      "C:\\Users\\rohit\\AppData\\Local\\Temp\\ipykernel_13920\\165850772.py:2: UserWarning: Could not infer format, so each element will be parsed individually, falling back to `dateutil`. To ensure parsing is consistent and as-expected, please specify a format.\n",
      "  df[date_column] = pd.to_datetime(df[date_column])\n"
     ]
    }
   ],
   "source": [
    "x=['Date_of_Journey','Dep_Time','Arrival_Time']\n",
    "for i in x:\n",
    "    converter(df,i)"
   ]
  },
  {
   "cell_type": "code",
   "execution_count": 12,
   "id": "d1868d66",
   "metadata": {},
   "outputs": [
    {
     "data": {
      "text/plain": [
       "Airline                    object\n",
       "Date_of_Journey    datetime64[ns]\n",
       "Source                     object\n",
       "Destination                object\n",
       "Route                      object\n",
       "Dep_Time           datetime64[ns]\n",
       "Arrival_Time       datetime64[ns]\n",
       "Duration                   object\n",
       "Total_Stops                object\n",
       "Additional_Info            object\n",
       "Price                       int64\n",
       "dtype: object"
      ]
     },
     "execution_count": 12,
     "metadata": {},
     "output_type": "execute_result"
    }
   ],
   "source": [
    "df.dtypes"
   ]
  },
  {
   "cell_type": "code",
   "execution_count": 13,
   "id": "3c73dd66",
   "metadata": {},
   "outputs": [],
   "source": [
    "df1=df"
   ]
  },
  {
   "cell_type": "code",
   "execution_count": 14,
   "id": "6feb7f81",
   "metadata": {},
   "outputs": [],
   "source": [
    "df['Journey_day']=df['Date_of_Journey'].dt.day"
   ]
  },
  {
   "cell_type": "code",
   "execution_count": 15,
   "id": "c031dd35",
   "metadata": {},
   "outputs": [],
   "source": [
    "df['Journey_month']=df['Date_of_Journey'].dt.month"
   ]
  },
  {
   "cell_type": "code",
   "execution_count": 16,
   "id": "fb699bdb",
   "metadata": {},
   "outputs": [],
   "source": [
    "df['Journey_year']=df['Date_of_Journey'].dt.year"
   ]
  },
  {
   "cell_type": "code",
   "execution_count": 17,
   "id": "cefef76c",
   "metadata": {},
   "outputs": [
    {
     "data": {
      "text/html": [
       "<div>\n",
       "<style scoped>\n",
       "    .dataframe tbody tr th:only-of-type {\n",
       "        vertical-align: middle;\n",
       "    }\n",
       "\n",
       "    .dataframe tbody tr th {\n",
       "        vertical-align: top;\n",
       "    }\n",
       "\n",
       "    .dataframe thead th {\n",
       "        text-align: right;\n",
       "    }\n",
       "</style>\n",
       "<table border=\"1\" class=\"dataframe\">\n",
       "  <thead>\n",
       "    <tr style=\"text-align: right;\">\n",
       "      <th></th>\n",
       "      <th>Airline</th>\n",
       "      <th>Source</th>\n",
       "      <th>Destination</th>\n",
       "      <th>Route</th>\n",
       "      <th>Dep_Time</th>\n",
       "      <th>Arrival_Time</th>\n",
       "      <th>Duration</th>\n",
       "      <th>Total_Stops</th>\n",
       "      <th>Additional_Info</th>\n",
       "      <th>Price</th>\n",
       "      <th>Journey_day</th>\n",
       "      <th>Journey_month</th>\n",
       "      <th>Journey_year</th>\n",
       "    </tr>\n",
       "  </thead>\n",
       "  <tbody>\n",
       "    <tr>\n",
       "      <th>0</th>\n",
       "      <td>IndiGo</td>\n",
       "      <td>Banglore</td>\n",
       "      <td>New Delhi</td>\n",
       "      <td>BLR → DEL</td>\n",
       "      <td>2025-04-11 22:20:00</td>\n",
       "      <td>2025-03-22 01:10:00</td>\n",
       "      <td>2h 50m</td>\n",
       "      <td>non-stop</td>\n",
       "      <td>No info</td>\n",
       "      <td>3897</td>\n",
       "      <td>24</td>\n",
       "      <td>3</td>\n",
       "      <td>2019</td>\n",
       "    </tr>\n",
       "    <tr>\n",
       "      <th>1</th>\n",
       "      <td>Air India</td>\n",
       "      <td>Kolkata</td>\n",
       "      <td>Banglore</td>\n",
       "      <td>CCU → IXR → BBI → BLR</td>\n",
       "      <td>2025-04-11 05:50:00</td>\n",
       "      <td>2025-04-11 13:15:00</td>\n",
       "      <td>7h 25m</td>\n",
       "      <td>2 stops</td>\n",
       "      <td>No info</td>\n",
       "      <td>7662</td>\n",
       "      <td>1</td>\n",
       "      <td>5</td>\n",
       "      <td>2019</td>\n",
       "    </tr>\n",
       "    <tr>\n",
       "      <th>2</th>\n",
       "      <td>Jet Airways</td>\n",
       "      <td>Delhi</td>\n",
       "      <td>Cochin</td>\n",
       "      <td>DEL → LKO → BOM → COK</td>\n",
       "      <td>2025-04-11 09:25:00</td>\n",
       "      <td>2025-06-10 04:25:00</td>\n",
       "      <td>19h</td>\n",
       "      <td>2 stops</td>\n",
       "      <td>No info</td>\n",
       "      <td>13882</td>\n",
       "      <td>9</td>\n",
       "      <td>6</td>\n",
       "      <td>2019</td>\n",
       "    </tr>\n",
       "    <tr>\n",
       "      <th>3</th>\n",
       "      <td>IndiGo</td>\n",
       "      <td>Kolkata</td>\n",
       "      <td>Banglore</td>\n",
       "      <td>CCU → NAG → BLR</td>\n",
       "      <td>2025-04-11 18:05:00</td>\n",
       "      <td>2025-04-11 23:30:00</td>\n",
       "      <td>5h 25m</td>\n",
       "      <td>1 stop</td>\n",
       "      <td>No info</td>\n",
       "      <td>6218</td>\n",
       "      <td>12</td>\n",
       "      <td>5</td>\n",
       "      <td>2019</td>\n",
       "    </tr>\n",
       "    <tr>\n",
       "      <th>4</th>\n",
       "      <td>IndiGo</td>\n",
       "      <td>Banglore</td>\n",
       "      <td>New Delhi</td>\n",
       "      <td>BLR → NAG → DEL</td>\n",
       "      <td>2025-04-11 16:50:00</td>\n",
       "      <td>2025-04-11 21:35:00</td>\n",
       "      <td>4h 45m</td>\n",
       "      <td>1 stop</td>\n",
       "      <td>No info</td>\n",
       "      <td>13302</td>\n",
       "      <td>1</td>\n",
       "      <td>3</td>\n",
       "      <td>2019</td>\n",
       "    </tr>\n",
       "  </tbody>\n",
       "</table>\n",
       "</div>"
      ],
      "text/plain": [
       "       Airline    Source Destination                  Route  \\\n",
       "0       IndiGo  Banglore   New Delhi              BLR → DEL   \n",
       "1    Air India   Kolkata    Banglore  CCU → IXR → BBI → BLR   \n",
       "2  Jet Airways     Delhi      Cochin  DEL → LKO → BOM → COK   \n",
       "3       IndiGo   Kolkata    Banglore        CCU → NAG → BLR   \n",
       "4       IndiGo  Banglore   New Delhi        BLR → NAG → DEL   \n",
       "\n",
       "             Dep_Time        Arrival_Time Duration Total_Stops  \\\n",
       "0 2025-04-11 22:20:00 2025-03-22 01:10:00   2h 50m    non-stop   \n",
       "1 2025-04-11 05:50:00 2025-04-11 13:15:00   7h 25m     2 stops   \n",
       "2 2025-04-11 09:25:00 2025-06-10 04:25:00      19h     2 stops   \n",
       "3 2025-04-11 18:05:00 2025-04-11 23:30:00   5h 25m      1 stop   \n",
       "4 2025-04-11 16:50:00 2025-04-11 21:35:00   4h 45m      1 stop   \n",
       "\n",
       "  Additional_Info  Price  Journey_day  Journey_month  Journey_year  \n",
       "0         No info   3897           24              3          2019  \n",
       "1         No info   7662            1              5          2019  \n",
       "2         No info  13882            9              6          2019  \n",
       "3         No info   6218           12              5          2019  \n",
       "4         No info  13302            1              3          2019  "
      ]
     },
     "execution_count": 17,
     "metadata": {},
     "output_type": "execute_result"
    }
   ],
   "source": [
    "#df.head()\n",
    "df=df.drop('Date_of_Journey',axis=1)\n",
    "df.head()"
   ]
  },
  {
   "cell_type": "code",
   "execution_count": 18,
   "id": "f707b16e",
   "metadata": {},
   "outputs": [
    {
     "data": {
      "text/plain": [
       "Timestamp('2025-04-11 22:20:00')"
      ]
     },
     "execution_count": 18,
     "metadata": {},
     "output_type": "execute_result"
    }
   ],
   "source": [
    "df['Dep_Time'][0]"
   ]
  },
  {
   "cell_type": "code",
   "execution_count": 19,
   "id": "13e5347a",
   "metadata": {},
   "outputs": [],
   "source": [
    "def extract(df,obj):\n",
    "    df[obj+'hours']=df[obj].dt.hour\n",
    "    df[obj+'minutes']=df[obj].dt.minute\n",
    "    df.drop(obj,axis=1,inplace=True)"
   ]
  },
  {
   "cell_type": "code",
   "execution_count": 20,
   "id": "f7cc6a2b",
   "metadata": {},
   "outputs": [],
   "source": [
    "extract(df,'Dep_Time')"
   ]
  },
  {
   "cell_type": "code",
   "execution_count": 21,
   "id": "36828446",
   "metadata": {},
   "outputs": [],
   "source": [
    "extract(df,'Arrival_Time')"
   ]
  },
  {
   "cell_type": "code",
   "execution_count": 22,
   "id": "cd86a8f3",
   "metadata": {},
   "outputs": [
    {
     "data": {
      "text/html": [
       "<div>\n",
       "<style scoped>\n",
       "    .dataframe tbody tr th:only-of-type {\n",
       "        vertical-align: middle;\n",
       "    }\n",
       "\n",
       "    .dataframe tbody tr th {\n",
       "        vertical-align: top;\n",
       "    }\n",
       "\n",
       "    .dataframe thead th {\n",
       "        text-align: right;\n",
       "    }\n",
       "</style>\n",
       "<table border=\"1\" class=\"dataframe\">\n",
       "  <thead>\n",
       "    <tr style=\"text-align: right;\">\n",
       "      <th></th>\n",
       "      <th>Airline</th>\n",
       "      <th>Source</th>\n",
       "      <th>Destination</th>\n",
       "      <th>Route</th>\n",
       "      <th>Duration</th>\n",
       "      <th>Total_Stops</th>\n",
       "      <th>Additional_Info</th>\n",
       "      <th>Price</th>\n",
       "      <th>Journey_day</th>\n",
       "      <th>Journey_month</th>\n",
       "      <th>Journey_year</th>\n",
       "      <th>Dep_Timehours</th>\n",
       "      <th>Dep_Timeminutes</th>\n",
       "      <th>Arrival_Timehours</th>\n",
       "      <th>Arrival_Timeminutes</th>\n",
       "    </tr>\n",
       "  </thead>\n",
       "  <tbody>\n",
       "    <tr>\n",
       "      <th>0</th>\n",
       "      <td>IndiGo</td>\n",
       "      <td>Banglore</td>\n",
       "      <td>New Delhi</td>\n",
       "      <td>BLR → DEL</td>\n",
       "      <td>2h 50m</td>\n",
       "      <td>non-stop</td>\n",
       "      <td>No info</td>\n",
       "      <td>3897</td>\n",
       "      <td>24</td>\n",
       "      <td>3</td>\n",
       "      <td>2019</td>\n",
       "      <td>22</td>\n",
       "      <td>20</td>\n",
       "      <td>1</td>\n",
       "      <td>10</td>\n",
       "    </tr>\n",
       "  </tbody>\n",
       "</table>\n",
       "</div>"
      ],
      "text/plain": [
       "  Airline    Source Destination      Route Duration Total_Stops  \\\n",
       "0  IndiGo  Banglore   New Delhi  BLR → DEL   2h 50m    non-stop   \n",
       "\n",
       "  Additional_Info  Price  Journey_day  Journey_month  Journey_year  \\\n",
       "0         No info   3897           24              3          2019   \n",
       "\n",
       "   Dep_Timehours  Dep_Timeminutes  Arrival_Timehours  Arrival_Timeminutes  \n",
       "0             22               20                  1                   10  "
      ]
     },
     "execution_count": 22,
     "metadata": {},
     "output_type": "execute_result"
    }
   ],
   "source": [
    "df.head(1)"
   ]
  },
  {
   "cell_type": "code",
   "execution_count": 23,
   "id": "82dcdd02",
   "metadata": {},
   "outputs": [
    {
     "data": {
      "text/plain": [
       "'7h 25m'"
      ]
     },
     "execution_count": 23,
     "metadata": {},
     "output_type": "execute_result"
    }
   ],
   "source": [
    "df['Duration'][1]"
   ]
  },
  {
   "cell_type": "code",
   "execution_count": 24,
   "id": "748dad16",
   "metadata": {},
   "outputs": [
    {
     "data": {
      "text/plain": [
       "['7h', '25m']"
      ]
     },
     "execution_count": 24,
     "metadata": {},
     "output_type": "execute_result"
    }
   ],
   "source": [
    "'7h 25m'.split()"
   ]
  },
  {
   "cell_type": "code",
   "execution_count": 25,
   "id": "90f298f2",
   "metadata": {},
   "outputs": [
    {
     "data": {
      "text/plain": [
       "'25'"
      ]
     },
     "execution_count": 25,
     "metadata": {},
     "output_type": "execute_result"
    }
   ],
   "source": [
    "'25m'[0:-1]"
   ]
  },
  {
   "cell_type": "code",
   "execution_count": 26,
   "id": "512ab6c8",
   "metadata": {},
   "outputs": [],
   "source": [
    "def convert(i):\n",
    "        ans=[]\n",
    "        list=i.split()\n",
    "        hours=0\n",
    "        minute=0\n",
    "        for j in list:\n",
    "            if 'h' in j:\n",
    "                hours=int(j[0:-1])\n",
    "            if 'm' in j:\n",
    "                minute=int(j[0:-1])\n",
    "        ans.append(hours)\n",
    "        ans.append(minute)\n",
    "        return ans"
   ]
  },
  {
   "cell_type": "code",
   "execution_count": 27,
   "id": "86343eec",
   "metadata": {},
   "outputs": [
    {
     "data": {
      "text/plain": [
       "[19, 0]"
      ]
     },
     "execution_count": 27,
     "metadata": {},
     "output_type": "execute_result"
    }
   ],
   "source": [
    "convert(df['Duration'][2])"
   ]
  },
  {
   "cell_type": "code",
   "execution_count": 28,
   "id": "d648e485",
   "metadata": {},
   "outputs": [],
   "source": [
    "df['Duration_hours']=df['Duration'].apply(lambda x:convert(x)[0])\n",
    "df['Duration_minute']=df['Duration'].apply(lambda x:convert(x)[1])\n",
    "df=df.drop('Duration',axis=1)"
   ]
  },
  {
   "cell_type": "code",
   "execution_count": 29,
   "id": "8bd068b6",
   "metadata": {},
   "outputs": [
    {
     "data": {
      "text/html": [
       "<div>\n",
       "<style scoped>\n",
       "    .dataframe tbody tr th:only-of-type {\n",
       "        vertical-align: middle;\n",
       "    }\n",
       "\n",
       "    .dataframe tbody tr th {\n",
       "        vertical-align: top;\n",
       "    }\n",
       "\n",
       "    .dataframe thead th {\n",
       "        text-align: right;\n",
       "    }\n",
       "</style>\n",
       "<table border=\"1\" class=\"dataframe\">\n",
       "  <thead>\n",
       "    <tr style=\"text-align: right;\">\n",
       "      <th></th>\n",
       "      <th>Airline</th>\n",
       "      <th>Source</th>\n",
       "      <th>Destination</th>\n",
       "      <th>Route</th>\n",
       "      <th>Total_Stops</th>\n",
       "      <th>Additional_Info</th>\n",
       "      <th>Price</th>\n",
       "      <th>Journey_day</th>\n",
       "      <th>Journey_month</th>\n",
       "      <th>Journey_year</th>\n",
       "      <th>Dep_Timehours</th>\n",
       "      <th>Dep_Timeminutes</th>\n",
       "      <th>Arrival_Timehours</th>\n",
       "      <th>Arrival_Timeminutes</th>\n",
       "      <th>Duration_hours</th>\n",
       "      <th>Duration_minute</th>\n",
       "    </tr>\n",
       "  </thead>\n",
       "  <tbody>\n",
       "    <tr>\n",
       "      <th>0</th>\n",
       "      <td>IndiGo</td>\n",
       "      <td>Banglore</td>\n",
       "      <td>New Delhi</td>\n",
       "      <td>BLR → DEL</td>\n",
       "      <td>non-stop</td>\n",
       "      <td>No info</td>\n",
       "      <td>3897</td>\n",
       "      <td>24</td>\n",
       "      <td>3</td>\n",
       "      <td>2019</td>\n",
       "      <td>22</td>\n",
       "      <td>20</td>\n",
       "      <td>1</td>\n",
       "      <td>10</td>\n",
       "      <td>2</td>\n",
       "      <td>50</td>\n",
       "    </tr>\n",
       "  </tbody>\n",
       "</table>\n",
       "</div>"
      ],
      "text/plain": [
       "  Airline    Source Destination      Route Total_Stops Additional_Info  Price  \\\n",
       "0  IndiGo  Banglore   New Delhi  BLR → DEL    non-stop         No info   3897   \n",
       "\n",
       "   Journey_day  Journey_month  Journey_year  Dep_Timehours  Dep_Timeminutes  \\\n",
       "0           24              3          2019             22               20   \n",
       "\n",
       "   Arrival_Timehours  Arrival_Timeminutes  Duration_hours  Duration_minute  \n",
       "0                  1                   10               2               50  "
      ]
     },
     "execution_count": 29,
     "metadata": {},
     "output_type": "execute_result"
    }
   ],
   "source": [
    "df.head(1)"
   ]
  },
  {
   "cell_type": "code",
   "execution_count": 30,
   "id": "f60925d8",
   "metadata": {},
   "outputs": [
    {
     "data": {
      "text/plain": [
       "Airline                object\n",
       "Source                 object\n",
       "Destination            object\n",
       "Route                  object\n",
       "Total_Stops            object\n",
       "Additional_Info        object\n",
       "Price                   int64\n",
       "Journey_day             int32\n",
       "Journey_month           int32\n",
       "Journey_year            int32\n",
       "Dep_Timehours           int32\n",
       "Dep_Timeminutes         int32\n",
       "Arrival_Timehours       int32\n",
       "Arrival_Timeminutes     int32\n",
       "Duration_hours          int64\n",
       "Duration_minute         int64\n",
       "dtype: object"
      ]
     },
     "execution_count": 30,
     "metadata": {},
     "output_type": "execute_result"
    }
   ],
   "source": [
    "df.dtypes"
   ]
  },
  {
   "cell_type": "code",
   "execution_count": 31,
   "id": "fa4fde63",
   "metadata": {},
   "outputs": [],
   "source": [
    "#as machine learning model works on numerical value so we have to convert some column to numerical\n",
    "#this is done by feature engineering"
   ]
  },
  {
   "cell_type": "code",
   "execution_count": 32,
   "id": "437227fd",
   "metadata": {},
   "outputs": [],
   "source": [
    "col=df.columns"
   ]
  },
  {
   "cell_type": "code",
   "execution_count": 33,
   "id": "668c71d2",
   "metadata": {},
   "outputs": [
    {
     "data": {
      "text/plain": [
       "Index(['Airline', 'Source', 'Destination', 'Route', 'Total_Stops',\n",
       "       'Additional_Info', 'Price', 'Journey_day', 'Journey_month',\n",
       "       'Journey_year', 'Dep_Timehours', 'Dep_Timeminutes', 'Arrival_Timehours',\n",
       "       'Arrival_Timeminutes', 'Duration_hours', 'Duration_minute'],\n",
       "      dtype='object')"
      ]
     },
     "execution_count": 33,
     "metadata": {},
     "output_type": "execute_result"
    }
   ],
   "source": [
    "col"
   ]
  },
  {
   "cell_type": "code",
   "execution_count": 34,
   "id": "b57692d2",
   "metadata": {},
   "outputs": [],
   "source": [
    "cat_col=[x for x in col if df[x].dtype=='object']"
   ]
  },
  {
   "cell_type": "code",
   "execution_count": 35,
   "id": "cf529852",
   "metadata": {},
   "outputs": [
    {
     "data": {
      "text/plain": [
       "['Airline', 'Source', 'Destination', 'Route', 'Total_Stops', 'Additional_Info']"
      ]
     },
     "execution_count": 35,
     "metadata": {},
     "output_type": "execute_result"
    }
   ],
   "source": [
    "cat_col"
   ]
  },
  {
   "cell_type": "code",
   "execution_count": 36,
   "id": "6640fffe",
   "metadata": {},
   "outputs": [],
   "source": [
    "num_col=[x for x in col if df[x].dtype!='object']"
   ]
  },
  {
   "cell_type": "code",
   "execution_count": 37,
   "id": "b71239c5",
   "metadata": {},
   "outputs": [],
   "source": [
    "categorical=df[cat_col]"
   ]
  },
  {
   "cell_type": "code",
   "execution_count": 38,
   "id": "5175c179",
   "metadata": {},
   "outputs": [
    {
     "data": {
      "text/html": [
       "<div>\n",
       "<style scoped>\n",
       "    .dataframe tbody tr th:only-of-type {\n",
       "        vertical-align: middle;\n",
       "    }\n",
       "\n",
       "    .dataframe tbody tr th {\n",
       "        vertical-align: top;\n",
       "    }\n",
       "\n",
       "    .dataframe thead th {\n",
       "        text-align: right;\n",
       "    }\n",
       "</style>\n",
       "<table border=\"1\" class=\"dataframe\">\n",
       "  <thead>\n",
       "    <tr style=\"text-align: right;\">\n",
       "      <th></th>\n",
       "      <th>Airline</th>\n",
       "      <th>Source</th>\n",
       "      <th>Destination</th>\n",
       "      <th>Route</th>\n",
       "      <th>Total_Stops</th>\n",
       "      <th>Additional_Info</th>\n",
       "    </tr>\n",
       "  </thead>\n",
       "  <tbody>\n",
       "    <tr>\n",
       "      <th>0</th>\n",
       "      <td>IndiGo</td>\n",
       "      <td>Banglore</td>\n",
       "      <td>New Delhi</td>\n",
       "      <td>BLR → DEL</td>\n",
       "      <td>non-stop</td>\n",
       "      <td>No info</td>\n",
       "    </tr>\n",
       "    <tr>\n",
       "      <th>1</th>\n",
       "      <td>Air India</td>\n",
       "      <td>Kolkata</td>\n",
       "      <td>Banglore</td>\n",
       "      <td>CCU → IXR → BBI → BLR</td>\n",
       "      <td>2 stops</td>\n",
       "      <td>No info</td>\n",
       "    </tr>\n",
       "    <tr>\n",
       "      <th>2</th>\n",
       "      <td>Jet Airways</td>\n",
       "      <td>Delhi</td>\n",
       "      <td>Cochin</td>\n",
       "      <td>DEL → LKO → BOM → COK</td>\n",
       "      <td>2 stops</td>\n",
       "      <td>No info</td>\n",
       "    </tr>\n",
       "  </tbody>\n",
       "</table>\n",
       "</div>"
      ],
      "text/plain": [
       "       Airline    Source Destination                  Route Total_Stops  \\\n",
       "0       IndiGo  Banglore   New Delhi              BLR → DEL    non-stop   \n",
       "1    Air India   Kolkata    Banglore  CCU → IXR → BBI → BLR     2 stops   \n",
       "2  Jet Airways     Delhi      Cochin  DEL → LKO → BOM → COK     2 stops   \n",
       "\n",
       "  Additional_Info  \n",
       "0         No info  \n",
       "1         No info  \n",
       "2         No info  "
      ]
     },
     "execution_count": 38,
     "metadata": {},
     "output_type": "execute_result"
    }
   ],
   "source": [
    "categorical.head(3)"
   ]
  },
  {
   "cell_type": "code",
   "execution_count": 39,
   "id": "eb67ea92",
   "metadata": {},
   "outputs": [
    {
     "data": {
      "text/plain": [
       "Airline\n",
       "Jet Airways                          3849\n",
       "IndiGo                               2053\n",
       "Air India                            1751\n",
       "Multiple carriers                    1196\n",
       "SpiceJet                              818\n",
       "Vistara                               479\n",
       "Air Asia                              319\n",
       "GoAir                                 194\n",
       "Multiple carriers Premium economy      13\n",
       "Jet Airways Business                    6\n",
       "Vistara Premium economy                 3\n",
       "Trujet                                  1\n",
       "Name: count, dtype: int64"
      ]
     },
     "execution_count": 39,
     "metadata": {},
     "output_type": "execute_result"
    }
   ],
   "source": [
    "categorical['Airline'].value_counts()"
   ]
  },
  {
   "cell_type": "code",
   "execution_count": 40,
   "id": "ae3d8afc",
   "metadata": {},
   "outputs": [
    {
     "data": {
      "text/plain": [
       "<Axes: xlabel='Airline', ylabel='Price'>"
      ]
     },
     "execution_count": 40,
     "metadata": {},
     "output_type": "execute_result"
    },
    {
     "data": {
      "image/png": "[encoded data removed]",
      "text/plain": [
       "<Figure size 1200x700 with 1 Axes>"
      ]
     },
     "metadata": {},
     "output_type": "display_data"
    }
   ],
   "source": [
    "plt.figure(figsize=(12,7))\n",
    "sns.boxplot(x='Airline',y='Price',data=df.sort_values('Price',ascending=False))"
   ]
  },
  {
   "cell_type": "code",
   "execution_count": 41,
   "id": "d8f59836",
   "metadata": {},
   "outputs": [
    {
     "data": {
      "text/plain": [
       "<Axes: xlabel='Total_Stops', ylabel='Price'>"
      ]
     },
     "execution_count": 41,
     "metadata": {},
     "output_type": "execute_result"
    },
    {
     "data": {
      "image/png": "[encoded data removed]",
      "text/plain": [
       "<Figure size 1200x700 with 1 Axes>"
      ]
     },
     "metadata": {},
     "output_type": "display_data"
    }
   ],
   "source": [
    "plt.figure(figsize=(12,7))\n",
    "sns.boxplot(x='Total_Stops',y='Price',data=df.sort_values('Price',ascending=False))"
   ]
  },
  {
   "cell_type": "code",
   "execution_count": 42,
   "id": "bbd41d92",
   "metadata": {},
   "outputs": [],
   "source": [
    "#we have to convert cat_col into numerical value"
   ]
  },
  {
   "cell_type": "code",
   "execution_count": 43,
   "id": "9b2834f6",
   "metadata": {},
   "outputs": [],
   "source": [
    "airline_dummy=pd.get_dummies(categorical['Airline'],drop_first=True)"
   ]
  },
  {
   "cell_type": "code",
   "execution_count": 44,
   "id": "dd9f42cf",
   "metadata": {},
   "outputs": [
    {
     "data": {
      "text/html": [
       "<div>\n",
       "<style scoped>\n",
       "    .dataframe tbody tr th:only-of-type {\n",
       "        vertical-align: middle;\n",
       "    }\n",
       "\n",
       "    .dataframe tbody tr th {\n",
       "        vertical-align: top;\n",
       "    }\n",
       "\n",
       "    .dataframe thead th {\n",
       "        text-align: right;\n",
       "    }\n",
       "</style>\n",
       "<table border=\"1\" class=\"dataframe\">\n",
       "  <thead>\n",
       "    <tr style=\"text-align: right;\">\n",
       "      <th></th>\n",
       "      <th>Air India</th>\n",
       "      <th>GoAir</th>\n",
       "      <th>IndiGo</th>\n",
       "      <th>Jet Airways</th>\n",
       "      <th>Jet Airways Business</th>\n",
       "      <th>Multiple carriers</th>\n",
       "      <th>Multiple carriers Premium economy</th>\n",
       "      <th>SpiceJet</th>\n",
       "      <th>Trujet</th>\n",
       "      <th>Vistara</th>\n",
       "      <th>Vistara Premium economy</th>\n",
       "    </tr>\n",
       "  </thead>\n",
       "  <tbody>\n",
       "    <tr>\n",
       "      <th>0</th>\n",
       "      <td>False</td>\n",
       "      <td>False</td>\n",
       "      <td>True</td>\n",
       "      <td>False</td>\n",
       "      <td>False</td>\n",
       "      <td>False</td>\n",
       "      <td>False</td>\n",
       "      <td>False</td>\n",
       "      <td>False</td>\n",
       "      <td>False</td>\n",
       "      <td>False</td>\n",
       "    </tr>\n",
       "    <tr>\n",
       "      <th>1</th>\n",
       "      <td>True</td>\n",
       "      <td>False</td>\n",
       "      <td>False</td>\n",
       "      <td>False</td>\n",
       "      <td>False</td>\n",
       "      <td>False</td>\n",
       "      <td>False</td>\n",
       "      <td>False</td>\n",
       "      <td>False</td>\n",
       "      <td>False</td>\n",
       "      <td>False</td>\n",
       "    </tr>\n",
       "  </tbody>\n",
       "</table>\n",
       "</div>"
      ],
      "text/plain": [
       "   Air India  GoAir  IndiGo  Jet Airways  Jet Airways Business  \\\n",
       "0      False  False    True        False                 False   \n",
       "1       True  False   False        False                 False   \n",
       "\n",
       "   Multiple carriers  Multiple carriers Premium economy  SpiceJet  Trujet  \\\n",
       "0              False                              False     False   False   \n",
       "1              False                              False     False   False   \n",
       "\n",
       "   Vistara  Vistara Premium economy  \n",
       "0    False                    False  \n",
       "1    False                    False  "
      ]
     },
     "execution_count": 44,
     "metadata": {},
     "output_type": "execute_result"
    }
   ],
   "source": [
    "airline_dummy.head(2)"
   ]
  },
  {
   "cell_type": "code",
   "execution_count": 45,
   "id": "18add85c",
   "metadata": {},
   "outputs": [
    {
     "data": {
      "text/plain": [
       "array(['Banglore', 'Kolkata', 'Delhi', 'Chennai', 'Mumbai'], dtype=object)"
      ]
     },
     "execution_count": 45,
     "metadata": {},
     "output_type": "execute_result"
    }
   ],
   "source": [
    "categorical['Source'].unique()"
   ]
  },
  {
   "cell_type": "code",
   "execution_count": 46,
   "id": "6c0ab7aa",
   "metadata": {},
   "outputs": [
    {
     "data": {
      "text/plain": [
       "<Axes: xlabel='Source', ylabel='Price'>"
      ]
     },
     "execution_count": 46,
     "metadata": {},
     "output_type": "execute_result"
    },
    {
     "data": {
      "image/png": "[encoded data removed]",
      "text/plain": [
       "<Figure size 1200x700 with 1 Axes>"
      ]
     },
     "metadata": {},
     "output_type": "display_data"
    }
   ],
   "source": [
    "plt.figure(figsize=(12,7))\n",
    "sns.boxplot(x='Source',y='Price',data=df.sort_values('Price',ascending=False))"
   ]
  },
  {
   "cell_type": "code",
   "execution_count": 47,
   "id": "2a7f32c3",
   "metadata": {},
   "outputs": [],
   "source": [
    "source_dummy=pd.get_dummies(categorical['Source'],drop_first=True)"
   ]
  },
  {
   "cell_type": "code",
   "execution_count": 48,
   "id": "446a3d1a",
   "metadata": {},
   "outputs": [
    {
     "data": {
      "text/html": [
       "<div>\n",
       "<style scoped>\n",
       "    .dataframe tbody tr th:only-of-type {\n",
       "        vertical-align: middle;\n",
       "    }\n",
       "\n",
       "    .dataframe tbody tr th {\n",
       "        vertical-align: top;\n",
       "    }\n",
       "\n",
       "    .dataframe thead th {\n",
       "        text-align: right;\n",
       "    }\n",
       "</style>\n",
       "<table border=\"1\" class=\"dataframe\">\n",
       "  <thead>\n",
       "    <tr style=\"text-align: right;\">\n",
       "      <th></th>\n",
       "      <th>Chennai</th>\n",
       "      <th>Delhi</th>\n",
       "      <th>Kolkata</th>\n",
       "      <th>Mumbai</th>\n",
       "    </tr>\n",
       "  </thead>\n",
       "  <tbody>\n",
       "    <tr>\n",
       "      <th>0</th>\n",
       "      <td>False</td>\n",
       "      <td>False</td>\n",
       "      <td>False</td>\n",
       "      <td>False</td>\n",
       "    </tr>\n",
       "    <tr>\n",
       "      <th>1</th>\n",
       "      <td>False</td>\n",
       "      <td>False</td>\n",
       "      <td>True</td>\n",
       "      <td>False</td>\n",
       "    </tr>\n",
       "    <tr>\n",
       "      <th>2</th>\n",
       "      <td>False</td>\n",
       "      <td>True</td>\n",
       "      <td>False</td>\n",
       "      <td>False</td>\n",
       "    </tr>\n",
       "    <tr>\n",
       "      <th>3</th>\n",
       "      <td>False</td>\n",
       "      <td>False</td>\n",
       "      <td>True</td>\n",
       "      <td>False</td>\n",
       "    </tr>\n",
       "    <tr>\n",
       "      <th>4</th>\n",
       "      <td>False</td>\n",
       "      <td>False</td>\n",
       "      <td>False</td>\n",
       "      <td>False</td>\n",
       "    </tr>\n",
       "  </tbody>\n",
       "</table>\n",
       "</div>"
      ],
      "text/plain": [
       "   Chennai  Delhi  Kolkata  Mumbai\n",
       "0    False  False    False   False\n",
       "1    False  False     True   False\n",
       "2    False   True    False   False\n",
       "3    False  False     True   False\n",
       "4    False  False    False   False"
      ]
     },
     "execution_count": 48,
     "metadata": {},
     "output_type": "execute_result"
    }
   ],
   "source": [
    "source_dummy.head(5)"
   ]
  },
  {
   "cell_type": "code",
   "execution_count": 49,
   "id": "4e913c81",
   "metadata": {},
   "outputs": [],
   "source": [
    "destination_dummy=pd.get_dummies(categorical['Destination'],drop_first=True)"
   ]
  },
  {
   "cell_type": "code",
   "execution_count": 50,
   "id": "7cca9c05",
   "metadata": {},
   "outputs": [
    {
     "data": {
      "text/html": [
       "<div>\n",
       "<style scoped>\n",
       "    .dataframe tbody tr th:only-of-type {\n",
       "        vertical-align: middle;\n",
       "    }\n",
       "\n",
       "    .dataframe tbody tr th {\n",
       "        vertical-align: top;\n",
       "    }\n",
       "\n",
       "    .dataframe thead th {\n",
       "        text-align: right;\n",
       "    }\n",
       "</style>\n",
       "<table border=\"1\" class=\"dataframe\">\n",
       "  <thead>\n",
       "    <tr style=\"text-align: right;\">\n",
       "      <th></th>\n",
       "      <th>Cochin</th>\n",
       "      <th>Delhi</th>\n",
       "      <th>Hyderabad</th>\n",
       "      <th>Kolkata</th>\n",
       "      <th>New Delhi</th>\n",
       "    </tr>\n",
       "  </thead>\n",
       "  <tbody>\n",
       "    <tr>\n",
       "      <th>0</th>\n",
       "      <td>False</td>\n",
       "      <td>False</td>\n",
       "      <td>False</td>\n",
       "      <td>False</td>\n",
       "      <td>True</td>\n",
       "    </tr>\n",
       "    <tr>\n",
       "      <th>1</th>\n",
       "      <td>False</td>\n",
       "      <td>False</td>\n",
       "      <td>False</td>\n",
       "      <td>False</td>\n",
       "      <td>False</td>\n",
       "    </tr>\n",
       "    <tr>\n",
       "      <th>2</th>\n",
       "      <td>True</td>\n",
       "      <td>False</td>\n",
       "      <td>False</td>\n",
       "      <td>False</td>\n",
       "      <td>False</td>\n",
       "    </tr>\n",
       "    <tr>\n",
       "      <th>3</th>\n",
       "      <td>False</td>\n",
       "      <td>False</td>\n",
       "      <td>False</td>\n",
       "      <td>False</td>\n",
       "      <td>False</td>\n",
       "    </tr>\n",
       "    <tr>\n",
       "      <th>4</th>\n",
       "      <td>False</td>\n",
       "      <td>False</td>\n",
       "      <td>False</td>\n",
       "      <td>False</td>\n",
       "      <td>True</td>\n",
       "    </tr>\n",
       "  </tbody>\n",
       "</table>\n",
       "</div>"
      ],
      "text/plain": [
       "   Cochin  Delhi  Hyderabad  Kolkata  New Delhi\n",
       "0   False  False      False    False       True\n",
       "1   False  False      False    False      False\n",
       "2    True  False      False    False      False\n",
       "3   False  False      False    False      False\n",
       "4   False  False      False    False       True"
      ]
     },
     "execution_count": 50,
     "metadata": {},
     "output_type": "execute_result"
    }
   ],
   "source": [
    "destination_dummy.head()"
   ]
  },
  {
   "cell_type": "code",
   "execution_count": 51,
   "id": "660d3908",
   "metadata": {},
   "outputs": [
    {
     "name": "stderr",
     "output_type": "stream",
     "text": [
      "C:\\Users\\rohit\\AppData\\Local\\Temp\\ipykernel_13920\\4124669443.py:1: SettingWithCopyWarning: \n",
      "A value is trying to be set on a copy of a slice from a DataFrame.\n",
      "Try using .loc[row_indexer,col_indexer] = value instead\n",
      "\n",
      "See the caveats in the documentation: https://pandas.pydata.org/pandas-docs/stable/user_guide/indexing.html#returning-a-view-versus-a-copy\n",
      "  categorical['Route1']=categorical['Route'].str.split('→').str[0]\n",
      "C:\\Users\\rohit\\AppData\\Local\\Temp\\ipykernel_13920\\4124669443.py:2: SettingWithCopyWarning: \n",
      "A value is trying to be set on a copy of a slice from a DataFrame.\n",
      "Try using .loc[row_indexer,col_indexer] = value instead\n",
      "\n",
      "See the caveats in the documentation: https://pandas.pydata.org/pandas-docs/stable/user_guide/indexing.html#returning-a-view-versus-a-copy\n",
      "  categorical['Route2']=categorical['Route'].str.split('→').str[1]\n",
      "C:\\Users\\rohit\\AppData\\Local\\Temp\\ipykernel_13920\\4124669443.py:3: SettingWithCopyWarning: \n",
      "A value is trying to be set on a copy of a slice from a DataFrame.\n",
      "Try using .loc[row_indexer,col_indexer] = value instead\n",
      "\n",
      "See the caveats in the documentation: https://pandas.pydata.org/pandas-docs/stable/user_guide/indexing.html#returning-a-view-versus-a-copy\n",
      "  categorical['Route3']=categorical['Route'].str.split('→').str[2]\n",
      "C:\\Users\\rohit\\AppData\\Local\\Temp\\ipykernel_13920\\4124669443.py:4: SettingWithCopyWarning: \n",
      "A value is trying to be set on a copy of a slice from a DataFrame.\n",
      "Try using .loc[row_indexer,col_indexer] = value instead\n",
      "\n",
      "See the caveats in the documentation: https://pandas.pydata.org/pandas-docs/stable/user_guide/indexing.html#returning-a-view-versus-a-copy\n",
      "  categorical['Route4']=categorical['Route'].str.split('→').str[3]\n",
      "C:\\Users\\rohit\\AppData\\Local\\Temp\\ipykernel_13920\\4124669443.py:5: SettingWithCopyWarning: \n",
      "A value is trying to be set on a copy of a slice from a DataFrame.\n",
      "Try using .loc[row_indexer,col_indexer] = value instead\n",
      "\n",
      "See the caveats in the documentation: https://pandas.pydata.org/pandas-docs/stable/user_guide/indexing.html#returning-a-view-versus-a-copy\n",
      "  categorical['Route5']=categorical['Route'].str.split('→').str[4]\n"
     ]
    }
   ],
   "source": [
    "categorical['Route1']=categorical['Route'].str.split('→').str[0]\n",
    "categorical['Route2']=categorical['Route'].str.split('→').str[1]\n",
    "categorical['Route3']=categorical['Route'].str.split('→').str[2]\n",
    "categorical['Route4']=categorical['Route'].str.split('→').str[3]\n",
    "categorical['Route5']=categorical['Route'].str.split('→').str[4]"
   ]
  },
  {
   "cell_type": "code",
   "execution_count": 52,
   "id": "61e9ee0c",
   "metadata": {},
   "outputs": [
    {
     "name": "stderr",
     "output_type": "stream",
     "text": [
      "C:\\Users\\rohit\\AppData\\Local\\Temp\\ipykernel_13920\\2093556423.py:1: SettingWithCopyWarning: \n",
      "A value is trying to be set on a copy of a slice from a DataFrame\n",
      "\n",
      "See the caveats in the documentation: https://pandas.pydata.org/pandas-docs/stable/user_guide/indexing.html#returning-a-view-versus-a-copy\n",
      "  categorical.drop('Route',axis=1,inplace=True)\n"
     ]
    },
    {
     "data": {
      "text/html": [
       "<div>\n",
       "<style scoped>\n",
       "    .dataframe tbody tr th:only-of-type {\n",
       "        vertical-align: middle;\n",
       "    }\n",
       "\n",
       "    .dataframe tbody tr th {\n",
       "        vertical-align: top;\n",
       "    }\n",
       "\n",
       "    .dataframe thead th {\n",
       "        text-align: right;\n",
       "    }\n",
       "</style>\n",
       "<table border=\"1\" class=\"dataframe\">\n",
       "  <thead>\n",
       "    <tr style=\"text-align: right;\">\n",
       "      <th></th>\n",
       "      <th>Airline</th>\n",
       "      <th>Source</th>\n",
       "      <th>Destination</th>\n",
       "      <th>Total_Stops</th>\n",
       "      <th>Additional_Info</th>\n",
       "      <th>Route1</th>\n",
       "      <th>Route2</th>\n",
       "      <th>Route3</th>\n",
       "      <th>Route4</th>\n",
       "      <th>Route5</th>\n",
       "    </tr>\n",
       "  </thead>\n",
       "  <tbody>\n",
       "    <tr>\n",
       "      <th>0</th>\n",
       "      <td>IndiGo</td>\n",
       "      <td>Banglore</td>\n",
       "      <td>New Delhi</td>\n",
       "      <td>non-stop</td>\n",
       "      <td>No info</td>\n",
       "      <td>BLR</td>\n",
       "      <td>DEL</td>\n",
       "      <td>NaN</td>\n",
       "      <td>NaN</td>\n",
       "      <td>NaN</td>\n",
       "    </tr>\n",
       "    <tr>\n",
       "      <th>1</th>\n",
       "      <td>Air India</td>\n",
       "      <td>Kolkata</td>\n",
       "      <td>Banglore</td>\n",
       "      <td>2 stops</td>\n",
       "      <td>No info</td>\n",
       "      <td>CCU</td>\n",
       "      <td>IXR</td>\n",
       "      <td>BBI</td>\n",
       "      <td>BLR</td>\n",
       "      <td>NaN</td>\n",
       "    </tr>\n",
       "    <tr>\n",
       "      <th>2</th>\n",
       "      <td>Jet Airways</td>\n",
       "      <td>Delhi</td>\n",
       "      <td>Cochin</td>\n",
       "      <td>2 stops</td>\n",
       "      <td>No info</td>\n",
       "      <td>DEL</td>\n",
       "      <td>LKO</td>\n",
       "      <td>BOM</td>\n",
       "      <td>COK</td>\n",
       "      <td>NaN</td>\n",
       "    </tr>\n",
       "    <tr>\n",
       "      <th>3</th>\n",
       "      <td>IndiGo</td>\n",
       "      <td>Kolkata</td>\n",
       "      <td>Banglore</td>\n",
       "      <td>1 stop</td>\n",
       "      <td>No info</td>\n",
       "      <td>CCU</td>\n",
       "      <td>NAG</td>\n",
       "      <td>BLR</td>\n",
       "      <td>NaN</td>\n",
       "      <td>NaN</td>\n",
       "    </tr>\n",
       "    <tr>\n",
       "      <th>4</th>\n",
       "      <td>IndiGo</td>\n",
       "      <td>Banglore</td>\n",
       "      <td>New Delhi</td>\n",
       "      <td>1 stop</td>\n",
       "      <td>No info</td>\n",
       "      <td>BLR</td>\n",
       "      <td>NAG</td>\n",
       "      <td>DEL</td>\n",
       "      <td>NaN</td>\n",
       "      <td>NaN</td>\n",
       "    </tr>\n",
       "  </tbody>\n",
       "</table>\n",
       "</div>"
      ],
      "text/plain": [
       "       Airline    Source Destination Total_Stops Additional_Info Route1  \\\n",
       "0       IndiGo  Banglore   New Delhi    non-stop         No info   BLR    \n",
       "1    Air India   Kolkata    Banglore     2 stops         No info   CCU    \n",
       "2  Jet Airways     Delhi      Cochin     2 stops         No info   DEL    \n",
       "3       IndiGo   Kolkata    Banglore      1 stop         No info   CCU    \n",
       "4       IndiGo  Banglore   New Delhi      1 stop         No info   BLR    \n",
       "\n",
       "  Route2 Route3 Route4 Route5  \n",
       "0    DEL    NaN    NaN    NaN  \n",
       "1   IXR    BBI     BLR    NaN  \n",
       "2   LKO    BOM     COK    NaN  \n",
       "3   NAG     BLR    NaN    NaN  \n",
       "4   NAG     DEL    NaN    NaN  "
      ]
     },
     "execution_count": 52,
     "metadata": {},
     "output_type": "execute_result"
    }
   ],
   "source": [
    "categorical.drop('Route',axis=1,inplace=True)\n",
    "categorical.head()"
   ]
  },
  {
   "cell_type": "code",
   "execution_count": 53,
   "id": "0abceda5",
   "metadata": {},
   "outputs": [
    {
     "data": {
      "text/plain": [
       "<Axes: >"
      ]
     },
     "execution_count": 53,
     "metadata": {},
     "output_type": "execute_result"
    },
    {
     "data": {
      "image/png": "[encoded data removed]",
      "text/plain": [
       "<Figure size 640x480 with 2 Axes>"
      ]
     },
     "metadata": {},
     "output_type": "display_data"
    }
   ],
   "source": [
    "sns.heatmap(categorical.isnull(),cmap='viridis')"
   ]
  },
  {
   "cell_type": "code",
   "execution_count": 54,
   "id": "abaec296",
   "metadata": {},
   "outputs": [],
   "source": [
    "#as some value in route 2 route 4 route 5 are nan solve that"
   ]
  },
  {
   "cell_type": "code",
   "execution_count": 55,
   "id": "7b1bcf22",
   "metadata": {},
   "outputs": [
    {
     "name": "stderr",
     "output_type": "stream",
     "text": [
      "C:\\Users\\rohit\\AppData\\Local\\Temp\\ipykernel_13920\\1293557805.py:2: SettingWithCopyWarning: \n",
      "A value is trying to be set on a copy of a slice from a DataFrame\n",
      "\n",
      "See the caveats in the documentation: https://pandas.pydata.org/pandas-docs/stable/user_guide/indexing.html#returning-a-view-versus-a-copy\n",
      "  categorical[i].fillna('None',inplace=True)\n"
     ]
    }
   ],
   "source": [
    "for i in ['Route3','Route4','Route5']:\n",
    "    categorical[i].fillna('None',inplace=True)"
   ]
  },
  {
   "cell_type": "code",
   "execution_count": 56,
   "id": "4ad55bfc",
   "metadata": {},
   "outputs": [
    {
     "data": {
      "text/plain": [
       "<Axes: >"
      ]
     },
     "execution_count": 56,
     "metadata": {},
     "output_type": "execute_result"
    },
    {
     "data": {
      "image/png": "[encoded data removed]",
      "text/plain": [
       "<Figure size 640x480 with 2 Axes>"
      ]
     },
     "metadata": {},
     "output_type": "display_data"
    }
   ],
   "source": [
    "sns.heatmap(categorical.isnull(),cmap='viridis')"
   ]
  },
  {
   "cell_type": "code",
   "execution_count": 57,
   "id": "894731a9",
   "metadata": {},
   "outputs": [
    {
     "name": "stdout",
     "output_type": "stream",
     "text": [
      "Airline has total 12 categories\n",
      "Source has total 5 categories\n",
      "Destination has total 6 categories\n",
      "Total_Stops has total 5 categories\n",
      "Additional_Info has total 10 categories\n",
      "Route1 has total 5 categories\n",
      "Route2 has total 45 categories\n",
      "Route3 has total 30 categories\n",
      "Route4 has total 14 categories\n",
      "Route5 has total 6 categories\n"
     ]
    }
   ],
   "source": [
    "for i in categorical.columns:\n",
    "    print('{} has total {} categories'.format(i,len(categorical[i].value_counts())))"
   ]
  },
  {
   "cell_type": "code",
   "execution_count": 58,
   "id": "59c13806",
   "metadata": {},
   "outputs": [],
   "source": [
    "#as route2has 45 different categories so it will hard for manual enconding each manually so will use here label encoder"
   ]
  },
  {
   "cell_type": "code",
   "execution_count": 59,
   "id": "bd1cd169",
   "metadata": {},
   "outputs": [],
   "source": [
    "from sklearn.preprocessing import LabelEncoder"
   ]
  },
  {
   "cell_type": "code",
   "execution_count": 60,
   "id": "58d5f5c2",
   "metadata": {},
   "outputs": [],
   "source": [
    "encoder=LabelEncoder()"
   ]
  },
  {
   "cell_type": "code",
   "execution_count": 61,
   "id": "8eecc5bf",
   "metadata": {},
   "outputs": [
    {
     "name": "stderr",
     "output_type": "stream",
     "text": [
      "C:\\Users\\rohit\\AppData\\Local\\Temp\\ipykernel_13920\\1864785191.py:2: SettingWithCopyWarning: \n",
      "A value is trying to be set on a copy of a slice from a DataFrame.\n",
      "Try using .loc[row_indexer,col_indexer] = value instead\n",
      "\n",
      "See the caveats in the documentation: https://pandas.pydata.org/pandas-docs/stable/user_guide/indexing.html#returning-a-view-versus-a-copy\n",
      "  categorical[i]=encoder.fit_transform(categorical[i])\n",
      "C:\\Users\\rohit\\AppData\\Local\\Temp\\ipykernel_13920\\1864785191.py:2: SettingWithCopyWarning: \n",
      "A value is trying to be set on a copy of a slice from a DataFrame.\n",
      "Try using .loc[row_indexer,col_indexer] = value instead\n",
      "\n",
      "See the caveats in the documentation: https://pandas.pydata.org/pandas-docs/stable/user_guide/indexing.html#returning-a-view-versus-a-copy\n",
      "  categorical[i]=encoder.fit_transform(categorical[i])\n",
      "C:\\Users\\rohit\\AppData\\Local\\Temp\\ipykernel_13920\\1864785191.py:2: SettingWithCopyWarning: \n",
      "A value is trying to be set on a copy of a slice from a DataFrame.\n",
      "Try using .loc[row_indexer,col_indexer] = value instead\n",
      "\n",
      "See the caveats in the documentation: https://pandas.pydata.org/pandas-docs/stable/user_guide/indexing.html#returning-a-view-versus-a-copy\n",
      "  categorical[i]=encoder.fit_transform(categorical[i])\n",
      "C:\\Users\\rohit\\AppData\\Local\\Temp\\ipykernel_13920\\1864785191.py:2: SettingWithCopyWarning: \n",
      "A value is trying to be set on a copy of a slice from a DataFrame.\n",
      "Try using .loc[row_indexer,col_indexer] = value instead\n",
      "\n",
      "See the caveats in the documentation: https://pandas.pydata.org/pandas-docs/stable/user_guide/indexing.html#returning-a-view-versus-a-copy\n",
      "  categorical[i]=encoder.fit_transform(categorical[i])\n",
      "C:\\Users\\rohit\\AppData\\Local\\Temp\\ipykernel_13920\\1864785191.py:2: SettingWithCopyWarning: \n",
      "A value is trying to be set on a copy of a slice from a DataFrame.\n",
      "Try using .loc[row_indexer,col_indexer] = value instead\n",
      "\n",
      "See the caveats in the documentation: https://pandas.pydata.org/pandas-docs/stable/user_guide/indexing.html#returning-a-view-versus-a-copy\n",
      "  categorical[i]=encoder.fit_transform(categorical[i])\n"
     ]
    }
   ],
   "source": [
    "for i in ['Route1','Route2','Route3','Route4','Route5']:\n",
    "    categorical[i]=encoder.fit_transform(categorical[i])"
   ]
  },
  {
   "cell_type": "code",
   "execution_count": 62,
   "id": "951e4f62",
   "metadata": {},
   "outputs": [
    {
     "data": {
      "text/html": [
       "<div>\n",
       "<style scoped>\n",
       "    .dataframe tbody tr th:only-of-type {\n",
       "        vertical-align: middle;\n",
       "    }\n",
       "\n",
       "    .dataframe tbody tr th {\n",
       "        vertical-align: top;\n",
       "    }\n",
       "\n",
       "    .dataframe thead th {\n",
       "        text-align: right;\n",
       "    }\n",
       "</style>\n",
       "<table border=\"1\" class=\"dataframe\">\n",
       "  <thead>\n",
       "    <tr style=\"text-align: right;\">\n",
       "      <th></th>\n",
       "      <th>Airline</th>\n",
       "      <th>Source</th>\n",
       "      <th>Destination</th>\n",
       "      <th>Total_Stops</th>\n",
       "      <th>Additional_Info</th>\n",
       "      <th>Route1</th>\n",
       "      <th>Route2</th>\n",
       "      <th>Route3</th>\n",
       "      <th>Route4</th>\n",
       "      <th>Route5</th>\n",
       "    </tr>\n",
       "  </thead>\n",
       "  <tbody>\n",
       "    <tr>\n",
       "      <th>0</th>\n",
       "      <td>IndiGo</td>\n",
       "      <td>Banglore</td>\n",
       "      <td>New Delhi</td>\n",
       "      <td>non-stop</td>\n",
       "      <td>No info</td>\n",
       "      <td>0</td>\n",
       "      <td>13</td>\n",
       "      <td>29</td>\n",
       "      <td>13</td>\n",
       "      <td>5</td>\n",
       "    </tr>\n",
       "    <tr>\n",
       "      <th>1</th>\n",
       "      <td>Air India</td>\n",
       "      <td>Kolkata</td>\n",
       "      <td>Banglore</td>\n",
       "      <td>2 stops</td>\n",
       "      <td>No info</td>\n",
       "      <td>2</td>\n",
       "      <td>25</td>\n",
       "      <td>1</td>\n",
       "      <td>3</td>\n",
       "      <td>5</td>\n",
       "    </tr>\n",
       "    <tr>\n",
       "      <th>2</th>\n",
       "      <td>Jet Airways</td>\n",
       "      <td>Delhi</td>\n",
       "      <td>Cochin</td>\n",
       "      <td>2 stops</td>\n",
       "      <td>No info</td>\n",
       "      <td>3</td>\n",
       "      <td>32</td>\n",
       "      <td>4</td>\n",
       "      <td>5</td>\n",
       "      <td>5</td>\n",
       "    </tr>\n",
       "    <tr>\n",
       "      <th>3</th>\n",
       "      <td>IndiGo</td>\n",
       "      <td>Kolkata</td>\n",
       "      <td>Banglore</td>\n",
       "      <td>1 stop</td>\n",
       "      <td>No info</td>\n",
       "      <td>2</td>\n",
       "      <td>34</td>\n",
       "      <td>3</td>\n",
       "      <td>13</td>\n",
       "      <td>5</td>\n",
       "    </tr>\n",
       "    <tr>\n",
       "      <th>4</th>\n",
       "      <td>IndiGo</td>\n",
       "      <td>Banglore</td>\n",
       "      <td>New Delhi</td>\n",
       "      <td>1 stop</td>\n",
       "      <td>No info</td>\n",
       "      <td>0</td>\n",
       "      <td>34</td>\n",
       "      <td>8</td>\n",
       "      <td>13</td>\n",
       "      <td>5</td>\n",
       "    </tr>\n",
       "  </tbody>\n",
       "</table>\n",
       "</div>"
      ],
      "text/plain": [
       "       Airline    Source Destination Total_Stops Additional_Info  Route1  \\\n",
       "0       IndiGo  Banglore   New Delhi    non-stop         No info       0   \n",
       "1    Air India   Kolkata    Banglore     2 stops         No info       2   \n",
       "2  Jet Airways     Delhi      Cochin     2 stops         No info       3   \n",
       "3       IndiGo   Kolkata    Banglore      1 stop         No info       2   \n",
       "4       IndiGo  Banglore   New Delhi      1 stop         No info       0   \n",
       "\n",
       "   Route2  Route3  Route4  Route5  \n",
       "0      13      29      13       5  \n",
       "1      25       1       3       5  \n",
       "2      32       4       5       5  \n",
       "3      34       3      13       5  \n",
       "4      34       8      13       5  "
      ]
     },
     "execution_count": 62,
     "metadata": {},
     "output_type": "execute_result"
    }
   ],
   "source": [
    "categorical.head()"
   ]
  },
  {
   "cell_type": "code",
   "execution_count": 63,
   "id": "d273509f",
   "metadata": {},
   "outputs": [
    {
     "data": {
      "text/plain": [
       "Additional_Info\n",
       "No info                         8344\n",
       "In-flight meal not included     1982\n",
       "No check-in baggage included     320\n",
       "1 Long layover                    19\n",
       "Change airports                    7\n",
       "Business class                     4\n",
       "No Info                            3\n",
       "1 Short layover                    1\n",
       "Red-eye flight                     1\n",
       "2 Long layover                     1\n",
       "Name: count, dtype: int64"
      ]
     },
     "execution_count": 63,
     "metadata": {},
     "output_type": "execute_result"
    }
   ],
   "source": [
    "categorical['Additional_Info'].value_counts()"
   ]
  },
  {
   "cell_type": "code",
   "execution_count": 64,
   "id": "7e18d798",
   "metadata": {},
   "outputs": [],
   "source": [
    "#so we can drop additonal info here as 80% are no info"
   ]
  },
  {
   "cell_type": "code",
   "execution_count": 65,
   "id": "ae0f1fe7",
   "metadata": {},
   "outputs": [
    {
     "name": "stderr",
     "output_type": "stream",
     "text": [
      "C:\\Users\\rohit\\AppData\\Local\\Temp\\ipykernel_13920\\42470160.py:1: SettingWithCopyWarning: \n",
      "A value is trying to be set on a copy of a slice from a DataFrame\n",
      "\n",
      "See the caveats in the documentation: https://pandas.pydata.org/pandas-docs/stable/user_guide/indexing.html#returning-a-view-versus-a-copy\n",
      "  categorical.drop('Additional_Info',axis=1,inplace=True)\n"
     ]
    }
   ],
   "source": [
    "categorical.drop('Additional_Info',axis=1,inplace=True)"
   ]
  },
  {
   "cell_type": "code",
   "execution_count": 66,
   "id": "4ede1f4d",
   "metadata": {},
   "outputs": [
    {
     "data": {
      "text/plain": [
       "Total_Stops\n",
       "1 stop      5625\n",
       "non-stop    3491\n",
       "2 stops     1520\n",
       "3 stops       45\n",
       "4 stops        1\n",
       "Name: count, dtype: int64"
      ]
     },
     "execution_count": 66,
     "metadata": {},
     "output_type": "execute_result"
    }
   ],
   "source": [
    "categorical['Total_Stops'].value_counts()"
   ]
  },
  {
   "cell_type": "code",
   "execution_count": 67,
   "id": "d2dab3d2",
   "metadata": {},
   "outputs": [],
   "source": [
    "dict={'non-stop':0,'1 stop':1,'2 stops':2,'3 stops':3,'4 stops':4}"
   ]
  },
  {
   "cell_type": "code",
   "execution_count": 68,
   "id": "36ab840e",
   "metadata": {},
   "outputs": [
    {
     "name": "stderr",
     "output_type": "stream",
     "text": [
      "C:\\Users\\rohit\\AppData\\Local\\Temp\\ipykernel_13920\\130354464.py:1: SettingWithCopyWarning: \n",
      "A value is trying to be set on a copy of a slice from a DataFrame.\n",
      "Try using .loc[row_indexer,col_indexer] = value instead\n",
      "\n",
      "See the caveats in the documentation: https://pandas.pydata.org/pandas-docs/stable/user_guide/indexing.html#returning-a-view-versus-a-copy\n",
      "  categorical['Total_Stops']=categorical['Total_Stops'].map(dict)\n"
     ]
    }
   ],
   "source": [
    "categorical['Total_Stops']=categorical['Total_Stops'].map(dict)"
   ]
  },
  {
   "cell_type": "code",
   "execution_count": 69,
   "id": "ab59cae3",
   "metadata": {},
   "outputs": [
    {
     "data": {
      "text/html": [
       "<div>\n",
       "<style scoped>\n",
       "    .dataframe tbody tr th:only-of-type {\n",
       "        vertical-align: middle;\n",
       "    }\n",
       "\n",
       "    .dataframe tbody tr th {\n",
       "        vertical-align: top;\n",
       "    }\n",
       "\n",
       "    .dataframe thead th {\n",
       "        text-align: right;\n",
       "    }\n",
       "</style>\n",
       "<table border=\"1\" class=\"dataframe\">\n",
       "  <thead>\n",
       "    <tr style=\"text-align: right;\">\n",
       "      <th></th>\n",
       "      <th>Airline</th>\n",
       "      <th>Source</th>\n",
       "      <th>Destination</th>\n",
       "      <th>Total_Stops</th>\n",
       "      <th>Route1</th>\n",
       "      <th>Route2</th>\n",
       "      <th>Route3</th>\n",
       "      <th>Route4</th>\n",
       "      <th>Route5</th>\n",
       "    </tr>\n",
       "  </thead>\n",
       "  <tbody>\n",
       "    <tr>\n",
       "      <th>0</th>\n",
       "      <td>IndiGo</td>\n",
       "      <td>Banglore</td>\n",
       "      <td>New Delhi</td>\n",
       "      <td>0</td>\n",
       "      <td>0</td>\n",
       "      <td>13</td>\n",
       "      <td>29</td>\n",
       "      <td>13</td>\n",
       "      <td>5</td>\n",
       "    </tr>\n",
       "    <tr>\n",
       "      <th>1</th>\n",
       "      <td>Air India</td>\n",
       "      <td>Kolkata</td>\n",
       "      <td>Banglore</td>\n",
       "      <td>2</td>\n",
       "      <td>2</td>\n",
       "      <td>25</td>\n",
       "      <td>1</td>\n",
       "      <td>3</td>\n",
       "      <td>5</td>\n",
       "    </tr>\n",
       "    <tr>\n",
       "      <th>2</th>\n",
       "      <td>Jet Airways</td>\n",
       "      <td>Delhi</td>\n",
       "      <td>Cochin</td>\n",
       "      <td>2</td>\n",
       "      <td>3</td>\n",
       "      <td>32</td>\n",
       "      <td>4</td>\n",
       "      <td>5</td>\n",
       "      <td>5</td>\n",
       "    </tr>\n",
       "    <tr>\n",
       "      <th>3</th>\n",
       "      <td>IndiGo</td>\n",
       "      <td>Kolkata</td>\n",
       "      <td>Banglore</td>\n",
       "      <td>1</td>\n",
       "      <td>2</td>\n",
       "      <td>34</td>\n",
       "      <td>3</td>\n",
       "      <td>13</td>\n",
       "      <td>5</td>\n",
       "    </tr>\n",
       "    <tr>\n",
       "      <th>4</th>\n",
       "      <td>IndiGo</td>\n",
       "      <td>Banglore</td>\n",
       "      <td>New Delhi</td>\n",
       "      <td>1</td>\n",
       "      <td>0</td>\n",
       "      <td>34</td>\n",
       "      <td>8</td>\n",
       "      <td>13</td>\n",
       "      <td>5</td>\n",
       "    </tr>\n",
       "  </tbody>\n",
       "</table>\n",
       "</div>"
      ],
      "text/plain": [
       "       Airline    Source Destination  Total_Stops  Route1  Route2  Route3  \\\n",
       "0       IndiGo  Banglore   New Delhi            0       0      13      29   \n",
       "1    Air India   Kolkata    Banglore            2       2      25       1   \n",
       "2  Jet Airways     Delhi      Cochin            2       3      32       4   \n",
       "3       IndiGo   Kolkata    Banglore            1       2      34       3   \n",
       "4       IndiGo  Banglore   New Delhi            1       0      34       8   \n",
       "\n",
       "   Route4  Route5  \n",
       "0      13       5  \n",
       "1       3       5  \n",
       "2       5       5  \n",
       "3      13       5  \n",
       "4      13       5  "
      ]
     },
     "execution_count": 69,
     "metadata": {},
     "output_type": "execute_result"
    }
   ],
   "source": [
    "categorical.head()"
   ]
  },
  {
   "cell_type": "code",
   "execution_count": 70,
   "id": "a490200c",
   "metadata": {},
   "outputs": [],
   "source": [
    "df=pd.concat([categorical,airline_dummy,source_dummy,destination_dummy,df[num_col]],axis=1)"
   ]
  },
  {
   "cell_type": "code",
   "execution_count": 71,
   "id": "72b32ce3",
   "metadata": {},
   "outputs": [
    {
     "data": {
      "text/html": [
       "<div>\n",
       "<style scoped>\n",
       "    .dataframe tbody tr th:only-of-type {\n",
       "        vertical-align: middle;\n",
       "    }\n",
       "\n",
       "    .dataframe tbody tr th {\n",
       "        vertical-align: top;\n",
       "    }\n",
       "\n",
       "    .dataframe thead th {\n",
       "        text-align: right;\n",
       "    }\n",
       "</style>\n",
       "<table border=\"1\" class=\"dataframe\">\n",
       "  <thead>\n",
       "    <tr style=\"text-align: right;\">\n",
       "      <th></th>\n",
       "      <th>Airline</th>\n",
       "      <th>Source</th>\n",
       "      <th>Destination</th>\n",
       "      <th>Total_Stops</th>\n",
       "      <th>Route1</th>\n",
       "      <th>Route2</th>\n",
       "      <th>Route3</th>\n",
       "      <th>Route4</th>\n",
       "      <th>Route5</th>\n",
       "      <th>Air India</th>\n",
       "      <th>...</th>\n",
       "      <th>Price</th>\n",
       "      <th>Journey_day</th>\n",
       "      <th>Journey_month</th>\n",
       "      <th>Journey_year</th>\n",
       "      <th>Dep_Timehours</th>\n",
       "      <th>Dep_Timeminutes</th>\n",
       "      <th>Arrival_Timehours</th>\n",
       "      <th>Arrival_Timeminutes</th>\n",
       "      <th>Duration_hours</th>\n",
       "      <th>Duration_minute</th>\n",
       "    </tr>\n",
       "  </thead>\n",
       "  <tbody>\n",
       "    <tr>\n",
       "      <th>0</th>\n",
       "      <td>IndiGo</td>\n",
       "      <td>Banglore</td>\n",
       "      <td>New Delhi</td>\n",
       "      <td>0</td>\n",
       "      <td>0</td>\n",
       "      <td>13</td>\n",
       "      <td>29</td>\n",
       "      <td>13</td>\n",
       "      <td>5</td>\n",
       "      <td>False</td>\n",
       "      <td>...</td>\n",
       "      <td>3897</td>\n",
       "      <td>24</td>\n",
       "      <td>3</td>\n",
       "      <td>2019</td>\n",
       "      <td>22</td>\n",
       "      <td>20</td>\n",
       "      <td>1</td>\n",
       "      <td>10</td>\n",
       "      <td>2</td>\n",
       "      <td>50</td>\n",
       "    </tr>\n",
       "    <tr>\n",
       "      <th>1</th>\n",
       "      <td>Air India</td>\n",
       "      <td>Kolkata</td>\n",
       "      <td>Banglore</td>\n",
       "      <td>2</td>\n",
       "      <td>2</td>\n",
       "      <td>25</td>\n",
       "      <td>1</td>\n",
       "      <td>3</td>\n",
       "      <td>5</td>\n",
       "      <td>True</td>\n",
       "      <td>...</td>\n",
       "      <td>7662</td>\n",
       "      <td>1</td>\n",
       "      <td>5</td>\n",
       "      <td>2019</td>\n",
       "      <td>5</td>\n",
       "      <td>50</td>\n",
       "      <td>13</td>\n",
       "      <td>15</td>\n",
       "      <td>7</td>\n",
       "      <td>25</td>\n",
       "    </tr>\n",
       "    <tr>\n",
       "      <th>2</th>\n",
       "      <td>Jet Airways</td>\n",
       "      <td>Delhi</td>\n",
       "      <td>Cochin</td>\n",
       "      <td>2</td>\n",
       "      <td>3</td>\n",
       "      <td>32</td>\n",
       "      <td>4</td>\n",
       "      <td>5</td>\n",
       "      <td>5</td>\n",
       "      <td>False</td>\n",
       "      <td>...</td>\n",
       "      <td>13882</td>\n",
       "      <td>9</td>\n",
       "      <td>6</td>\n",
       "      <td>2019</td>\n",
       "      <td>9</td>\n",
       "      <td>25</td>\n",
       "      <td>4</td>\n",
       "      <td>25</td>\n",
       "      <td>19</td>\n",
       "      <td>0</td>\n",
       "    </tr>\n",
       "    <tr>\n",
       "      <th>3</th>\n",
       "      <td>IndiGo</td>\n",
       "      <td>Kolkata</td>\n",
       "      <td>Banglore</td>\n",
       "      <td>1</td>\n",
       "      <td>2</td>\n",
       "      <td>34</td>\n",
       "      <td>3</td>\n",
       "      <td>13</td>\n",
       "      <td>5</td>\n",
       "      <td>False</td>\n",
       "      <td>...</td>\n",
       "      <td>6218</td>\n",
       "      <td>12</td>\n",
       "      <td>5</td>\n",
       "      <td>2019</td>\n",
       "      <td>18</td>\n",
       "      <td>5</td>\n",
       "      <td>23</td>\n",
       "      <td>30</td>\n",
       "      <td>5</td>\n",
       "      <td>25</td>\n",
       "    </tr>\n",
       "    <tr>\n",
       "      <th>4</th>\n",
       "      <td>IndiGo</td>\n",
       "      <td>Banglore</td>\n",
       "      <td>New Delhi</td>\n",
       "      <td>1</td>\n",
       "      <td>0</td>\n",
       "      <td>34</td>\n",
       "      <td>8</td>\n",
       "      <td>13</td>\n",
       "      <td>5</td>\n",
       "      <td>False</td>\n",
       "      <td>...</td>\n",
       "      <td>13302</td>\n",
       "      <td>1</td>\n",
       "      <td>3</td>\n",
       "      <td>2019</td>\n",
       "      <td>16</td>\n",
       "      <td>50</td>\n",
       "      <td>21</td>\n",
       "      <td>35</td>\n",
       "      <td>4</td>\n",
       "      <td>45</td>\n",
       "    </tr>\n",
       "  </tbody>\n",
       "</table>\n",
       "<p>5 rows × 39 columns</p>\n",
       "</div>"
      ],
      "text/plain": [
       "       Airline    Source Destination  Total_Stops  Route1  Route2  Route3  \\\n",
       "0       IndiGo  Banglore   New Delhi            0       0      13      29   \n",
       "1    Air India   Kolkata    Banglore            2       2      25       1   \n",
       "2  Jet Airways     Delhi      Cochin            2       3      32       4   \n",
       "3       IndiGo   Kolkata    Banglore            1       2      34       3   \n",
       "4       IndiGo  Banglore   New Delhi            1       0      34       8   \n",
       "\n",
       "   Route4  Route5  Air India  ...  Price  Journey_day  Journey_month  \\\n",
       "0      13       5      False  ...   3897           24              3   \n",
       "1       3       5       True  ...   7662            1              5   \n",
       "2       5       5      False  ...  13882            9              6   \n",
       "3      13       5      False  ...   6218           12              5   \n",
       "4      13       5      False  ...  13302            1              3   \n",
       "\n",
       "   Journey_year  Dep_Timehours  Dep_Timeminutes  Arrival_Timehours  \\\n",
       "0          2019             22               20                  1   \n",
       "1          2019              5               50                 13   \n",
       "2          2019              9               25                  4   \n",
       "3          2019             18                5                 23   \n",
       "4          2019             16               50                 21   \n",
       "\n",
       "   Arrival_Timeminutes  Duration_hours  Duration_minute  \n",
       "0                   10               2               50  \n",
       "1                   15               7               25  \n",
       "2                   25              19                0  \n",
       "3                   30               5               25  \n",
       "4                   35               4               45  \n",
       "\n",
       "[5 rows x 39 columns]"
      ]
     },
     "execution_count": 71,
     "metadata": {},
     "output_type": "execute_result"
    }
   ],
   "source": [
    "df.head()"
   ]
  },
  {
   "cell_type": "code",
   "execution_count": 72,
   "id": "08e179d9",
   "metadata": {},
   "outputs": [],
   "source": [
    "df.drop('Airline',axis=1,inplace=True)\n",
    "df.drop('Source',axis=1,inplace=True)\n",
    "df.drop('Destination',axis=1,inplace=True)"
   ]
  },
  {
   "cell_type": "code",
   "execution_count": 73,
   "id": "1c246493",
   "metadata": {},
   "outputs": [
    {
     "data": {
      "text/html": [
       "<div>\n",
       "<style scoped>\n",
       "    .dataframe tbody tr th:only-of-type {\n",
       "        vertical-align: middle;\n",
       "    }\n",
       "\n",
       "    .dataframe tbody tr th {\n",
       "        vertical-align: top;\n",
       "    }\n",
       "\n",
       "    .dataframe thead th {\n",
       "        text-align: right;\n",
       "    }\n",
       "</style>\n",
       "<table border=\"1\" class=\"dataframe\">\n",
       "  <thead>\n",
       "    <tr style=\"text-align: right;\">\n",
       "      <th></th>\n",
       "      <th>Total_Stops</th>\n",
       "      <th>Route1</th>\n",
       "      <th>Route2</th>\n",
       "      <th>Route3</th>\n",
       "      <th>Route4</th>\n",
       "      <th>Route5</th>\n",
       "      <th>Air India</th>\n",
       "      <th>GoAir</th>\n",
       "      <th>IndiGo</th>\n",
       "      <th>Jet Airways</th>\n",
       "      <th>...</th>\n",
       "      <th>Price</th>\n",
       "      <th>Journey_day</th>\n",
       "      <th>Journey_month</th>\n",
       "      <th>Journey_year</th>\n",
       "      <th>Dep_Timehours</th>\n",
       "      <th>Dep_Timeminutes</th>\n",
       "      <th>Arrival_Timehours</th>\n",
       "      <th>Arrival_Timeminutes</th>\n",
       "      <th>Duration_hours</th>\n",
       "      <th>Duration_minute</th>\n",
       "    </tr>\n",
       "  </thead>\n",
       "  <tbody>\n",
       "    <tr>\n",
       "      <th>0</th>\n",
       "      <td>0</td>\n",
       "      <td>0</td>\n",
       "      <td>13</td>\n",
       "      <td>29</td>\n",
       "      <td>13</td>\n",
       "      <td>5</td>\n",
       "      <td>False</td>\n",
       "      <td>False</td>\n",
       "      <td>True</td>\n",
       "      <td>False</td>\n",
       "      <td>...</td>\n",
       "      <td>3897</td>\n",
       "      <td>24</td>\n",
       "      <td>3</td>\n",
       "      <td>2019</td>\n",
       "      <td>22</td>\n",
       "      <td>20</td>\n",
       "      <td>1</td>\n",
       "      <td>10</td>\n",
       "      <td>2</td>\n",
       "      <td>50</td>\n",
       "    </tr>\n",
       "    <tr>\n",
       "      <th>1</th>\n",
       "      <td>2</td>\n",
       "      <td>2</td>\n",
       "      <td>25</td>\n",
       "      <td>1</td>\n",
       "      <td>3</td>\n",
       "      <td>5</td>\n",
       "      <td>True</td>\n",
       "      <td>False</td>\n",
       "      <td>False</td>\n",
       "      <td>False</td>\n",
       "      <td>...</td>\n",
       "      <td>7662</td>\n",
       "      <td>1</td>\n",
       "      <td>5</td>\n",
       "      <td>2019</td>\n",
       "      <td>5</td>\n",
       "      <td>50</td>\n",
       "      <td>13</td>\n",
       "      <td>15</td>\n",
       "      <td>7</td>\n",
       "      <td>25</td>\n",
       "    </tr>\n",
       "    <tr>\n",
       "      <th>2</th>\n",
       "      <td>2</td>\n",
       "      <td>3</td>\n",
       "      <td>32</td>\n",
       "      <td>4</td>\n",
       "      <td>5</td>\n",
       "      <td>5</td>\n",
       "      <td>False</td>\n",
       "      <td>False</td>\n",
       "      <td>False</td>\n",
       "      <td>True</td>\n",
       "      <td>...</td>\n",
       "      <td>13882</td>\n",
       "      <td>9</td>\n",
       "      <td>6</td>\n",
       "      <td>2019</td>\n",
       "      <td>9</td>\n",
       "      <td>25</td>\n",
       "      <td>4</td>\n",
       "      <td>25</td>\n",
       "      <td>19</td>\n",
       "      <td>0</td>\n",
       "    </tr>\n",
       "    <tr>\n",
       "      <th>3</th>\n",
       "      <td>1</td>\n",
       "      <td>2</td>\n",
       "      <td>34</td>\n",
       "      <td>3</td>\n",
       "      <td>13</td>\n",
       "      <td>5</td>\n",
       "      <td>False</td>\n",
       "      <td>False</td>\n",
       "      <td>True</td>\n",
       "      <td>False</td>\n",
       "      <td>...</td>\n",
       "      <td>6218</td>\n",
       "      <td>12</td>\n",
       "      <td>5</td>\n",
       "      <td>2019</td>\n",
       "      <td>18</td>\n",
       "      <td>5</td>\n",
       "      <td>23</td>\n",
       "      <td>30</td>\n",
       "      <td>5</td>\n",
       "      <td>25</td>\n",
       "    </tr>\n",
       "    <tr>\n",
       "      <th>4</th>\n",
       "      <td>1</td>\n",
       "      <td>0</td>\n",
       "      <td>34</td>\n",
       "      <td>8</td>\n",
       "      <td>13</td>\n",
       "      <td>5</td>\n",
       "      <td>False</td>\n",
       "      <td>False</td>\n",
       "      <td>True</td>\n",
       "      <td>False</td>\n",
       "      <td>...</td>\n",
       "      <td>13302</td>\n",
       "      <td>1</td>\n",
       "      <td>3</td>\n",
       "      <td>2019</td>\n",
       "      <td>16</td>\n",
       "      <td>50</td>\n",
       "      <td>21</td>\n",
       "      <td>35</td>\n",
       "      <td>4</td>\n",
       "      <td>45</td>\n",
       "    </tr>\n",
       "  </tbody>\n",
       "</table>\n",
       "<p>5 rows × 36 columns</p>\n",
       "</div>"
      ],
      "text/plain": [
       "   Total_Stops  Route1  Route2  Route3  Route4  Route5  Air India  GoAir  \\\n",
       "0            0       0      13      29      13       5      False  False   \n",
       "1            2       2      25       1       3       5       True  False   \n",
       "2            2       3      32       4       5       5      False  False   \n",
       "3            1       2      34       3      13       5      False  False   \n",
       "4            1       0      34       8      13       5      False  False   \n",
       "\n",
       "   IndiGo  Jet Airways  ...  Price  Journey_day  Journey_month  Journey_year  \\\n",
       "0    True        False  ...   3897           24              3          2019   \n",
       "1   False        False  ...   7662            1              5          2019   \n",
       "2   False         True  ...  13882            9              6          2019   \n",
       "3    True        False  ...   6218           12              5          2019   \n",
       "4    True        False  ...  13302            1              3          2019   \n",
       "\n",
       "   Dep_Timehours  Dep_Timeminutes  Arrival_Timehours  Arrival_Timeminutes  \\\n",
       "0             22               20                  1                   10   \n",
       "1              5               50                 13                   15   \n",
       "2              9               25                  4                   25   \n",
       "3             18                5                 23                   30   \n",
       "4             16               50                 21                   35   \n",
       "\n",
       "   Duration_hours  Duration_minute  \n",
       "0               2               50  \n",
       "1               7               25  \n",
       "2              19                0  \n",
       "3               5               25  \n",
       "4               4               45  \n",
       "\n",
       "[5 rows x 36 columns]"
      ]
     },
     "execution_count": 73,
     "metadata": {},
     "output_type": "execute_result"
    }
   ],
   "source": [
    "df.head()"
   ]
  },
  {
   "cell_type": "code",
   "execution_count": 74,
   "id": "7bad86c1",
   "metadata": {},
   "outputs": [],
   "source": [
    "#performing outliers detection in data"
   ]
  },
  {
   "cell_type": "code",
   "execution_count": 75,
   "id": "ab296254",
   "metadata": {},
   "outputs": [],
   "source": [
    "def plot(df, col):\n",
    "    fig, (ax1, ax2) = plt.subplots(2, 1)\n",
    "    sns.distplot(df[col], ax=ax1)\n",
    "    sns.boxplot(df[col], ax=ax2)"
   ]
  },
  {
   "cell_type": "code",
   "execution_count": 76,
   "id": "63a5b59a",
   "metadata": {},
   "outputs": [
    {
     "name": "stderr",
     "output_type": "stream",
     "text": [
      "C:\\Users\\rohit\\AppData\\Local\\Temp\\ipykernel_13920\\1914490626.py:3: UserWarning: \n",
      "\n",
      "`distplot` is a deprecated function and will be removed in seaborn v0.14.0.\n",
      "\n",
      "Please adapt your code to use either `displot` (a figure-level function with\n",
      "similar flexibility) or `histplot` (an axes-level function for histograms).\n",
      "\n",
      "For a guide to updating your code to use the new functions, please see\n",
      "https://gist.github.com/mwaskom/de44147ed2974457ad6372750bbe5751\n",
      "\n",
      "  sns.distplot(df[col], ax=ax1)\n"
     ]
    },
    {
     "data": {
      "image/png": "[encoded data removed]",
      "text/plain": [
       "<Figure size 640x480 with 2 Axes>"
      ]
     },
     "metadata": {},
     "output_type": "display_data"
    }
   ],
   "source": [
    "plot(df,'Price')"
   ]
  },
  {
   "cell_type": "code",
   "execution_count": 77,
   "id": "602353a4",
   "metadata": {},
   "outputs": [],
   "source": [
    "df['Price']=np.where(df['Price']>=40000,df['Price'].median(),df['Price'])"
   ]
  },
  {
   "cell_type": "code",
   "execution_count": 78,
   "id": "2138ff4f",
   "metadata": {},
   "outputs": [
    {
     "name": "stderr",
     "output_type": "stream",
     "text": [
      "C:\\Users\\rohit\\AppData\\Local\\Temp\\ipykernel_13920\\1914490626.py:3: UserWarning: \n",
      "\n",
      "`distplot` is a deprecated function and will be removed in seaborn v0.14.0.\n",
      "\n",
      "Please adapt your code to use either `displot` (a figure-level function with\n",
      "similar flexibility) or `histplot` (an axes-level function for histograms).\n",
      "\n",
      "For a guide to updating your code to use the new functions, please see\n",
      "https://gist.github.com/mwaskom/de44147ed2974457ad6372750bbe5751\n",
      "\n",
      "  sns.distplot(df[col], ax=ax1)\n"
     ]
    },
    {
     "data": {
      "image/png": "[encoded data removed]",
      "text/plain": [
       "<Figure size 640x480 with 2 Axes>"
      ]
     },
     "metadata": {},
     "output_type": "display_data"
    }
   ],
   "source": [
    "plot(df,'Price')"
   ]
  },
  {
   "cell_type": "code",
   "execution_count": 79,
   "id": "c71a3227",
   "metadata": {},
   "outputs": [
    {
     "data": {
      "text/html": [
       "<div>\n",
       "<style scoped>\n",
       "    .dataframe tbody tr th:only-of-type {\n",
       "        vertical-align: middle;\n",
       "    }\n",
       "\n",
       "    .dataframe tbody tr th {\n",
       "        vertical-align: top;\n",
       "    }\n",
       "\n",
       "    .dataframe thead th {\n",
       "        text-align: right;\n",
       "    }\n",
       "</style>\n",
       "<table border=\"1\" class=\"dataframe\">\n",
       "  <thead>\n",
       "    <tr style=\"text-align: right;\">\n",
       "      <th></th>\n",
       "      <th>Total_Stops</th>\n",
       "      <th>Route1</th>\n",
       "      <th>Route2</th>\n",
       "      <th>Route3</th>\n",
       "      <th>Route4</th>\n",
       "      <th>Route5</th>\n",
       "      <th>Air India</th>\n",
       "      <th>GoAir</th>\n",
       "      <th>IndiGo</th>\n",
       "      <th>Jet Airways</th>\n",
       "      <th>...</th>\n",
       "      <th>New Delhi</th>\n",
       "      <th>Journey_day</th>\n",
       "      <th>Journey_month</th>\n",
       "      <th>Journey_year</th>\n",
       "      <th>Dep_Timehours</th>\n",
       "      <th>Dep_Timeminutes</th>\n",
       "      <th>Arrival_Timehours</th>\n",
       "      <th>Arrival_Timeminutes</th>\n",
       "      <th>Duration_hours</th>\n",
       "      <th>Duration_minute</th>\n",
       "    </tr>\n",
       "  </thead>\n",
       "  <tbody>\n",
       "    <tr>\n",
       "      <th>0</th>\n",
       "      <td>0</td>\n",
       "      <td>0</td>\n",
       "      <td>13</td>\n",
       "      <td>29</td>\n",
       "      <td>13</td>\n",
       "      <td>5</td>\n",
       "      <td>False</td>\n",
       "      <td>False</td>\n",
       "      <td>True</td>\n",
       "      <td>False</td>\n",
       "      <td>...</td>\n",
       "      <td>True</td>\n",
       "      <td>24</td>\n",
       "      <td>3</td>\n",
       "      <td>2019</td>\n",
       "      <td>22</td>\n",
       "      <td>20</td>\n",
       "      <td>1</td>\n",
       "      <td>10</td>\n",
       "      <td>2</td>\n",
       "      <td>50</td>\n",
       "    </tr>\n",
       "    <tr>\n",
       "      <th>1</th>\n",
       "      <td>2</td>\n",
       "      <td>2</td>\n",
       "      <td>25</td>\n",
       "      <td>1</td>\n",
       "      <td>3</td>\n",
       "      <td>5</td>\n",
       "      <td>True</td>\n",
       "      <td>False</td>\n",
       "      <td>False</td>\n",
       "      <td>False</td>\n",
       "      <td>...</td>\n",
       "      <td>False</td>\n",
       "      <td>1</td>\n",
       "      <td>5</td>\n",
       "      <td>2019</td>\n",
       "      <td>5</td>\n",
       "      <td>50</td>\n",
       "      <td>13</td>\n",
       "      <td>15</td>\n",
       "      <td>7</td>\n",
       "      <td>25</td>\n",
       "    </tr>\n",
       "    <tr>\n",
       "      <th>2</th>\n",
       "      <td>2</td>\n",
       "      <td>3</td>\n",
       "      <td>32</td>\n",
       "      <td>4</td>\n",
       "      <td>5</td>\n",
       "      <td>5</td>\n",
       "      <td>False</td>\n",
       "      <td>False</td>\n",
       "      <td>False</td>\n",
       "      <td>True</td>\n",
       "      <td>...</td>\n",
       "      <td>False</td>\n",
       "      <td>9</td>\n",
       "      <td>6</td>\n",
       "      <td>2019</td>\n",
       "      <td>9</td>\n",
       "      <td>25</td>\n",
       "      <td>4</td>\n",
       "      <td>25</td>\n",
       "      <td>19</td>\n",
       "      <td>0</td>\n",
       "    </tr>\n",
       "    <tr>\n",
       "      <th>3</th>\n",
       "      <td>1</td>\n",
       "      <td>2</td>\n",
       "      <td>34</td>\n",
       "      <td>3</td>\n",
       "      <td>13</td>\n",
       "      <td>5</td>\n",
       "      <td>False</td>\n",
       "      <td>False</td>\n",
       "      <td>True</td>\n",
       "      <td>False</td>\n",
       "      <td>...</td>\n",
       "      <td>False</td>\n",
       "      <td>12</td>\n",
       "      <td>5</td>\n",
       "      <td>2019</td>\n",
       "      <td>18</td>\n",
       "      <td>5</td>\n",
       "      <td>23</td>\n",
       "      <td>30</td>\n",
       "      <td>5</td>\n",
       "      <td>25</td>\n",
       "    </tr>\n",
       "    <tr>\n",
       "      <th>4</th>\n",
       "      <td>1</td>\n",
       "      <td>0</td>\n",
       "      <td>34</td>\n",
       "      <td>8</td>\n",
       "      <td>13</td>\n",
       "      <td>5</td>\n",
       "      <td>False</td>\n",
       "      <td>False</td>\n",
       "      <td>True</td>\n",
       "      <td>False</td>\n",
       "      <td>...</td>\n",
       "      <td>True</td>\n",
       "      <td>1</td>\n",
       "      <td>3</td>\n",
       "      <td>2019</td>\n",
       "      <td>16</td>\n",
       "      <td>50</td>\n",
       "      <td>21</td>\n",
       "      <td>35</td>\n",
       "      <td>4</td>\n",
       "      <td>45</td>\n",
       "    </tr>\n",
       "  </tbody>\n",
       "</table>\n",
       "<p>5 rows × 35 columns</p>\n",
       "</div>"
      ],
      "text/plain": [
       "   Total_Stops  Route1  Route2  Route3  Route4  Route5  Air India  GoAir  \\\n",
       "0            0       0      13      29      13       5      False  False   \n",
       "1            2       2      25       1       3       5       True  False   \n",
       "2            2       3      32       4       5       5      False  False   \n",
       "3            1       2      34       3      13       5      False  False   \n",
       "4            1       0      34       8      13       5      False  False   \n",
       "\n",
       "   IndiGo  Jet Airways  ...  New Delhi  Journey_day  Journey_month  \\\n",
       "0    True        False  ...       True           24              3   \n",
       "1   False        False  ...      False            1              5   \n",
       "2   False         True  ...      False            9              6   \n",
       "3    True        False  ...      False           12              5   \n",
       "4    True        False  ...       True            1              3   \n",
       "\n",
       "   Journey_year  Dep_Timehours  Dep_Timeminutes  Arrival_Timehours  \\\n",
       "0          2019             22               20                  1   \n",
       "1          2019              5               50                 13   \n",
       "2          2019              9               25                  4   \n",
       "3          2019             18                5                 23   \n",
       "4          2019             16               50                 21   \n",
       "\n",
       "   Arrival_Timeminutes  Duration_hours  Duration_minute  \n",
       "0                   10               2               50  \n",
       "1                   15               7               25  \n",
       "2                   25              19                0  \n",
       "3                   30               5               25  \n",
       "4                   35               4               45  \n",
       "\n",
       "[5 rows x 35 columns]"
      ]
     },
     "execution_count": 79,
     "metadata": {},
     "output_type": "execute_result"
    }
   ],
   "source": [
    "#Now Prediction model\n",
    "X=df.drop('Price',axis=1)\n",
    "X.head()"
   ]
  },
  {
   "cell_type": "code",
   "execution_count": 80,
   "id": "b970897b",
   "metadata": {},
   "outputs": [
    {
     "data": {
      "text/plain": [
       "Index(['Total_Stops', 'Route1', 'Route2', 'Route3', 'Route4', 'Route5',\n",
       "       'Air India', 'GoAir', 'IndiGo', 'Jet Airways', 'Jet Airways Business',\n",
       "       'Multiple carriers', 'Multiple carriers Premium economy', 'SpiceJet',\n",
       "       'Trujet', 'Vistara', 'Vistara Premium economy', 'Chennai', 'Delhi',\n",
       "       'Kolkata', 'Mumbai', 'Cochin', 'Delhi', 'Hyderabad', 'Kolkata',\n",
       "       'New Delhi', 'Journey_day', 'Journey_month', 'Journey_year',\n",
       "       'Dep_Timehours', 'Dep_Timeminutes', 'Arrival_Timehours',\n",
       "       'Arrival_Timeminutes', 'Duration_hours', 'Duration_minute'],\n",
       "      dtype='object')"
      ]
     },
     "execution_count": 80,
     "metadata": {},
     "output_type": "execute_result"
    }
   ],
   "source": [
    "X.columns"
   ]
  },
  {
   "cell_type": "code",
   "execution_count": 81,
   "id": "1f5f19c6",
   "metadata": {},
   "outputs": [
    {
     "data": {
      "text/plain": [
       "0     3897.0\n",
       "1     7662.0\n",
       "2    13882.0\n",
       "3     6218.0\n",
       "4    13302.0\n",
       "Name: Price, dtype: float64"
      ]
     },
     "execution_count": 81,
     "metadata": {},
     "output_type": "execute_result"
    }
   ],
   "source": [
    "y=df['Price']\n",
    "y.head()"
   ]
  },
  {
   "cell_type": "code",
   "execution_count": 82,
   "id": "e2b4ec8c",
   "metadata": {},
   "outputs": [],
   "source": [
    "#feature selection so that the column which has greater effect on price will be more preferrable\n",
    "#so multiple column problem solved"
   ]
  },
  {
   "cell_type": "code",
   "execution_count": 83,
   "id": "b9c0bafe",
   "metadata": {},
   "outputs": [],
   "source": [
    "#from sklearn.feature_selection import mutual_info_classif"
   ]
  },
  {
   "cell_type": "code",
   "execution_count": 84,
   "id": "e4544e16",
   "metadata": {},
   "outputs": [],
   "source": [
    "#mutual_info_classif(X,y)"
   ]
  },
  {
   "cell_type": "code",
   "execution_count": 85,
   "id": "1965b7e9",
   "metadata": {},
   "outputs": [],
   "source": [
    "#imp=pd.DataFrame(mutual_info_classif(X,y))"
   ]
  },
  {
   "cell_type": "code",
   "execution_count": 86,
   "id": "610476ae",
   "metadata": {},
   "outputs": [],
   "source": [
    "#imp.head()"
   ]
  },
  {
   "cell_type": "code",
   "execution_count": 87,
   "id": "1df87333",
   "metadata": {},
   "outputs": [],
   "source": [
    "#imp.columns=['importance']"
   ]
  },
  {
   "cell_type": "code",
   "execution_count": 88,
   "id": "58d1de09",
   "metadata": {},
   "outputs": [],
   "source": [
    "#imp.sort_values(by='importance',ascending=False)"
   ]
  },
  {
   "cell_type": "code",
   "execution_count": 89,
   "id": "fad3a9a3",
   "metadata": {},
   "outputs": [],
   "source": [
    "from sklearn.model_selection import train_test_split"
   ]
  },
  {
   "cell_type": "code",
   "execution_count": 90,
   "id": "b9559c07",
   "metadata": {},
   "outputs": [],
   "source": [
    "X_train, X_test, y_train, y_test = train_test_split(X, y, test_size=0.2, random_state=42)"
   ]
  },
  {
   "cell_type": "code",
   "execution_count": 91,
   "id": "b70f4178",
   "metadata": {},
   "outputs": [],
   "source": [
    "from sklearn.metrics import classification_report,confusion_matrix"
   ]
  },
  {
   "cell_type": "code",
   "execution_count": 92,
   "id": "9199a77c",
   "metadata": {},
   "outputs": [],
   "source": [
    "def pred(algo):\n",
    "    model=algo.fit(X_train,y_train)\n",
    "    predictions=model.predict(X_test)\n",
    "    print(classification_report(y_test,predictions))\n",
    "    print('\\n')\n",
    "    print(confusion_matrix(y_test,predictions))"
   ]
  },
  {
   "cell_type": "code",
   "execution_count": 93,
   "id": "618b19b2",
   "metadata": {},
   "outputs": [],
   "source": [
    "from sklearn.ensemble import RandomForestClassifier"
   ]
  },
  {
   "cell_type": "code",
   "execution_count": 94,
   "id": "9b499e43",
   "metadata": {},
   "outputs": [],
   "source": [
    "rf=RandomForestClassifier(n_estimators=100)"
   ]
  },
  {
   "cell_type": "code",
   "execution_count": 95,
   "id": "5c80efda",
   "metadata": {},
   "outputs": [
    {
     "data": {
      "text/html": [
       "<style>#sk-container-id-1 {color: black;}#sk-container-id-1 pre{padding: 0;}#sk-container-id-1 div.sk-toggleable {background-color: white;}#sk-container-id-1 label.sk-toggleable__label {cursor: pointer;display: block;width: 100%;margin-bottom: 0;padding: 0.3em;box-sizing: border-box;text-align: center;}#sk-container-id-1 label.sk-toggleable__label-arrow:before {content: \"▸\";float: left;margin-right: 0.25em;color: #696969;}#sk-container-id-1 label.sk-toggleable__label-arrow:hover:before {color: black;}#sk-container-id-1 div.sk-estimator:hover label.sk-toggleable__label-arrow:before {color: black;}#sk-container-id-1 div.sk-toggleable__content {max-height: 0;max-width: 0;overflow: hidden;text-align: left;background-color: #f0f8ff;}#sk-container-id-1 div.sk-toggleable__content pre {margin: 0.2em;color: black;border-radius: 0.25em;background-color: #f0f8ff;}#sk-container-id-1 input.sk-toggleable__control:checked~div.sk-toggleable__content {max-height: 200px;max-width: 100%;overflow: auto;}#sk-container-id-1 input.sk-toggleable__control:checked~label.sk-toggleable__label-arrow:before {content: \"▾\";}#sk-container-id-1 div.sk-estimator input.sk-toggleable__control:checked~label.sk-toggleable__label {background-color: #d4ebff;}#sk-container-id-1 div.sk-label input.sk-toggleable__control:checked~label.sk-toggleable__label {background-color: #d4ebff;}#sk-container-id-1 input.sk-hidden--visually {border: 0;clip: rect(1px 1px 1px 1px);clip: rect(1px, 1px, 1px, 1px);height: 1px;margin: -1px;overflow: hidden;padding: 0;position: absolute;width: 1px;}#sk-container-id-1 div.sk-estimator {font-family: monospace;background-color: #f0f8ff;border: 1px dotted black;border-radius: 0.25em;box-sizing: border-box;margin-bottom: 0.5em;}#sk-container-id-1 div.sk-estimator:hover {background-color: #d4ebff;}#sk-container-id-1 div.sk-parallel-item::after {content: \"\";width: 100%;border-bottom: 1px solid gray;flex-grow: 1;}#sk-container-id-1 div.sk-label:hover label.sk-toggleable__label {background-color: #d4ebff;}#sk-container-id-1 div.sk-serial::before {content: \"\";position: absolute;border-left: 1px solid gray;box-sizing: border-box;top: 0;bottom: 0;left: 50%;z-index: 0;}#sk-container-id-1 div.sk-serial {display: flex;flex-direction: column;align-items: center;background-color: white;padding-right: 0.2em;padding-left: 0.2em;position: relative;}#sk-container-id-1 div.sk-item {position: relative;z-index: 1;}#sk-container-id-1 div.sk-parallel {display: flex;align-items: stretch;justify-content: center;background-color: white;position: relative;}#sk-container-id-1 div.sk-item::before, #sk-container-id-1 div.sk-parallel-item::before {content: \"\";position: absolute;border-left: 1px solid gray;box-sizing: border-box;top: 0;bottom: 0;left: 50%;z-index: -1;}#sk-container-id-1 div.sk-parallel-item {display: flex;flex-direction: column;z-index: 1;position: relative;background-color: white;}#sk-container-id-1 div.sk-parallel-item:first-child::after {align-self: flex-end;width: 50%;}#sk-container-id-1 div.sk-parallel-item:last-child::after {align-self: flex-start;width: 50%;}#sk-container-id-1 div.sk-parallel-item:only-child::after {width: 0;}#sk-container-id-1 div.sk-dashed-wrapped {border: 1px dashed gray;margin: 0 0.4em 0.5em 0.4em;box-sizing: border-box;padding-bottom: 0.4em;background-color: white;}#sk-container-id-1 div.sk-label label {font-family: monospace;font-weight: bold;display: inline-block;line-height: 1.2em;}#sk-container-id-1 div.sk-label-container {text-align: center;}#sk-container-id-1 div.sk-container {/* jupyter's `normalize.less` sets `[hidden] { display: none; }` but bootstrap.min.css set `[hidden] { display: none !important; }` so we also need the `!important` here to be able to override the default hidden behavior on the sphinx rendered scikit-learn.org. See: https://github.com/scikit-learn/scikit-learn/issues/21755 */display: inline-block !important;position: relative;}#sk-container-id-1 div.sk-text-repr-fallback {display: none;}</style><div id=\"sk-container-id-1\" class=\"sk-top-container\"><div class=\"sk-text-repr-fallback\"><pre>RandomForestClassifier()</pre><b>In a Jupyter environment, please rerun this cell to show the HTML representation or trust the notebook. <br />On GitHub, the HTML representation is unable to render, please try loading this page with nbviewer.org.</b></div><div class=\"sk-container\" hidden><div class=\"sk-item\"><div class=\"sk-estimator sk-toggleable\"><input class=\"sk-toggleable__control sk-hidden--visually\" id=\"sk-estimator-id-1\" type=\"checkbox\" checked><label for=\"sk-estimator-id-1\" class=\"sk-toggleable__label sk-toggleable__label-arrow\">RandomForestClassifier</label><div class=\"sk-toggleable__content\"><pre>RandomForestClassifier()</pre></div></div></div></div></div>"
      ],
      "text/plain": [
       "RandomForestClassifier()"
      ]
     },
     "execution_count": 95,
     "metadata": {},
     "output_type": "execute_result"
    }
   ],
   "source": [
    "rf.fit(X_train,y_train)"
   ]
  },
  {
   "cell_type": "code",
   "execution_count": 96,
   "id": "274dabbe",
   "metadata": {},
   "outputs": [],
   "source": [
    "predictions=rf.predict(X_test)"
   ]
  },
  {
   "cell_type": "code",
   "execution_count": 97,
   "id": "25746c89",
   "metadata": {},
   "outputs": [
    {
     "name": "stdout",
     "output_type": "stream",
     "text": [
      "              precision    recall  f1-score   support\n",
      "\n",
      "      1965.0       0.20      0.43      0.27         7\n",
      "      2017.0       0.33      0.14      0.20        14\n",
      "      2050.0       0.50      1.00      0.67         1\n",
      "      2071.0       0.00      0.00      0.00         1\n",
      "      2175.0       0.00      0.00      0.00         1\n",
      "      2227.0       1.00      0.75      0.86        12\n",
      "      2228.0       0.00      0.00      0.00         3\n",
      "      2385.0       0.25      1.00      0.40         1\n",
      "      2437.0       0.00      0.00      0.00         1\n",
      "      2575.0       1.00      1.00      1.00         1\n",
      "      2647.0       0.00      0.00      0.00         2\n",
      "      2753.0       0.00      0.00      0.00         0\n",
      "      2754.0       0.64      0.78      0.70         9\n",
      "      2759.0       0.00      0.00      0.00         3\n",
      "      3100.0       0.94      0.94      0.94        16\n",
      "      3173.0       0.00      0.00      0.00         1\n",
      "      3175.0       1.00      0.60      0.75         5\n",
      "      3205.0       0.00      0.00      0.00         0\n",
      "      3210.0       0.20      0.33      0.25         3\n",
      "      3257.0       0.00      0.00      0.00         2\n",
      "      3311.0       0.00      0.00      0.00         2\n",
      "      3332.0       0.00      0.00      0.00         1\n",
      "      3342.0       0.00      0.00      0.00         0\n",
      "      3359.0       0.00      0.00      0.00         0\n",
      "      3383.0       0.50      0.56      0.53         9\n",
      "      3384.0       0.00      0.00      0.00         1\n",
      "      3398.0       0.00      0.00      0.00         0\n",
      "      3419.0       0.64      0.47      0.54        15\n",
      "      3480.0       0.00      0.00      0.00         0\n",
      "      3540.0       0.83      1.00      0.91         5\n",
      "      3543.0       0.29      0.29      0.29         7\n",
      "      3573.0       0.00      0.00      0.00         1\n",
      "      3574.0       0.00      0.00      0.00         1\n",
      "      3579.0       0.00      0.00      0.00         0\n",
      "      3597.0       0.57      0.62      0.59        13\n",
      "      3625.0       0.00      0.00      0.00         3\n",
      "      3670.0       0.00      0.00      0.00         0\n",
      "      3687.0       1.00      1.00      1.00         4\n",
      "      3702.0       0.00      0.00      0.00         0\n",
      "      3717.0       0.00      0.00      0.00         1\n",
      "      3807.0       0.67      0.33      0.44         6\n",
      "      3809.0       1.00      1.00      1.00         1\n",
      "      3815.0       0.00      0.00      0.00         1\n",
      "      3838.0       0.00      0.00      0.00         1\n",
      "      3841.0       0.15      0.10      0.12        21\n",
      "      3847.0       0.00      0.00      0.00         3\n",
      "      3849.0       0.00      0.00      0.00         0\n",
      "      3850.0       1.00      0.50      0.67         4\n",
      "      3858.0       0.80      0.57      0.67         7\n",
      "      3859.0       0.00      0.00      0.00         1\n",
      "      3873.0       0.26      0.33      0.29        15\n",
      "      3876.0       0.00      0.00      0.00         0\n",
      "      3897.0       0.00      0.00      0.00         1\n",
      "      3898.0       0.50      0.25      0.33         4\n",
      "      3919.0       0.00      0.00      0.00         7\n",
      "      3943.0       0.62      0.59      0.61        17\n",
      "      3948.0       0.00      0.00      0.00         1\n",
      "      3971.0       0.00      0.00      0.00         1\n",
      "      4030.0       0.00      0.00      0.00         6\n",
      "      4049.0       1.00      0.60      0.75        10\n",
      "      4050.0       0.00      0.00      0.00         5\n",
      "      4077.0       0.00      0.00      0.00         3\n",
      "      4098.0       0.00      0.00      0.00         0\n",
      "      4106.0       0.00      0.00      0.00         1\n",
      "      4107.0       0.00      0.00      0.00         2\n",
      "      4129.0       0.00      0.00      0.00         1\n",
      "      4145.0       0.60      1.00      0.75         3\n",
      "      4148.0       0.75      0.60      0.67         5\n",
      "      4160.0       0.00      0.00      0.00         0\n",
      "      4174.0       0.31      0.36      0.33        11\n",
      "      4201.0       0.00      0.00      0.00         1\n",
      "      4226.0       1.00      1.00      1.00         1\n",
      "      4227.0       0.00      0.00      0.00         3\n",
      "      4238.0       0.00      0.00      0.00         0\n",
      "      4239.0       0.50      1.00      0.67         1\n",
      "      4259.0       0.00      0.00      0.00         0\n",
      "      4268.0       0.00      0.00      0.00         1\n",
      "      4273.0       0.00      0.00      0.00         1\n",
      "      4282.0       0.80      1.00      0.89         4\n",
      "      4284.0       0.00      0.00      0.00         0\n",
      "      4319.0       0.00      0.00      0.00         3\n",
      "      4332.0       0.00      0.00      0.00         0\n",
      "      4340.0       0.00      0.00      0.00         2\n",
      "      4377.0       0.00      0.00      0.00         1\n",
      "      4384.0       0.67      0.67      0.67         3\n",
      "      4391.0       0.00      0.00      0.00         0\n",
      "      4405.0       0.00      0.00      0.00         2\n",
      "      4409.0       0.67      0.44      0.53         9\n",
      "      4413.0       0.00      0.00      0.00         2\n",
      "      4414.0       0.00      0.00      0.00         1\n",
      "      4423.0       0.57      0.27      0.36        15\n",
      "      4435.0       1.00      1.00      1.00         2\n",
      "      4437.0       0.00      0.00      0.00         1\n",
      "      4439.0       0.00      0.00      0.00         0\n",
      "      4441.0       0.33      0.50      0.40         2\n",
      "      4460.0       1.00      1.00      1.00         1\n",
      "      4462.0       0.00      0.00      0.00         2\n",
      "      4465.0       0.00      0.00      0.00         1\n",
      "      4466.0       0.00      0.00      0.00         0\n",
      "      4483.0       0.25      0.17      0.20         6\n",
      "      4487.0       1.00      1.00      1.00         1\n",
      "      4488.0       0.00      0.00      0.00         0\n",
      "      4491.0       0.00      0.00      0.00         1\n",
      "      4508.0       0.00      0.00      0.00         1\n",
      "      4544.0       0.00      0.00      0.00         6\n",
      "      4563.0       0.00      0.00      0.00         1\n",
      "      4565.0       0.00      0.00      0.00         1\n",
      "      4575.0       0.00      0.00      0.00         1\n",
      "      4591.0       0.33      1.00      0.50         3\n",
      "      4622.0       0.00      0.00      0.00         2\n",
      "      4632.0       0.00      0.00      0.00         0\n",
      "      4647.0       0.00      0.00      0.00         0\n",
      "      4649.0       0.67      0.50      0.57         4\n",
      "      4667.0       1.00      1.00      1.00         3\n",
      "      4668.0       0.78      0.88      0.82         8\n",
      "      4692.0       0.00      0.00      0.00         1\n",
      "      4697.0       0.00      0.00      0.00         0\n",
      "      4729.0       1.00      0.33      0.50         3\n",
      "      4744.0       0.00      0.00      0.00         0\n",
      "      4760.0       0.00      0.00      0.00         1\n",
      "      4775.0       0.00      0.00      0.00         0\n",
      "      4777.0       0.50      0.25      0.33         4\n",
      "      4778.0       0.00      0.00      0.00         1\n",
      "      4784.0       0.00      0.00      0.00         0\n",
      "      4804.0       0.87      0.97      0.92        34\n",
      "      4812.0       0.00      0.00      0.00         2\n",
      "      4823.0       0.92      0.96      0.94        25\n",
      "      4839.0       0.00      0.00      0.00         1\n",
      "      4860.0       0.00      0.00      0.00         0\n",
      "      4878.0       0.83      0.71      0.77         7\n",
      "      4880.0       0.00      0.00      0.00         2\n",
      "      4885.0       0.00      0.00      0.00         2\n",
      "      4886.0       0.00      0.00      0.00         2\n",
      "      4937.0       0.00      0.00      0.00         0\n",
      "      4939.0       0.00      0.00      0.00         1\n",
      "      4943.0       0.00      0.00      0.00         0\n",
      "      4945.0       0.00      0.00      0.00         0\n",
      "      4957.0       0.00      0.00      0.00         2\n",
      "      4959.0       1.00      1.00      1.00         1\n",
      "      4963.0       0.00      0.00      0.00         1\n",
      "      4966.0       0.00      0.00      0.00         1\n",
      "      4990.0       0.50      0.25      0.33         4\n",
      "      4991.0       0.00      0.00      0.00         0\n",
      "      4995.0       0.11      0.11      0.11         9\n",
      "      5000.0       0.50      1.00      0.67         1\n",
      "      5013.0       0.00      0.00      0.00         0\n",
      "      5021.0       0.00      0.00      0.00         2\n",
      "      5022.0       0.00      0.00      0.00         1\n",
      "      5054.0       1.00      1.00      1.00         2\n",
      "      5065.0       0.00      0.00      0.00         1\n",
      "      5069.0       1.00      1.00      1.00         2\n",
      "      5073.0       1.00      0.67      0.80         3\n",
      "      5088.0       0.00      0.00      0.00         2\n",
      "      5092.0       0.00      0.00      0.00         1\n",
      "      5117.0       0.00      0.00      0.00         3\n",
      "      5126.0       0.00      0.00      0.00         2\n",
      "      5135.0       0.00      0.00      0.00         0\n",
      "      5140.0       0.00      0.00      0.00         0\n",
      "      5158.0       0.00      0.00      0.00         1\n",
      "      5162.0       0.00      0.00      0.00         2\n",
      "      5164.0       0.00      0.00      0.00         1\n",
      "      5170.0       1.00      0.50      0.67         2\n",
      "      5171.0       0.00      0.00      0.00         1\n",
      "      5176.0       0.00      0.00      0.00         2\n",
      "      5177.0       1.00      0.67      0.80         3\n",
      "      5192.0       0.75      1.00      0.86         3\n",
      "      5195.0       0.00      0.00      0.00         1\n",
      "      5198.0       0.00      0.00      0.00         5\n",
      "      5199.0       0.00      0.00      0.00         1\n",
      "      5201.0       0.40      0.67      0.50         3\n",
      "      5216.0       0.00      0.00      0.00         0\n",
      "      5221.0       0.00      0.00      0.00         0\n",
      "      5224.0       0.80      0.67      0.73         6\n",
      "      5228.0       0.57      0.57      0.57         7\n",
      "      5277.0       0.60      1.00      0.75         3\n",
      "      5281.0       0.00      0.00      0.00         0\n",
      "      5298.0       0.50      0.50      0.50         2\n",
      "      5320.0       0.00      0.00      0.00         1\n",
      "      5351.0       0.00      0.00      0.00         0\n",
      "      5403.0       0.50      1.00      0.67         4\n",
      "      5406.0       0.50      0.67      0.57         3\n",
      "      5409.0       0.00      0.00      0.00         0\n",
      "      5411.0       0.00      0.00      0.00         0\n",
      "      5430.0       0.00      0.00      0.00         1\n",
      "      5438.0       0.00      0.00      0.00         2\n",
      "      5443.0       0.00      0.00      0.00         1\n",
      "      5510.0       0.00      0.00      0.00         2\n",
      "      5515.0       1.00      0.67      0.80         3\n",
      "      5521.0       0.00      0.00      0.00         1\n",
      "      5530.0       0.00      0.00      0.00         1\n",
      "      5554.0       0.00      0.00      0.00         1\n",
      "      5601.0       0.00      0.00      0.00         1\n",
      "      5608.0       0.00      0.00      0.00         0\n",
      "      5613.0       0.60      0.60      0.60         5\n",
      "      5618.0       0.00      0.00      0.00         1\n",
      "      5620.0       0.00      0.00      0.00         1\n",
      "      5621.0       0.00      0.00      0.00         1\n",
      "      5626.0       0.00      0.00      0.00         2\n",
      "      5628.0       0.00      0.00      0.00         1\n",
      "      5636.0       1.00      1.00      1.00         2\n",
      "      5642.0       0.00      0.00      0.00         0\n",
      "      5644.0       0.00      0.00      0.00         4\n",
      "      5645.0       0.00      0.00      0.00         0\n",
      "      5673.0       0.00      0.00      0.00         0\n",
      "      5674.0       0.00      0.00      0.00         0\n",
      "      5678.0       0.20      0.27      0.23        11\n",
      "      5683.0       0.00      0.00      0.00         0\n",
      "      5684.0       0.00      0.00      0.00         0\n",
      "      5694.0       0.00      0.00      0.00         5\n",
      "      5699.0       1.00      1.00      1.00         1\n",
      "      5704.0       0.00      0.00      0.00         0\n",
      "      5734.0       0.00      0.00      0.00         1\n",
      "      5747.0       0.00      0.00      0.00         0\n",
      "      5752.0       0.00      0.00      0.00         0\n",
      "      5755.0       0.00      0.00      0.00         1\n",
      "      5761.0       0.00      0.00      0.00         0\n",
      "      5769.0       0.00      0.00      0.00         8\n",
      "      5775.0       1.00      0.50      0.67         2\n",
      "      5796.0       0.00      0.00      0.00         0\n",
      "      5797.0       0.00      0.00      0.00         1\n",
      "      5822.0       0.00      0.00      0.00         1\n",
      "      5831.0       0.00      0.00      0.00         1\n",
      "      5842.0       0.00      0.00      0.00         0\n",
      "      5883.0       0.67      0.33      0.44         6\n",
      "      5894.0       1.00      1.00      1.00         1\n",
      "      5895.0       0.00      0.00      0.00         1\n",
      "      5911.0       0.00      0.00      0.00         0\n",
      "      5912.0       0.00      0.00      0.00         1\n",
      "      5935.0       0.00      0.00      0.00         1\n",
      "      5944.0       0.00      0.00      0.00         1\n",
      "      5963.0       0.00      0.00      0.00         3\n",
      "      5964.0       0.00      0.00      0.00         0\n",
      "      5969.0       0.00      0.00      0.00         1\n",
      "      5975.0       0.00      0.00      0.00         2\n",
      "      5989.0       0.00      0.00      0.00         0\n",
      "      5998.0       1.00      1.00      1.00         1\n",
      "      5999.0       0.00      0.00      0.00         0\n",
      "      6015.0       0.50      0.33      0.40         3\n",
      "      6017.0       0.00      0.00      0.00         2\n",
      "      6027.0       0.00      0.00      0.00         3\n",
      "      6046.0       0.00      0.00      0.00         1\n",
      "      6058.0       0.00      0.00      0.00         1\n",
      "      6064.0       0.00      0.00      0.00         0\n",
      "      6065.0       0.00      0.00      0.00         2\n",
      "      6069.0       0.50      1.00      0.67         1\n",
      "      6076.0       0.00      0.00      0.00         1\n",
      "      6092.0       0.00      0.00      0.00         1\n",
      "      6093.0       0.60      0.60      0.60         5\n",
      "      6094.0       0.50      0.20      0.29         5\n",
      "      6104.0       0.33      1.00      0.50         1\n",
      "      6106.0       0.00      0.00      0.00         1\n",
      "      6112.0       0.00      0.00      0.00         0\n",
      "      6117.0       0.50      1.00      0.67         4\n",
      "      6121.0       0.56      0.83      0.67         6\n",
      "      6128.0       0.00      0.00      0.00         1\n",
      "      6144.0       0.33      0.33      0.33         3\n",
      "      6146.0       0.00      0.00      0.00         0\n",
      "      6147.0       0.50      0.67      0.57         3\n",
      "      6148.0       0.00      0.00      0.00         0\n",
      "      6151.0       1.00      1.00      1.00         1\n",
      "      6152.0       0.00      0.00      0.00         1\n",
      "      6171.0       0.50      0.67      0.57         3\n",
      "      6195.0       0.00      0.00      0.00         0\n",
      "      6197.0       0.00      0.00      0.00         1\n",
      "      6205.0       0.00      0.00      0.00         1\n",
      "      6206.0       0.00      0.00      0.00         2\n",
      "      6216.0       0.60      1.00      0.75         3\n",
      "      6218.0       1.00      0.50      0.67         2\n",
      "      6220.0       0.00      0.00      0.00         0\n",
      "      6224.0       0.00      0.00      0.00         1\n",
      "      6232.0       0.00      0.00      0.00         0\n",
      "      6245.0       0.00      0.00      0.00         2\n",
      "      6251.0       0.00      0.00      0.00         0\n",
      "      6253.0       0.00      0.00      0.00         1\n",
      "      6270.0       0.00      0.00      0.00         0\n",
      "      6273.0       0.00      0.00      0.00         1\n",
      "      6276.0       0.00      0.00      0.00         1\n",
      "      6287.0       0.00      0.00      0.00         2\n",
      "      6297.0       1.00      0.60      0.75         5\n",
      "      6300.0       1.00      0.75      0.86         4\n",
      "      6305.0       0.00      0.00      0.00         2\n",
      "      6309.0       0.00      0.00      0.00         1\n",
      "      6314.0       0.00      0.00      0.00         1\n",
      "      6315.0       0.00      0.00      0.00         0\n",
      "      6316.0       0.00      0.00      0.00         1\n",
      "      6327.0       0.00      0.00      0.00         2\n",
      "      6351.0       0.00      0.00      0.00         1\n",
      "      6358.0       0.00      0.00      0.00         0\n",
      "      6416.0       1.00      0.50      0.67         2\n",
      "      6442.0       0.89      0.73      0.80        11\n",
      "      6478.0       0.00      0.00      0.00         3\n",
      "      6484.0       0.00      0.00      0.00         0\n",
      "      6493.0       0.00      0.00      0.00         2\n",
      "      6496.0       1.00      0.50      0.67         2\n",
      "      6513.0       0.50      1.00      0.67         1\n",
      "      6528.0       0.33      1.00      0.50         1\n",
      "      6540.0       0.00      0.00      0.00         1\n",
      "      6541.0       0.00      0.00      0.00         0\n",
      "      6542.0       0.50      1.00      0.67         1\n",
      "      6558.0       0.00      0.00      0.00         0\n",
      "      6565.0       0.67      0.67      0.67         3\n",
      "      6582.0       1.00      1.00      1.00         1\n",
      "      6587.0       0.00      0.00      0.00         1\n",
      "      6591.0       0.00      0.00      0.00         2\n",
      "      6600.0       0.00      0.00      0.00         1\n",
      "      6601.0       0.00      0.00      0.00         1\n",
      "      6610.0       0.00      0.00      0.00         0\n",
      "      6628.0       0.33      0.50      0.40         2\n",
      "      6630.0       0.00      0.00      0.00         0\n",
      "      6643.0       0.00      0.00      0.00         1\n",
      "      6645.0       0.00      0.00      0.00         2\n",
      "      6653.0       0.00      0.00      0.00         0\n",
      "      6673.0       0.00      0.00      0.00         0\n",
      "      6674.0       0.00      0.00      0.00         1\n",
      "      6688.0       0.00      0.00      0.00         0\n",
      "      6692.0       0.00      0.00      0.00         0\n",
      "      6704.0       0.00      0.00      0.00         0\n",
      "      6717.0       0.00      0.00      0.00         0\n",
      "      6723.0       0.00      0.00      0.00         1\n",
      "      6724.0       0.00      0.00      0.00         1\n",
      "      6741.0       0.00      0.00      0.00         3\n",
      "      6752.0       1.00      1.00      1.00         1\n",
      "      6758.0       0.00      0.00      0.00         0\n",
      "      6781.0       0.00      0.00      0.00         0\n",
      "      6790.0       0.00      0.00      0.00         1\n",
      "      6794.0       0.00      0.00      0.00         0\n",
      "      6795.0       0.33      0.33      0.33         3\n",
      "      6810.0       0.00      0.00      0.00         1\n",
      "      6818.0       0.50      0.33      0.40         3\n",
      "      6834.0       0.00      0.00      0.00         0\n",
      "      6838.0       0.00      0.00      0.00         1\n",
      "      6841.0       0.00      0.00      0.00         1\n",
      "      6850.0       0.00      0.00      0.00         0\n",
      "      6853.0       0.00      0.00      0.00         2\n",
      "      6857.0       0.00      0.00      0.00         1\n",
      "      6860.0       0.25      0.67      0.36         3\n",
      "      6881.0       0.00      0.00      0.00         0\n",
      "      6883.0       1.00      0.50      0.67         2\n",
      "      6896.0       0.00      0.00      0.00         1\n",
      "      6901.0       0.00      0.00      0.00         1\n",
      "      6902.0       0.00      0.00      0.00         0\n",
      "      6916.0       0.00      0.00      0.00         0\n",
      "      6934.0       0.00      0.00      0.00         1\n",
      "      6937.0       0.00      0.00      0.00         0\n",
      "      6938.0       1.00      0.60      0.75         5\n",
      "      6943.0       0.00      0.00      0.00         1\n",
      "      6953.0       0.00      0.00      0.00         0\n",
      "      6955.0       1.00      1.00      1.00         1\n",
      "      6961.0       1.00      0.56      0.71         9\n",
      "      6968.0       0.00      0.00      0.00         1\n",
      "      6979.0       0.33      0.33      0.33         3\n",
      "      6985.0       0.00      0.00      0.00         1\n",
      "      6991.0       0.00      0.00      0.00         1\n",
      "      7005.0       0.80      0.67      0.73         6\n",
      "      7006.0       0.00      0.00      0.00         0\n",
      "      7031.0       0.00      0.00      0.00         0\n",
      "      7038.0       0.33      0.50      0.40         2\n",
      "      7048.0       0.00      0.00      0.00         2\n",
      "      7050.0       0.00      0.00      0.00         0\n",
      "      7060.0       0.00      0.00      0.00         0\n",
      "      7064.0       0.44      0.36      0.40        11\n",
      "      7080.0       0.00      0.00      0.00         1\n",
      "      7081.0       0.00      0.00      0.00         1\n",
      "      7082.0       0.00      0.00      0.00         0\n",
      "      7084.0       0.00      0.00      0.00         1\n",
      "      7090.0       0.00      0.00      0.00         1\n",
      "      7095.0       0.00      0.00      0.00         0\n",
      "      7107.0       0.00      0.00      0.00         1\n",
      "      7110.0       0.00      0.00      0.00         0\n",
      "      7153.0       0.00      0.00      0.00         1\n",
      "      7154.0       0.00      0.00      0.00         2\n",
      "      7155.0       0.50      1.00      0.67         1\n",
      "      7160.0       0.00      0.00      0.00         1\n",
      "      7164.0       0.00      0.00      0.00         1\n",
      "      7166.0       0.00      0.00      0.00         2\n",
      "      7171.0       0.00      0.00      0.00         0\n",
      "      7174.0       1.00      0.50      0.67         2\n",
      "      7185.0       0.00      0.00      0.00         1\n",
      "      7189.0       0.00      0.00      0.00         0\n",
      "      7191.0       0.00      0.00      0.00         3\n",
      "      7192.0       0.00      0.00      0.00         0\n",
      "      7198.0       0.25      0.33      0.29         3\n",
      "      7202.0       0.33      0.17      0.22         6\n",
      "      7229.0       0.20      0.23      0.22        30\n",
      "      7252.0       0.00      0.00      0.00         0\n",
      "      7255.0       0.00      0.00      0.00         1\n",
      "      7258.0       0.00      0.00      0.00         1\n",
      "      7268.0       1.00      1.00      1.00         1\n",
      "      7276.0       0.00      0.00      0.00         2\n",
      "      7295.0       1.00      1.00      1.00         4\n",
      "      7298.0       0.00      0.00      0.00         1\n",
      "      7308.0       0.00      0.00      0.00         1\n",
      "      7317.0       0.00      0.00      0.00         0\n",
      "      7318.0       0.00      0.00      0.00         0\n",
      "      7354.0       0.40      0.50      0.44         4\n",
      "      7378.0       0.00      0.00      0.00         1\n",
      "      7398.0       0.00      0.00      0.00         0\n",
      "      7408.0       0.00      0.00      0.00         9\n",
      "      7414.0       0.00      0.00      0.00         0\n",
      "      7417.0       0.00      0.00      0.00         0\n",
      "      7438.0       0.00      0.00      0.00         1\n",
      "      7450.0       0.00      0.00      0.00         0\n",
      "      7451.0       0.00      0.00      0.00         1\n",
      "      7452.0       0.00      0.00      0.00         1\n",
      "      7468.0       0.00      0.00      0.00         0\n",
      "      7476.0       0.00      0.00      0.00         1\n",
      "      7480.0       0.83      0.83      0.83         6\n",
      "      7485.0       0.00      0.00      0.00         3\n",
      "      7503.0       0.00      0.00      0.00         4\n",
      "      7514.0       0.00      0.00      0.00         0\n",
      "      7530.0       0.00      0.00      0.00         2\n",
      "      7531.0       0.00      0.00      0.00         1\n",
      "      7563.0       0.00      0.00      0.00         2\n",
      "      7564.0       0.00      0.00      0.00         0\n",
      "      7574.0       0.00      0.00      0.00         1\n",
      "      7575.0       0.00      0.00      0.00         1\n",
      "      7591.0       1.00      0.33      0.50         3\n",
      "      7605.0       0.00      0.00      0.00         1\n",
      "      7608.0       1.00      0.50      0.67         2\n",
      "      7618.0       0.00      0.00      0.00         3\n",
      "      7640.0       0.00      0.00      0.00         0\n",
      "      7648.0       0.00      0.00      0.00         2\n",
      "      7652.0       0.00      0.00      0.00         0\n",
      "      7662.0       0.50      1.00      0.67         1\n",
      "      7664.0       1.00      1.00      1.00         1\n",
      "      7670.0       0.00      0.00      0.00         1\n",
      "      7673.0       1.00      0.50      0.67         2\n",
      "      7690.0       0.00      0.00      0.00         0\n",
      "      7695.0       0.50      1.00      0.67         1\n",
      "      7723.0       0.00      0.00      0.00         1\n",
      "      7725.0       1.00      1.00      1.00         1\n",
      "      7738.0       1.00      1.00      1.00         1\n",
      "      7740.0       0.00      0.00      0.00         1\n",
      "      7742.0       0.00      0.00      0.00         0\n",
      "      7757.0       0.00      0.00      0.00         2\n",
      "      7770.0       0.00      0.00      0.00         0\n",
      "      7787.0       0.00      0.00      0.00         1\n",
      "      7791.0       0.00      0.00      0.00         1\n",
      "      7795.0       0.00      0.00      0.00         1\n",
      "      7804.0       0.00      0.00      0.00         1\n",
      "      7826.0       0.00      0.00      0.00         1\n",
      "      7832.0       1.00      1.00      1.00         5\n",
      "      7845.0       0.00      0.00      0.00         0\n",
      "      7851.0       0.00      0.00      0.00         0\n",
      "      7858.0       0.00      0.00      0.00         0\n",
      "      7870.0       0.00      0.00      0.00         1\n",
      "      7872.0       0.00      0.00      0.00         1\n",
      "      7878.0       0.00      0.00      0.00         1\n",
      "      7886.0       0.00      0.00      0.00         0\n",
      "      7888.0       0.50      1.00      0.67         1\n",
      "      7893.0       0.67      0.67      0.67         3\n",
      "      7894.0       0.00      0.00      0.00         0\n",
      "      7904.0       0.00      0.00      0.00         1\n",
      "      7923.0       0.00      0.00      0.00         2\n",
      "      7927.0       0.00      0.00      0.00         4\n",
      "      7933.0       0.00      0.00      0.00         2\n",
      "      7934.0       0.00      0.00      0.00         2\n",
      "      7947.0       0.00      0.00      0.00         1\n",
      "      7952.0       0.00      0.00      0.00         3\n",
      "      7975.0       0.00      0.00      0.00         1\n",
      "      7997.0       0.00      0.00      0.00         0\n",
      "      8001.0       0.00      0.00      0.00         1\n",
      "      8016.0       0.11      0.20      0.14        10\n",
      "      8025.0       0.00      0.00      0.00         1\n",
      "      8028.0       0.00      0.00      0.00         0\n",
      "      8033.0       0.00      0.00      0.00         1\n",
      "      8040.0       0.00      0.00      0.00         7\n",
      "      8052.0       0.00      0.00      0.00         0\n",
      "      8055.0       0.00      0.00      0.00         2\n",
      "      8066.0       0.00      0.00      0.00         1\n",
      "      8073.0       0.33      0.50      0.40         2\n",
      "      8085.0       0.33      1.00      0.50         1\n",
      "      8098.0       0.00      0.00      0.00         2\n",
      "      8099.0       0.00      0.00      0.00         1\n",
      "      8114.0       0.00      0.00      0.00         0\n",
      "      8119.0       0.00      0.00      0.00         0\n",
      "      8140.0       0.00      0.00      0.00         0\n",
      "      8146.0       0.00      0.00      0.00         1\n",
      "      8147.0       0.00      0.00      0.00         1\n",
      "      8153.0       0.00      0.00      0.00         1\n",
      "      8213.0       0.00      0.00      0.00         1\n",
      "      8224.0       0.00      0.00      0.00         0\n",
      "      8227.0       0.00      0.00      0.00         0\n",
      "      8236.0       1.00      1.00      1.00         1\n",
      "      8245.0       0.00      0.00      0.00         0\n",
      "      8266.0       0.00      0.00      0.00         1\n",
      "      8283.0       0.00      0.00      0.00         0\n",
      "      8285.0       0.50      1.00      0.67         1\n",
      "      8290.0       0.00      0.00      0.00         1\n",
      "      8291.0       0.00      0.00      0.00         0\n",
      "      8309.0       0.00      0.00      0.00         1\n",
      "      8327.0       0.00      0.00      0.00         1\n",
      "      8330.0       0.00      0.00      0.00         0\n",
      "      8355.0       0.00      0.00      0.00         2\n",
      "      8366.0       0.86      1.00      0.92         6\n",
      "      8367.0       0.00      0.00      0.00         1\n",
      "      8371.0       0.00      0.00      0.00         2\n",
      "      8372.0       0.75      0.75      0.75        12\n",
      "      8386.0       0.00      0.00      0.00         1\n",
      "      8405.0       0.00      0.00      0.00         1\n",
      "      8422.0       0.00      0.00      0.00         0\n",
      "      8425.0       0.00      0.00      0.00         1\n",
      "      8443.0       0.00      0.00      0.00         1\n",
      "      8446.0       0.00      0.00      0.00         1\n",
      "      8452.0       0.14      0.20      0.17         5\n",
      "      8475.0       0.00      0.00      0.00         1\n",
      "      8479.0       1.00      1.00      1.00         4\n",
      "      8488.0       0.00      0.00      0.00         1\n",
      "      8505.0       0.00      0.00      0.00         1\n",
      "      8518.0       0.00      0.00      0.00         0\n",
      "      8528.0       0.00      0.00      0.00         0\n",
      "      8529.0       0.25      0.17      0.20         6\n",
      "      8534.0       0.00      0.00      0.00         1\n",
      "      8541.0       0.00      0.00      0.00         0\n",
      "      8552.0       0.00      0.00      0.00         0\n",
      "      8553.0       0.00      0.00      0.00         1\n",
      "      8574.0       0.00      0.00      0.00         0\n",
      "      8576.0       0.00      0.00      0.00         2\n",
      "      8577.0       0.00      0.00      0.00         0\n",
      "      8586.0       0.18      0.11      0.13        19\n",
      "      8588.0       0.00      0.00      0.00         1\n",
      "      8601.0       0.00      0.00      0.00         0\n",
      "      8603.0       0.00      0.00      0.00         2\n",
      "      8610.0       0.25      0.33      0.29         3\n",
      "      8614.0       0.00      0.00      0.00         1\n",
      "      8620.0       0.00      0.00      0.00         1\n",
      "      8625.0       0.00      0.00      0.00         1\n",
      "      8626.0       0.00      0.00      0.00         0\n",
      "      8627.0       0.00      0.00      0.00         1\n",
      "      8656.0       1.00      1.00      1.00         1\n",
      "      8662.0       0.00      0.00      0.00         3\n",
      "      8669.0       0.00      0.00      0.00         1\n",
      "      8707.0       0.00      0.00      0.00         1\n",
      "      8708.0       0.00      0.00      0.00         1\n",
      "      8714.0       0.00      0.00      0.00         2\n",
      "      8728.0       0.50      0.50      0.50         2\n",
      "      8759.0       0.00      0.00      0.00         0\n",
      "      8770.0       0.00      0.00      0.00         1\n",
      "      8781.0       0.00      0.00      0.00         0\n",
      "      8792.0       1.00      1.00      1.00         1\n",
      "      8820.0       0.00      0.00      0.00         1\n",
      "      8824.0       0.00      0.00      0.00         1\n",
      "      8834.0       0.00      0.00      0.00         3\n",
      "      8839.0       0.00      0.00      0.00         0\n",
      "      8844.0       0.00      0.00      0.00         0\n",
      "      8845.0       0.00      0.00      0.00         1\n",
      "      8849.0       0.00      0.00      0.00         2\n",
      "      8851.0       0.00      0.00      0.00         1\n",
      "      8853.0       0.00      0.00      0.00         0\n",
      "      8854.0       0.00      0.00      0.00         1\n",
      "      8855.0       0.00      0.00      0.00         1\n",
      "      8872.0       0.00      0.00      0.00         0\n",
      "      8879.0       0.00      0.00      0.00         4\n",
      "      8882.0       0.00      0.00      0.00         1\n",
      "      8891.0       1.00      0.50      0.67         2\n",
      "      8907.0       0.80      1.00      0.89         4\n",
      "      8937.0       0.00      0.00      0.00         1\n",
      "      8938.0       0.00      0.00      0.00         1\n",
      "      8991.0       1.00      1.00      1.00         1\n",
      "      8996.0       1.00      1.00      1.00         1\n",
      "      9001.0       0.00      0.00      0.00         1\n",
      "      9021.0       0.00      0.00      0.00         0\n",
      "      9027.0       0.00      0.00      0.00         1\n",
      "      9029.0       0.00      0.00      0.00         0\n",
      "      9042.0       0.00      0.00      0.00         1\n",
      "      9064.0       0.00      0.00      0.00         1\n",
      "      9069.0       0.00      0.00      0.00         0\n",
      "      9100.0       1.00      1.00      1.00         1\n",
      "      9103.0       0.67      0.80      0.73         5\n",
      "      9134.0       0.50      0.50      0.50         4\n",
      "      9135.0       0.00      0.00      0.00         0\n",
      "      9149.0       0.00      0.00      0.00         1\n",
      "      9158.0       0.00      0.00      0.00         1\n",
      "      9187.0       0.00      0.00      0.00         2\n",
      "      9190.0       0.00      0.00      0.00         0\n",
      "      9194.0       0.00      0.00      0.00         0\n",
      "      9211.0       0.00      0.00      0.00         0\n",
      "      9254.0       0.50      0.50      0.50         2\n",
      "      9257.0       0.00      0.00      0.00         0\n",
      "      9270.0       0.00      0.00      0.00         0\n",
      "      9296.0       0.00      0.00      0.00         1\n",
      "      9314.0       0.00      0.00      0.00         5\n",
      "      9316.0       0.00      0.00      0.00         1\n",
      "      9330.0       0.00      0.00      0.00         1\n",
      "      9345.0       0.50      0.60      0.55         5\n",
      "      9358.0       0.00      0.00      0.00         1\n",
      "      9397.0       0.00      0.00      0.00         1\n",
      "      9400.0       0.00      0.00      0.00         1\n",
      "      9412.0       0.00      0.00      0.00         0\n",
      "      9416.0       0.00      0.00      0.00         3\n",
      "      9417.0       0.00      0.00      0.00         1\n",
      "      9424.0       0.00      0.00      0.00         2\n",
      "      9443.0       1.00      0.50      0.67         2\n",
      "      9450.0       0.00      0.00      0.00         0\n",
      "      9486.0       0.00      0.00      0.00         1\n",
      "      9502.0       0.00      0.00      0.00         0\n",
      "      9508.0       0.00      0.00      0.00         1\n",
      "      9526.0       0.00      0.00      0.00         1\n",
      "      9535.0       0.00      0.00      0.00         0\n",
      "      9548.0       0.00      0.00      0.00         1\n",
      "      9555.0       0.00      0.00      0.00         1\n",
      "      9564.0       0.00      0.00      0.00         2\n",
      "      9595.0       0.00      0.00      0.00         1\n",
      "      9627.0       0.33      0.50      0.40         2\n",
      "      9630.0       0.00      0.00      0.00         0\n",
      "      9646.0       0.67      0.86      0.75         7\n",
      "      9653.0       0.00      0.00      0.00         2\n",
      "      9663.0       0.19      0.33      0.24        15\n",
      "      9732.0       0.00      0.00      0.00         1\n",
      "      9736.0       0.00      0.00      0.00         1\n",
      "      9779.0       0.00      0.00      0.00         0\n",
      "      9790.0       0.00      0.00      0.00         1\n",
      "      9794.0       0.50      1.00      0.67         3\n",
      "      9856.0       0.00      0.00      0.00         1\n",
      "      9861.0       0.00      0.00      0.00         1\n",
      "      9863.0       1.00      1.00      1.00         1\n",
      "      9870.0       0.00      0.00      0.00         1\n",
      "      9871.0       0.00      0.00      0.00         1\n",
      "      9899.0       0.00      0.00      0.00         3\n",
      "      9922.0       0.00      0.00      0.00         3\n",
      "      9929.0       0.00      0.00      0.00         1\n",
      "      9946.0       0.00      0.00      0.00         1\n",
      "      9968.0       0.00      0.00      0.00         2\n",
      "     10008.0       0.00      0.00      0.00         0\n",
      "     10021.0       0.00      0.00      0.00         1\n",
      "     10027.0       0.00      0.00      0.00         1\n",
      "     10031.0       0.00      0.00      0.00         8\n",
      "     10037.0       0.00      0.00      0.00         0\n",
      "     10067.0       0.00      0.00      0.00         2\n",
      "     10118.0       1.00      1.00      1.00         2\n",
      "     10151.0       0.00      0.00      0.00         0\n",
      "     10156.0       0.00      0.00      0.00         0\n",
      "     10178.0       0.00      0.00      0.00         0\n",
      "     10188.0       1.00      1.00      1.00         1\n",
      "     10191.0       0.00      0.00      0.00         0\n",
      "     10196.0       0.00      0.00      0.00         1\n",
      "     10197.0       0.86      1.00      0.92         6\n",
      "     10199.0       0.00      0.00      0.00         0\n",
      "     10203.0       0.38      0.75      0.50         4\n",
      "     10208.0       0.00      0.00      0.00         2\n",
      "     10216.0       0.00      0.00      0.00         0\n",
      "     10231.0       0.00      0.00      0.00         3\n",
      "     10262.0       0.56      0.63      0.59        52\n",
      "     10276.0       0.00      0.00      0.00         1\n",
      "     10283.0       1.00      1.00      1.00         1\n",
      "     10308.0       0.00      0.00      0.00         1\n",
      "     10315.0       0.00      0.00      0.00         1\n",
      "     10336.0       0.00      0.00      0.00         0\n",
      "     10351.0       0.00      0.00      0.00         1\n",
      "     10361.0       0.00      0.00      0.00         1\n",
      "     10368.0       0.31      0.24      0.27        21\n",
      "     10405.0       0.00      0.00      0.00         1\n",
      "     10406.0       0.00      0.00      0.00         1\n",
      "     10413.0       0.50      0.50      0.50         2\n",
      "     10441.0       0.20      0.50      0.29         2\n",
      "     10467.0       1.00      0.33      0.50         3\n",
      "     10493.0       0.00      0.00      0.00         1\n",
      "     10529.0       0.00      0.00      0.00         1\n",
      "     10539.0       0.10      0.25      0.14         4\n",
      "     10546.0       0.00      0.00      0.00         1\n",
      "     10577.0       0.00      0.00      0.00         5\n",
      "     10588.0       0.00      0.00      0.00         2\n",
      "     10651.0       0.33      0.33      0.33         3\n",
      "     10657.0       0.00      0.00      0.00         1\n",
      "     10667.0       0.00      0.00      0.00         1\n",
      "     10671.0       0.00      0.00      0.00         1\n",
      "     10676.0       0.50      0.50      0.50         2\n",
      "     10678.0       0.50      0.33      0.40         3\n",
      "     10696.0       0.00      0.00      0.00         0\n",
      "     10697.0       1.00      0.50      0.67         4\n",
      "     10703.0       0.00      0.00      0.00         4\n",
      "     10715.0       0.00      0.00      0.00         1\n",
      "     10741.0       0.00      0.00      0.00         1\n",
      "     10756.0       0.00      0.00      0.00         1\n",
      "     10759.0       0.00      0.00      0.00         0\n",
      "     10783.0       0.00      0.00      0.00         0\n",
      "     10791.0       0.00      0.00      0.00         1\n",
      "     10808.0       0.00      0.00      0.00         1\n",
      "     10824.0       0.00      0.00      0.00         1\n",
      "     10835.0       0.00      0.00      0.00         1\n",
      "     10840.0       0.00      0.00      0.00         1\n",
      "     10844.0       0.45      0.50      0.47        46\n",
      "     10846.0       0.00      0.00      0.00         0\n",
      "     10861.0       0.00      0.00      0.00         1\n",
      "     10875.0       0.00      0.00      0.00         1\n",
      "     10877.0       0.50      0.40      0.44         5\n",
      "     10907.0       0.00      0.00      0.00         0\n",
      "     10919.0       0.00      0.00      0.00         6\n",
      "     10929.0       0.00      0.00      0.00         0\n",
      "     10945.0       0.00      0.00      0.00         1\n",
      "     10953.0       0.00      0.00      0.00         2\n",
      "     10966.0       0.00      0.00      0.00         0\n",
      "     10972.0       0.00      0.00      0.00         0\n",
      "     10975.0       0.67      0.67      0.67         3\n",
      "     10991.0       0.50      0.50      0.50         2\n",
      "     11038.0       0.00      0.00      0.00         1\n",
      "     11077.0       0.00      0.00      0.00         0\n",
      "     11087.0       0.50      0.36      0.42        14\n",
      "     11093.0       0.00      0.00      0.00         2\n",
      "     11096.0       0.00      0.00      0.00         1\n",
      "     11125.0       0.00      0.00      0.00         0\n",
      "     11134.0       0.00      0.00      0.00         1\n",
      "     11150.0       0.33      0.50      0.40         4\n",
      "     11161.0       0.00      0.00      0.00         1\n",
      "     11185.0       0.00      0.00      0.00         1\n",
      "     11188.0       0.00      0.00      0.00         1\n",
      "     11200.0       1.00      0.33      0.50         3\n",
      "     11201.0       0.00      0.00      0.00         1\n",
      "     11222.0       0.50      1.00      0.67         1\n",
      "     11228.0       0.00      0.00      0.00         1\n",
      "     11241.0       0.00      0.00      0.00         1\n",
      "     11260.0       0.00      0.00      0.00         1\n",
      "     11265.0       0.00      0.00      0.00         1\n",
      "     11270.0       0.00      0.00      0.00         1\n",
      "     11281.0       0.33      1.00      0.50         1\n",
      "     11299.0       0.00      0.00      0.00         1\n",
      "     11306.0       0.00      0.00      0.00         1\n",
      "     11307.0       0.00      0.00      0.00         0\n",
      "     11319.0       0.00      0.00      0.00         0\n",
      "     11360.0       0.00      0.00      0.00         0\n",
      "     11399.0       0.00      0.00      0.00         1\n",
      "     11410.0       0.67      1.00      0.80         2\n",
      "     11421.0       0.00      0.00      0.00         1\n",
      "     11423.0       0.00      0.00      0.00         0\n",
      "     11432.0       0.50      0.33      0.40         3\n",
      "     11444.0       0.00      0.00      0.00         1\n",
      "     11458.0       0.00      0.00      0.00         0\n",
      "     11467.0       0.11      0.14      0.12         7\n",
      "     11474.0       0.00      0.00      0.00         1\n",
      "     11491.0       0.00      0.00      0.00         1\n",
      "     11507.0       0.12      1.00      0.22         1\n",
      "     11518.0       0.00      0.00      0.00         1\n",
      "     11522.0       0.00      0.00      0.00         1\n",
      "     11538.0       0.00      0.00      0.00         1\n",
      "     11543.0       1.00      1.00      1.00         1\n",
      "     11552.0       1.00      1.00      1.00         1\n",
      "     11560.0       0.00      0.00      0.00         1\n",
      "     11573.0       0.00      0.00      0.00         1\n",
      "     11596.0       0.00      0.00      0.00         1\n",
      "     11602.0       0.00      0.00      0.00         1\n",
      "     11622.0       0.33      0.33      0.33         3\n",
      "     11627.0       0.00      0.00      0.00         1\n",
      "     11642.0       0.00      0.00      0.00         0\n",
      "     11647.0       0.00      0.00      0.00         0\n",
      "     11654.0       0.00      0.00      0.00         0\n",
      "     11664.0       0.00      0.00      0.00         1\n",
      "     11667.0       0.67      0.67      0.67         3\n",
      "     11668.0       0.00      0.00      0.00         1\n",
      "     11702.0       0.00      0.00      0.00         2\n",
      "     11707.0       0.00      0.00      0.00         1\n",
      "     11726.0       0.00      0.00      0.00         0\n",
      "     11733.0       0.00      0.00      0.00         0\n",
      "     11753.0       1.00      0.50      0.67         2\n",
      "     11789.0       0.60      0.75      0.67         4\n",
      "     11791.0       0.00      0.00      0.00         1\n",
      "     11793.0       0.00      0.00      0.00         1\n",
      "     11806.0       0.00      0.00      0.00         1\n",
      "     11822.0       1.00      1.00      1.00         1\n",
      "     11841.0       0.00      0.00      0.00         2\n",
      "     11848.0       0.00      0.00      0.00         1\n",
      "     11869.0       0.00      0.00      0.00         1\n",
      "     11911.0       0.00      0.00      0.00         0\n",
      "     11913.0       0.00      0.00      0.00         0\n",
      "     11924.0       0.00      0.00      0.00         0\n",
      "     11936.0       0.00      0.00      0.00         1\n",
      "     11972.0       0.00      0.00      0.00         0\n",
      "     11982.0       1.00      1.00      1.00         6\n",
      "     11992.0       0.00      0.00      0.00         0\n",
      "     11999.0       0.00      0.00      0.00         0\n",
      "     12032.0       0.00      0.00      0.00         2\n",
      "     12042.0       0.00      0.00      0.00         0\n",
      "     12074.0       0.00      0.00      0.00         0\n",
      "     12080.0       1.00      0.50      0.67         2\n",
      "     12102.0       0.00      0.00      0.00         0\n",
      "     12121.0       0.00      0.00      0.00         2\n",
      "     12127.0       0.00      0.00      0.00         0\n",
      "     12140.0       0.00      0.00      0.00         0\n",
      "     12173.0       0.50      0.50      0.50         2\n",
      "     12192.0       1.00      1.00      1.00         2\n",
      "     12198.0       0.00      0.00      0.00         1\n",
      "     12199.0       0.00      0.00      0.00         1\n",
      "     12224.0       1.00      0.50      0.67         2\n",
      "     12239.0       0.00      0.00      0.00         1\n",
      "     12242.0       0.00      0.00      0.00         3\n",
      "     12257.0       0.00      0.00      0.00         0\n",
      "     12273.0       0.00      0.00      0.00         1\n",
      "     12284.0       0.33      0.50      0.40         2\n",
      "     12287.0       0.00      0.00      0.00         1\n",
      "     12308.0       0.00      0.00      0.00         1\n",
      "     12312.0       0.00      0.00      0.00         0\n",
      "     12327.0       0.00      0.00      0.00         1\n",
      "     12341.0       0.00      0.00      0.00         0\n",
      "     12351.0       0.00      0.00      0.00         1\n",
      "     12358.0       0.00      0.00      0.00         1\n",
      "     12373.0       0.56      0.56      0.56        16\n",
      "     12384.0       0.00      0.00      0.00         1\n",
      "     12389.0       0.00      0.00      0.00         1\n",
      "     12392.0       0.50      1.00      0.67         1\n",
      "     12395.0       0.86      1.00      0.92         6\n",
      "     12409.0       0.00      0.00      0.00         1\n",
      "     12410.0       0.00      0.00      0.00         1\n",
      "     12436.0       0.00      0.00      0.00         2\n",
      "     12452.0       0.00      0.00      0.00         0\n",
      "     12471.0       0.00      0.00      0.00         0\n",
      "     12475.0       0.00      0.00      0.00         1\n",
      "     12488.0       0.20      0.50      0.29         2\n",
      "     12524.0       0.50      0.50      0.50         2\n",
      "     12537.0       0.00      0.00      0.00         1\n",
      "     12557.0       0.00      0.00      0.00         1\n",
      "     12599.0       0.00      0.00      0.00         1\n",
      "     12609.0       0.00      0.00      0.00         1\n",
      "     12646.0       0.33      1.00      0.50         1\n",
      "     12648.0       0.00      0.00      0.00         1\n",
      "     12649.0       0.00      0.00      0.00         0\n",
      "     12677.0       0.00      0.00      0.00         0\n",
      "     12681.0       0.12      0.20      0.15         5\n",
      "     12692.0       0.00      0.00      0.00         7\n",
      "     12698.0       0.00      0.00      0.00         0\n",
      "     12704.0       0.00      0.00      0.00         1\n",
      "     12723.0       0.50      1.00      0.67         1\n",
      "     12725.0       0.00      0.00      0.00         1\n",
      "     12734.0       0.00      0.00      0.00         0\n",
      "     12751.0       0.00      0.00      0.00         1\n",
      "     12767.0       0.00      0.00      0.00         0\n",
      "     12797.0       0.00      0.00      0.00         0\n",
      "     12803.0       0.00      0.00      0.00         1\n",
      "     12814.0       0.00      0.00      0.00         1\n",
      "     12819.0       1.00      0.22      0.36         9\n",
      "     12829.0       0.00      0.00      0.00         1\n",
      "     12841.0       0.00      0.00      0.00         1\n",
      "     12853.0       0.00      0.00      0.00         1\n",
      "     12898.0       0.56      0.53      0.55        17\n",
      "     12940.0       0.00      0.00      0.00         0\n",
      "     12954.0       0.00      0.00      0.00         1\n",
      "     12961.0       0.00      0.00      0.00         1\n",
      "     12996.0       0.00      0.00      0.00         1\n",
      "     13007.0       0.00      0.00      0.00         1\n",
      "     13014.0       0.24      0.29      0.26        17\n",
      "     13022.0       0.00      0.00      0.00         1\n",
      "     13029.0       0.00      0.00      0.00         7\n",
      "     13033.0       0.50      1.00      0.67         1\n",
      "     13039.0       0.00      0.00      0.00         0\n",
      "     13044.0       0.00      0.00      0.00         2\n",
      "     13067.0       0.25      0.11      0.15         9\n",
      "     13082.0       0.00      0.00      0.00         1\n",
      "     13100.0       0.00      0.00      0.00         1\n",
      "     13135.0       0.00      0.00      0.00         1\n",
      "     13217.0       0.00      0.00      0.00         0\n",
      "     13222.0       0.00      0.00      0.00         1\n",
      "     13223.0       0.00      0.00      0.00         1\n",
      "     13227.0       0.00      0.00      0.00         1\n",
      "     13243.0       0.00      0.00      0.00         2\n",
      "     13259.0       0.00      0.00      0.00         0\n",
      "     13276.0       0.00      0.00      0.00         0\n",
      "     13292.0       0.50      0.38      0.43         8\n",
      "     13307.0       0.00      0.00      0.00         1\n",
      "     13310.0       0.00      0.00      0.00         1\n",
      "     13339.0       0.00      0.00      0.00         0\n",
      "     13344.0       0.00      0.00      0.00         1\n",
      "     13348.0       0.00      0.00      0.00         0\n",
      "     13357.0       0.00      0.00      0.00         1\n",
      "     13364.0       0.33      1.00      0.50         1\n",
      "     13366.0       0.00      0.00      0.00         0\n",
      "     13374.0       0.00      0.00      0.00         0\n",
      "     13376.0       0.57      0.80      0.67        10\n",
      "     13377.0       0.60      0.86      0.71         7\n",
      "     13378.0       0.00      0.00      0.00         0\n",
      "     13381.0       0.00      0.00      0.00         0\n",
      "     13383.0       0.00      0.00      0.00         0\n",
      "     13432.0       0.00      0.00      0.00         0\n",
      "     13439.0       0.00      0.00      0.00         1\n",
      "     13465.0       0.00      0.00      0.00         1\n",
      "     13469.0       0.00      0.00      0.00         1\n",
      "     13474.0       0.00      0.00      0.00         0\n",
      "     13484.0       0.00      0.00      0.00         1\n",
      "     13486.0       0.00      0.00      0.00         0\n",
      "     13502.0       0.00      0.00      0.00         3\n",
      "     13538.0       0.00      0.00      0.00         1\n",
      "     13542.0       0.50      0.50      0.50         2\n",
      "     13547.0       0.00      0.00      0.00         2\n",
      "     13555.0       0.00      0.00      0.00         1\n",
      "     13584.0       0.00      0.00      0.00         3\n",
      "     13587.0       0.20      0.50      0.29         4\n",
      "     13611.0       0.00      0.00      0.00         1\n",
      "     13626.0       0.00      0.00      0.00         3\n",
      "     13677.0       0.00      0.00      0.00         1\n",
      "     13696.0       0.00      0.00      0.00         0\n",
      "     13712.0       0.00      0.00      0.00         0\n",
      "     13727.0       0.38      0.75      0.50         4\n",
      "     13731.0       0.00      0.00      0.00         3\n",
      "     13748.0       0.00      0.00      0.00         1\n",
      "     13759.0       0.00      0.00      0.00         2\n",
      "     13790.0       1.00      1.00      1.00         1\n",
      "     13797.0       0.00      0.00      0.00         2\n",
      "     13801.0       0.00      0.00      0.00         1\n",
      "     13817.0       0.43      0.38      0.40         8\n",
      "     13832.0       0.00      0.00      0.00         1\n",
      "     13838.0       0.00      0.00      0.00         1\n",
      "     13843.0       0.00      0.00      0.00         2\n",
      "     13873.0       0.00      0.00      0.00         1\n",
      "     13882.0       0.80      0.80      0.80         5\n",
      "     13899.0       0.00      0.00      0.00         1\n",
      "     13941.0       0.11      0.12      0.12         8\n",
      "     13942.0       0.00      0.00      0.00         0\n",
      "     13994.0       0.00      0.00      0.00         0\n",
      "     13999.0       0.00      0.00      0.00         1\n",
      "     14053.0       0.00      0.00      0.00         1\n",
      "     14067.0       0.00      0.00      0.00         2\n",
      "     14069.0       0.00      0.00      0.00         0\n",
      "     14086.0       0.00      0.00      0.00         2\n",
      "     14120.0       0.00      0.00      0.00         1\n",
      "     14143.0       0.00      0.00      0.00         0\n",
      "     14151.0       0.80      0.40      0.53        20\n",
      "     14178.0       0.00      0.00      0.00         2\n",
      "     14189.0       0.00      0.00      0.00         0\n",
      "     14195.0       0.00      0.00      0.00         0\n",
      "     14214.0       0.00      0.00      0.00         1\n",
      "     14231.0       0.00      0.00      0.00         1\n",
      "     14237.0       1.00      1.00      1.00         1\n",
      "     14300.0       1.00      1.00      1.00         2\n",
      "     14306.0       0.00      0.00      0.00         1\n",
      "     14323.0       0.00      0.00      0.00         1\n",
      "     14330.0       0.00      0.00      0.00         1\n",
      "     14388.0       0.00      0.00      0.00        16\n",
      "     14424.0       0.50      1.00      0.67         1\n",
      "     14431.0       0.00      0.00      0.00         0\n",
      "     14441.0       0.00      0.00      0.00         3\n",
      "     14482.0       0.00      0.00      0.00         0\n",
      "     14483.0       0.00      0.00      0.00         0\n",
      "     14486.0       1.00      1.00      1.00         1\n",
      "     14533.0       0.00      0.00      0.00         2\n",
      "     14571.0       0.08      0.09      0.09        11\n",
      "     14588.0       0.00      0.00      0.00         1\n",
      "     14634.0       0.00      0.00      0.00         1\n",
      "     14687.0       0.00      0.00      0.00         1\n",
      "     14714.0       0.06      0.05      0.06        19\n",
      "     14777.0       0.00      0.00      0.00         0\n",
      "     14781.0       0.12      0.13      0.13        15\n",
      "     14815.0       0.00      0.00      0.00         4\n",
      "     14848.0       0.00      0.00      0.00         4\n",
      "     14851.0       0.00      0.00      0.00         1\n",
      "     14871.0       0.86      0.86      0.86         7\n",
      "     14882.0       0.00      0.00      0.00         1\n",
      "     14924.0       0.00      0.00      0.00         5\n",
      "     14939.0       0.00      0.00      0.00         1\n",
      "     14960.0       0.20      0.33      0.25         3\n",
      "     14973.0       0.50      1.00      0.67         1\n",
      "     15025.0       0.00      0.00      0.00         1\n",
      "     15029.0       0.00      0.00      0.00         0\n",
      "     15058.0       0.00      0.00      0.00         1\n",
      "     15077.0       0.00      0.00      0.00         3\n",
      "     15078.0       0.00      0.00      0.00         2\n",
      "     15103.0       0.00      0.00      0.00         1\n",
      "     15107.0       0.50      1.00      0.67         1\n",
      "     15129.0       0.50      0.53      0.51        19\n",
      "     15135.0       1.00      1.00      1.00         1\n",
      "     15136.0       0.20      1.00      0.33         1\n",
      "     15147.0       1.00      0.29      0.44         7\n",
      "     15149.0       0.00      0.00      0.00         0\n",
      "     15164.0       1.00      1.00      1.00         1\n",
      "     15170.0       0.00      0.00      0.00         3\n",
      "     15187.0       1.00      1.00      1.00         1\n",
      "     15190.0       0.00      0.00      0.00         1\n",
      "     15197.0       0.00      0.00      0.00         0\n",
      "     15200.0       0.00      0.00      0.00         0\n",
      "     15284.0       0.00      0.00      0.00         2\n",
      "     15288.0       0.00      0.00      0.00         0\n",
      "     15318.0       0.00      0.00      0.00         1\n",
      "     15339.0       0.00      0.00      0.00         0\n",
      "     15342.0       0.00      0.00      0.00         2\n",
      "     15353.0       0.00      0.00      0.00         0\n",
      "     15373.0       0.00      0.00      0.00         1\n",
      "     15385.0       0.00      0.00      0.00         0\n",
      "     15400.0       0.00      0.00      0.00         1\n",
      "     15407.0       0.00      0.00      0.00         0\n",
      "     15422.0       0.00      0.00      0.00         1\n",
      "     15481.0       0.00      0.00      0.00         1\n",
      "     15544.0       0.00      0.00      0.00         2\n",
      "     15554.0       0.11      0.12      0.12         8\n",
      "     15603.0       0.50      1.00      0.67         1\n",
      "     15654.0       0.00      0.00      0.00         0\n",
      "     15704.0       0.00      0.00      0.00         0\n",
      "     15764.0       0.00      0.00      0.00         2\n",
      "     15809.0       0.00      0.00      0.00         1\n",
      "     15812.0       0.00      0.00      0.00         2\n",
      "     15894.0       1.00      1.00      1.00         1\n",
      "     15957.0       0.00      0.00      0.00         0\n",
      "     16000.0       0.00      0.00      0.00         0\n",
      "     16022.0       0.00      0.00      0.00         1\n",
      "     16057.0       0.00      0.00      0.00         0\n",
      "     16079.0       0.17      0.29      0.21         7\n",
      "     16108.0       0.33      0.25      0.29         4\n",
      "     16142.0       0.00      0.00      0.00         1\n",
      "     16163.0       0.00      0.00      0.00         1\n",
      "     16172.0       0.00      0.00      0.00         0\n",
      "     16263.0       0.00      0.00      0.00         1\n",
      "     16274.0       0.00      0.00      0.00         0\n",
      "     16289.0       0.00      0.00      0.00         6\n",
      "     16373.0       0.00      0.00      0.00         0\n",
      "     16389.0       0.00      0.00      0.00         1\n",
      "     16439.0       0.00      0.00      0.00         0\n",
      "     16655.0       0.00      0.00      0.00         1\n",
      "     16704.0       0.25      0.20      0.22         5\n",
      "     16736.0       0.50      0.50      0.50         4\n",
      "     16775.0       0.00      0.00      0.00         1\n",
      "     16809.0       0.00      0.00      0.00         0\n",
      "     16840.0       0.00      0.00      0.00         0\n",
      "     16863.0       0.00      0.00      0.00         0\n",
      "     16914.0       0.50      0.50      0.50         2\n",
      "     17024.0       0.00      0.00      0.00         0\n",
      "     17049.0       0.00      0.00      0.00         0\n",
      "     17057.0       0.00      0.00      0.00         4\n",
      "     17072.0       0.00      0.00      0.00         1\n",
      "     17073.0       0.00      0.00      0.00         0\n",
      "     17198.0       0.00      0.00      0.00         1\n",
      "     17234.0       0.00      0.00      0.00         1\n",
      "     17261.0       0.25      1.00      0.40         2\n",
      "     17267.0       0.00      0.00      0.00         0\n",
      "     17282.0       0.00      0.00      0.00         1\n",
      "     17471.0       1.00      1.00      1.00         1\n",
      "     17493.0       0.00      0.00      0.00         2\n",
      "     17501.0       0.00      0.00      0.00         0\n",
      "     17703.0       0.00      0.00      0.00         1\n",
      "     17732.0       0.00      0.00      0.00         0\n",
      "     17996.0       0.00      0.00      0.00         1\n",
      "     18211.0       0.00      0.00      0.00         1\n",
      "     18275.0       0.00      0.00      0.00         0\n",
      "     18286.0       0.00      0.00      0.00         3\n",
      "     18308.0       0.00      0.00      0.00         2\n",
      "     18371.0       0.00      0.00      0.00         2\n",
      "     18485.0       0.00      0.00      0.00         1\n",
      "     18581.0       0.00      0.00      0.00         1\n",
      "     18736.0       0.00      0.00      0.00         1\n",
      "     18799.0       0.00      0.00      0.00         2\n",
      "     18804.0       0.33      1.00      0.50         1\n",
      "     19225.0       0.00      0.00      0.00         0\n",
      "     19372.0       0.00      0.00      0.00         0\n",
      "     19508.0       0.00      0.00      0.00         1\n",
      "     19644.0       0.00      0.00      0.00         1\n",
      "     20064.0       0.00      0.00      0.00         0\n",
      "     20747.0       0.00      0.00      0.00         1\n",
      "     20800.0       1.00      1.00      1.00         1\n",
      "     20845.0       0.00      0.00      0.00         0\n",
      "     21219.0       0.50      1.00      0.67         1\n",
      "     21520.0       0.00      0.00      0.00         1\n",
      "     21571.0       0.00      0.00      0.00         1\n",
      "     21730.0       0.00      0.00      0.00         1\n",
      "     21934.0       1.00      1.00      1.00         1\n",
      "     22096.0       0.00      0.00      0.00         0\n",
      "     22153.0       0.00      0.00      0.00         1\n",
      "     22270.0       0.20      0.33      0.25         3\n",
      "     22950.0       0.00      0.00      0.00         1\n",
      "     23170.0       0.00      0.00      0.00         1\n",
      "     24318.0       0.00      0.00      0.00         1\n",
      "     25430.0       0.00      0.00      0.00         1\n",
      "     25735.0       1.00      0.67      0.80         3\n",
      "     25913.0       0.00      0.00      0.00         0\n",
      "     26890.0       0.50      0.38      0.43         8\n",
      "     27210.0       0.00      0.00      0.00         1\n",
      "     27430.0       0.00      0.00      0.00         0\n",
      "     27992.0       1.00      0.67      0.80         3\n",
      "     28097.0       0.00      0.00      0.00         1\n",
      "     31825.0       1.00      0.67      0.80         3\n",
      "     34273.0       0.00      0.00      0.00         1\n",
      "     36235.0       0.00      0.00      0.00         1\n",
      "\n",
      "    accuracy                           0.34      2137\n",
      "   macro avg       0.16      0.17      0.15      2137\n",
      "weighted avg       0.35      0.34      0.33      2137\n",
      "\n",
      "\n",
      "\n",
      "[[ 3  4  0 ...  0  0  0]\n",
      " [11  2  0 ...  0  0  0]\n",
      " [ 0  0  1 ...  0  0  0]\n",
      " ...\n",
      " [ 0  0  0 ...  2  0  0]\n",
      " [ 0  0  0 ...  0  0  0]\n",
      " [ 0  0  0 ...  0  0  0]]\n"
     ]
    },
    {
     "name": "stderr",
     "output_type": "stream",
     "text": [
      "C:\\Users\\rohit\\anaconda3\\Lib\\site-packages\\sklearn\\metrics\\_classification.py:1469: UndefinedMetricWarning: Precision and F-score are ill-defined and being set to 0.0 in labels with no predicted samples. Use `zero_division` parameter to control this behavior.\n",
      "  _warn_prf(average, modifier, msg_start, len(result))\n",
      "C:\\Users\\rohit\\anaconda3\\Lib\\site-packages\\sklearn\\metrics\\_classification.py:1469: UndefinedMetricWarning: Recall and F-score are ill-defined and being set to 0.0 in labels with no true samples. Use `zero_division` parameter to control this behavior.\n",
      "  _warn_prf(average, modifier, msg_start, len(result))\n",
      "C:\\Users\\rohit\\anaconda3\\Lib\\site-packages\\sklearn\\metrics\\_classification.py:1469: UndefinedMetricWarning: Precision and F-score are ill-defined and being set to 0.0 in labels with no predicted samples. Use `zero_division` parameter to control this behavior.\n",
      "  _warn_prf(average, modifier, msg_start, len(result))\n",
      "C:\\Users\\rohit\\anaconda3\\Lib\\site-packages\\sklearn\\metrics\\_classification.py:1469: UndefinedMetricWarning: Recall and F-score are ill-defined and being set to 0.0 in labels with no true samples. Use `zero_division` parameter to control this behavior.\n",
      "  _warn_prf(average, modifier, msg_start, len(result))\n",
      "C:\\Users\\rohit\\anaconda3\\Lib\\site-packages\\sklearn\\metrics\\_classification.py:1469: UndefinedMetricWarning: Precision and F-score are ill-defined and being set to 0.0 in labels with no predicted samples. Use `zero_division` parameter to control this behavior.\n",
      "  _warn_prf(average, modifier, msg_start, len(result))\n",
      "C:\\Users\\rohit\\anaconda3\\Lib\\site-packages\\sklearn\\metrics\\_classification.py:1469: UndefinedMetricWarning: Recall and F-score are ill-defined and being set to 0.0 in labels with no true samples. Use `zero_division` parameter to control this behavior.\n",
      "  _warn_prf(average, modifier, msg_start, len(result))\n"
     ]
    }
   ],
   "source": [
    "print(classification_report(y_test,predictions))\n",
    "print('\\n')\n",
    "print(confusion_matrix(y_test,predictions))"
   ]
  },
  {
   "cell_type": "code",
   "execution_count": 98,
   "id": "36d96778",
   "metadata": {},
   "outputs": [
    {
     "data": {
      "text/plain": [
       "(array([4.000e+00, 6.000e+00, 1.610e+02, 1.548e+03, 3.510e+02, 5.600e+01,\n",
       "        7.000e+00, 2.000e+00, 1.000e+00, 1.000e+00]),\n",
       " array([-16170. , -11892.7,  -7615.4,  -3338.1,    939.2,   5216.5,\n",
       "          9493.8,  13771.1,  18048.4,  22325.7,  26603. ]),\n",
       " <BarContainer object of 10 artists>)"
      ]
     },
     "execution_count": 98,
     "metadata": {},
     "output_type": "execute_result"
    },
    {
     "data": {
      "image/png": "[encoded data removed]",
      "text/plain": [
       "<Figure size 640x480 with 1 Axes>"
      ]
     },
     "metadata": {},
     "output_type": "display_data"
    }
   ],
   "source": [
    "plt.hist(y_test-predictions)"
   ]
  },
  {
   "cell_type": "code",
   "execution_count": 153,
   "id": "48bbfcdc",
   "metadata": {},
   "outputs": [],
   "source": [
    "def predict(ml_model):\n",
    "    \n",
    "    model=ml_model.fit(X_train,y_train)\n",
    "    print('Training_score: {}'.format(model.score(X_train,y_train)))\n",
    "    y_prediction=model.predict(X_test)\n",
    "    print('Predictions are : {}'.format(y_prediction))\n",
    "    print('\\n')\n",
    "    \n",
    "    from sklearn import metrics\n",
    "    r2_score=metrics.r2_score(y_test,y_prediction)\n",
    "    print('r2_score: {}'.format(r2_score))\n",
    "    print('MSE : ', metrics.mean_squared_error(y_test,y_prediction))\n",
    "    print('MAE : ', metrics.mean_absolute_error(y_test,y_prediction))\n",
    "    print('RMSE : ', np.sqrt(metrics.mean_squared_error(y_test,y_prediction)))\n",
    "    sns.distplot(y_test-y_prediction)"
   ]
  },
  {
   "cell_type": "code",
   "execution_count": 154,
   "id": "592271f2",
   "metadata": {},
   "outputs": [
    {
     "name": "stdout",
     "output_type": "stream",
     "text": [
      "Training_score: 0.9518223265089745\n",
      "Predictions are : [16875.28        5352.21        8828.31       ...  6810.98\n",
      " 12914.01083333 13248.55233333]\n",
      "\n",
      "\n",
      "r2_score: 0.8351778937015876\n",
      "MSE :  3375519.0155161326\n",
      "MAE :  1134.2166344464042\n",
      "RMSE :  1837.2585597885052\n"
     ]
    },
    {
     "name": "stderr",
     "output_type": "stream",
     "text": [
      "C:\\Users\\rohit\\AppData\\Local\\Temp\\ipykernel_13920\\2767426301.py:15: UserWarning: \n",
      "\n",
      "`distplot` is a deprecated function and will be removed in seaborn v0.14.0.\n",
      "\n",
      "Please adapt your code to use either `displot` (a figure-level function with\n",
      "similar flexibility) or `histplot` (an axes-level function for histograms).\n",
      "\n",
      "For a guide to updating your code to use the new functions, please see\n",
      "https://gist.github.com/mwaskom/de44147ed2974457ad6372750bbe5751\n",
      "\n",
      "  sns.distplot(y_test-y_prediction)\n"
     ]
    },
    {
     "data": {
      "image/png": "[encoded data removed]",
      "text/plain": [
       "<Figure size 640x480 with 1 Axes>"
      ]
     },
     "metadata": {},
     "output_type": "display_data"
    }
   ],
   "source": [
    "predict(RandomForestRegressor())"
   ]
  },
  {
   "cell_type": "code",
   "execution_count": null,
   "id": "ee866643",
   "metadata": {},
   "outputs": [],
   "source": [
    "from sklearn.linear_model import LinearRegression\n",
    "from sklearn.tree import DecisionTreeRegressor\n",
    "from sklearn.neighbors import KNeighborsRegressor"
   ]
  },
  {
   "cell_type": "code",
   "execution_count": 226,
   "id": "e93487f6",
   "metadata": {},
   "outputs": [],
   "source": [
    "#predict(DecisionTreeRegressor())"
   ]
  },
  {
   "cell_type": "code",
   "execution_count": 227,
   "id": "c6456e94",
   "metadata": {},
   "outputs": [
    {
     "ename": "NameError",
     "evalue": "name 'LinearRegression' is not defined",
     "output_type": "error",
     "traceback": [
      "\u001b[1;31m---------------------------------------------------------------------------\u001b[0m",
      "\u001b[1;31mNameError\u001b[0m                                 Traceback (most recent call last)",
      "Cell \u001b[1;32mIn[227], line 1\u001b[0m\n\u001b[1;32m----> 1\u001b[0m predict(LinearRegression())\n",
      "\u001b[1;31mNameError\u001b[0m: name 'LinearRegression' is not defined"
     ]
    }
   ],
   "source": [
    "predict(LinearRegression())"
   ]
  },
  {
   "cell_type": "code",
   "execution_count": null,
   "id": "d679774f",
   "metadata": {},
   "outputs": [],
   "source": [
    "predict(KNeighborsRegressor())"
   ]
  },
  {
   "cell_type": "code",
   "execution_count": null,
   "id": "46c37b5c",
   "metadata": {},
   "outputs": [],
   "source": [
    "#hence randomforest regressor giving r2 score of 83% accuracy 83 %"
   ]
  },
  {
   "cell_type": "code",
   "execution_count": null,
   "id": "6ca96182",
   "metadata": {},
   "outputs": [],
   "source": [
    "#randomsearchcv hypertuning model gridsearchcv like use"
   ]
  },
  {
   "cell_type": "code",
   "execution_count": 118,
   "id": "5f241cab",
   "metadata": {},
   "outputs": [],
   "source": [
    "from sklearn.ensemble import RandomForestRegressor"
   ]
  },
  {
   "cell_type": "code",
   "execution_count": 119,
   "id": "7a6570eb",
   "metadata": {},
   "outputs": [],
   "source": [
    "reg_rf=RandomForestRegressor()"
   ]
  },
  {
   "cell_type": "code",
   "execution_count": 120,
   "id": "393346e6",
   "metadata": {},
   "outputs": [],
   "source": [
    "from sklearn.model_selection import RandomizedSearchCV"
   ]
  },
  {
   "cell_type": "code",
   "execution_count": 121,
   "id": "f88134d3",
   "metadata": {},
   "outputs": [],
   "source": [
    "# Number of trees in random forest\n",
    "n_estimators=[int(x) for x in np.linspace(start=1000,stop=1200,num=6)]\n",
    "\n",
    "# Number of features to consider at every split\n",
    "max_features=[\"auto\", \"sqrt\"]\n",
    "\n",
    "# Maximum number of levels in tree\n",
    "max_depth=[int(x) for x in np.linspace(start=5,stop=30,num=4)]\n",
    "\n",
    "# Minimum number of samples required to split a node\n",
    "min_samples_split=[5,10,15,100]"
   ]
  },
  {
   "cell_type": "code",
   "execution_count": 122,
   "id": "849d1c6b",
   "metadata": {},
   "outputs": [],
   "source": [
    "# Create the grid or hyper-parameter space\n",
    "random_grid={\n",
    "    'n_estimators':n_estimators,\n",
    "    'max_features':max_features,\n",
    "    'max_depth':max_depth,\n",
    "    'min_samples_split':min_samples_split \n",
    "}"
   ]
  },
  {
   "cell_type": "code",
   "execution_count": 123,
   "id": "9451ac54",
   "metadata": {},
   "outputs": [],
   "source": [
    "rf_Random=RandomizedSearchCV(reg_rf,param_distributions=random_grid,cv=3,verbose=2,n_jobs=-1)"
   ]
  },
  {
   "cell_type": "code",
   "execution_count": 124,
   "id": "19284c58",
   "metadata": {},
   "outputs": [
    {
     "name": "stdout",
     "output_type": "stream",
     "text": [
      "Fitting 3 folds for each of 10 candidates, totalling 30 fits\n"
     ]
    },
    {
     "name": "stderr",
     "output_type": "stream",
     "text": [
      "C:\\Users\\rohit\\anaconda3\\Lib\\site-packages\\sklearn\\model_selection\\_validation.py:425: FitFailedWarning: \n",
      "15 fits failed out of a total of 30.\n",
      "The score on these train-test partitions for these parameters will be set to nan.\n",
      "If these failures are not expected, you can try to debug them by setting error_score='raise'.\n",
      "\n",
      "Below are more details about the failures:\n",
      "--------------------------------------------------------------------------------\n",
      "8 fits failed with the following error:\n",
      "Traceback (most recent call last):\n",
      "  File \"C:\\Users\\rohit\\anaconda3\\Lib\\site-packages\\sklearn\\model_selection\\_validation.py\", line 732, in _fit_and_score\n",
      "    estimator.fit(X_train, y_train, **fit_params)\n",
      "  File \"C:\\Users\\rohit\\anaconda3\\Lib\\site-packages\\sklearn\\base.py\", line 1144, in wrapper\n",
      "    estimator._validate_params()\n",
      "  File \"C:\\Users\\rohit\\anaconda3\\Lib\\site-packages\\sklearn\\base.py\", line 637, in _validate_params\n",
      "    validate_parameter_constraints(\n",
      "  File \"C:\\Users\\rohit\\anaconda3\\Lib\\site-packages\\sklearn\\utils\\_param_validation.py\", line 95, in validate_parameter_constraints\n",
      "    raise InvalidParameterError(\n",
      "sklearn.utils._param_validation.InvalidParameterError: The 'max_features' parameter of RandomForestRegressor must be an int in the range [1, inf), a float in the range (0.0, 1.0], a str among {'log2', 'sqrt'} or None. Got 'auto' instead.\n",
      "\n",
      "--------------------------------------------------------------------------------\n",
      "7 fits failed with the following error:\n",
      "Traceback (most recent call last):\n",
      "  File \"C:\\Users\\rohit\\anaconda3\\Lib\\site-packages\\sklearn\\model_selection\\_validation.py\", line 732, in _fit_and_score\n",
      "    estimator.fit(X_train, y_train, **fit_params)\n",
      "  File \"C:\\Users\\rohit\\anaconda3\\Lib\\site-packages\\sklearn\\base.py\", line 1144, in wrapper\n",
      "    estimator._validate_params()\n",
      "  File \"C:\\Users\\rohit\\anaconda3\\Lib\\site-packages\\sklearn\\base.py\", line 637, in _validate_params\n",
      "    validate_parameter_constraints(\n",
      "  File \"C:\\Users\\rohit\\anaconda3\\Lib\\site-packages\\sklearn\\utils\\_param_validation.py\", line 95, in validate_parameter_constraints\n",
      "    raise InvalidParameterError(\n",
      "sklearn.utils._param_validation.InvalidParameterError: The 'max_features' parameter of RandomForestRegressor must be an int in the range [1, inf), a float in the range (0.0, 1.0], a str among {'sqrt', 'log2'} or None. Got 'auto' instead.\n",
      "\n",
      "  warnings.warn(some_fits_failed_message, FitFailedWarning)\n",
      "C:\\Users\\rohit\\anaconda3\\Lib\\site-packages\\sklearn\\model_selection\\_search.py:976: UserWarning: One or more of the test scores are non-finite: [       nan        nan 0.71414316 0.63032858        nan        nan\n",
      "        nan 0.7138181  0.79865343 0.79120987]\n",
      "  warnings.warn(\n"
     ]
    },
    {
     "data": {
      "text/html": [
       "<style>#sk-container-id-2 {color: black;}#sk-container-id-2 pre{padding: 0;}#sk-container-id-2 div.sk-toggleable {background-color: white;}#sk-container-id-2 label.sk-toggleable__label {cursor: pointer;display: block;width: 100%;margin-bottom: 0;padding: 0.3em;box-sizing: border-box;text-align: center;}#sk-container-id-2 label.sk-toggleable__label-arrow:before {content: \"▸\";float: left;margin-right: 0.25em;color: #696969;}#sk-container-id-2 label.sk-toggleable__label-arrow:hover:before {color: black;}#sk-container-id-2 div.sk-estimator:hover label.sk-toggleable__label-arrow:before {color: black;}#sk-container-id-2 div.sk-toggleable__content {max-height: 0;max-width: 0;overflow: hidden;text-align: left;background-color: #f0f8ff;}#sk-container-id-2 div.sk-toggleable__content pre {margin: 0.2em;color: black;border-radius: 0.25em;background-color: #f0f8ff;}#sk-container-id-2 input.sk-toggleable__control:checked~div.sk-toggleable__content {max-height: 200px;max-width: 100%;overflow: auto;}#sk-container-id-2 input.sk-toggleable__control:checked~label.sk-toggleable__label-arrow:before {content: \"▾\";}#sk-container-id-2 div.sk-estimator input.sk-toggleable__control:checked~label.sk-toggleable__label {background-color: #d4ebff;}#sk-container-id-2 div.sk-label input.sk-toggleable__control:checked~label.sk-toggleable__label {background-color: #d4ebff;}#sk-container-id-2 input.sk-hidden--visually {border: 0;clip: rect(1px 1px 1px 1px);clip: rect(1px, 1px, 1px, 1px);height: 1px;margin: -1px;overflow: hidden;padding: 0;position: absolute;width: 1px;}#sk-container-id-2 div.sk-estimator {font-family: monospace;background-color: #f0f8ff;border: 1px dotted black;border-radius: 0.25em;box-sizing: border-box;margin-bottom: 0.5em;}#sk-container-id-2 div.sk-estimator:hover {background-color: #d4ebff;}#sk-container-id-2 div.sk-parallel-item::after {content: \"\";width: 100%;border-bottom: 1px solid gray;flex-grow: 1;}#sk-container-id-2 div.sk-label:hover label.sk-toggleable__label {background-color: #d4ebff;}#sk-container-id-2 div.sk-serial::before {content: \"\";position: absolute;border-left: 1px solid gray;box-sizing: border-box;top: 0;bottom: 0;left: 50%;z-index: 0;}#sk-container-id-2 div.sk-serial {display: flex;flex-direction: column;align-items: center;background-color: white;padding-right: 0.2em;padding-left: 0.2em;position: relative;}#sk-container-id-2 div.sk-item {position: relative;z-index: 1;}#sk-container-id-2 div.sk-parallel {display: flex;align-items: stretch;justify-content: center;background-color: white;position: relative;}#sk-container-id-2 div.sk-item::before, #sk-container-id-2 div.sk-parallel-item::before {content: \"\";position: absolute;border-left: 1px solid gray;box-sizing: border-box;top: 0;bottom: 0;left: 50%;z-index: -1;}#sk-container-id-2 div.sk-parallel-item {display: flex;flex-direction: column;z-index: 1;position: relative;background-color: white;}#sk-container-id-2 div.sk-parallel-item:first-child::after {align-self: flex-end;width: 50%;}#sk-container-id-2 div.sk-parallel-item:last-child::after {align-self: flex-start;width: 50%;}#sk-container-id-2 div.sk-parallel-item:only-child::after {width: 0;}#sk-container-id-2 div.sk-dashed-wrapped {border: 1px dashed gray;margin: 0 0.4em 0.5em 0.4em;box-sizing: border-box;padding-bottom: 0.4em;background-color: white;}#sk-container-id-2 div.sk-label label {font-family: monospace;font-weight: bold;display: inline-block;line-height: 1.2em;}#sk-container-id-2 div.sk-label-container {text-align: center;}#sk-container-id-2 div.sk-container {/* jupyter's `normalize.less` sets `[hidden] { display: none; }` but bootstrap.min.css set `[hidden] { display: none !important; }` so we also need the `!important` here to be able to override the default hidden behavior on the sphinx rendered scikit-learn.org. See: https://github.com/scikit-learn/scikit-learn/issues/21755 */display: inline-block !important;position: relative;}#sk-container-id-2 div.sk-text-repr-fallback {display: none;}</style><div id=\"sk-container-id-2\" class=\"sk-top-container\"><div class=\"sk-text-repr-fallback\"><pre>RandomizedSearchCV(cv=3, estimator=RandomForestRegressor(), n_jobs=-1,\n",
       "                   param_distributions={&#x27;max_depth&#x27;: [5, 13, 21, 30],\n",
       "                                        &#x27;max_features&#x27;: [&#x27;auto&#x27;, &#x27;sqrt&#x27;],\n",
       "                                        &#x27;min_samples_split&#x27;: [5, 10, 15, 100],\n",
       "                                        &#x27;n_estimators&#x27;: [1000, 1040, 1080, 1120,\n",
       "                                                         1160, 1200]},\n",
       "                   verbose=2)</pre><b>In a Jupyter environment, please rerun this cell to show the HTML representation or trust the notebook. <br />On GitHub, the HTML representation is unable to render, please try loading this page with nbviewer.org.</b></div><div class=\"sk-container\" hidden><div class=\"sk-item sk-dashed-wrapped\"><div class=\"sk-label-container\"><div class=\"sk-label sk-toggleable\"><input class=\"sk-toggleable__control sk-hidden--visually\" id=\"sk-estimator-id-2\" type=\"checkbox\" ><label for=\"sk-estimator-id-2\" class=\"sk-toggleable__label sk-toggleable__label-arrow\">RandomizedSearchCV</label><div class=\"sk-toggleable__content\"><pre>RandomizedSearchCV(cv=3, estimator=RandomForestRegressor(), n_jobs=-1,\n",
       "                   param_distributions={&#x27;max_depth&#x27;: [5, 13, 21, 30],\n",
       "                                        &#x27;max_features&#x27;: [&#x27;auto&#x27;, &#x27;sqrt&#x27;],\n",
       "                                        &#x27;min_samples_split&#x27;: [5, 10, 15, 100],\n",
       "                                        &#x27;n_estimators&#x27;: [1000, 1040, 1080, 1120,\n",
       "                                                         1160, 1200]},\n",
       "                   verbose=2)</pre></div></div></div><div class=\"sk-parallel\"><div class=\"sk-parallel-item\"><div class=\"sk-item\"><div class=\"sk-label-container\"><div class=\"sk-label sk-toggleable\"><input class=\"sk-toggleable__control sk-hidden--visually\" id=\"sk-estimator-id-3\" type=\"checkbox\" ><label for=\"sk-estimator-id-3\" class=\"sk-toggleable__label sk-toggleable__label-arrow\">estimator: RandomForestRegressor</label><div class=\"sk-toggleable__content\"><pre>RandomForestRegressor()</pre></div></div></div><div class=\"sk-serial\"><div class=\"sk-item\"><div class=\"sk-estimator sk-toggleable\"><input class=\"sk-toggleable__control sk-hidden--visually\" id=\"sk-estimator-id-4\" type=\"checkbox\" ><label for=\"sk-estimator-id-4\" class=\"sk-toggleable__label sk-toggleable__label-arrow\">RandomForestRegressor</label><div class=\"sk-toggleable__content\"><pre>RandomForestRegressor()</pre></div></div></div></div></div></div></div></div></div></div>"
      ],
      "text/plain": [
       "RandomizedSearchCV(cv=3, estimator=RandomForestRegressor(), n_jobs=-1,\n",
       "                   param_distributions={'max_depth': [5, 13, 21, 30],\n",
       "                                        'max_features': ['auto', 'sqrt'],\n",
       "                                        'min_samples_split': [5, 10, 15, 100],\n",
       "                                        'n_estimators': [1000, 1040, 1080, 1120,\n",
       "                                                         1160, 1200]},\n",
       "                   verbose=2)"
      ]
     },
     "execution_count": 124,
     "metadata": {},
     "output_type": "execute_result"
    }
   ],
   "source": [
    "rf_Random.fit(X_train,y_train)"
   ]
  },
  {
   "cell_type": "code",
   "execution_count": 125,
   "id": "c84aaf78",
   "metadata": {},
   "outputs": [
    {
     "data": {
      "text/plain": [
       "{'n_estimators': 1040,\n",
       " 'min_samples_split': 10,\n",
       " 'max_features': 'sqrt',\n",
       " 'max_depth': 21}"
      ]
     },
     "execution_count": 125,
     "metadata": {},
     "output_type": "execute_result"
    }
   ],
   "source": [
    "rf_Random.best_params_"
   ]
  },
  {
   "cell_type": "code",
   "execution_count": 126,
   "id": "328dcfaa",
   "metadata": {},
   "outputs": [],
   "source": [
    "from sklearn import metrics"
   ]
  },
  {
   "cell_type": "code",
   "execution_count": 127,
   "id": "54079708",
   "metadata": {},
   "outputs": [],
   "source": [
    "predictions2=rf_Random.predict(X_test)"
   ]
  },
  {
   "cell_type": "code",
   "execution_count": 128,
   "id": "fcd73c34",
   "metadata": {},
   "outputs": [
    {
     "data": {
      "text/plain": [
       "0.8224009814391808"
      ]
     },
     "execution_count": 128,
     "metadata": {},
     "output_type": "execute_result"
    }
   ],
   "source": [
    "metrics.r2_score(y_test,predictions2)"
   ]
  },
  {
   "cell_type": "code",
   "execution_count": 129,
   "id": "56b61d57",
   "metadata": {
    "scrolled": true
   },
   "outputs": [
    {
     "name": "stderr",
     "output_type": "stream",
     "text": [
      "C:\\Users\\rohit\\AppData\\Local\\Temp\\ipykernel_13920\\3209803836.py:2: UserWarning: \n",
      "\n",
      "`distplot` is a deprecated function and will be removed in seaborn v0.14.0.\n",
      "\n",
      "Please adapt your code to use either `displot` (a figure-level function with\n",
      "similar flexibility) or `histplot` (an axes-level function for histograms).\n",
      "\n",
      "For a guide to updating your code to use the new functions, please see\n",
      "https://gist.github.com/mwaskom/de44147ed2974457ad6372750bbe5751\n",
      "\n",
      "  sns.distplot(y_test-predictions2)\n"
     ]
    },
    {
     "data": {
      "text/plain": [
       "<Axes: xlabel='Price', ylabel='Density'>"
      ]
     },
     "execution_count": 129,
     "metadata": {},
     "output_type": "execute_result"
    },
    {
     "data": {
      "image/png": "[encoded data removed]",
      "text/plain": [
       "<Figure size 640x480 with 1 Axes>"
      ]
     },
     "metadata": {},
     "output_type": "display_data"
    }
   ],
   "source": [
    "#hence it giving 82% predictions\n",
    "sns.distplot(y_test-predictions2)"
   ]
  },
  {
   "cell_type": "code",
   "execution_count": 130,
   "id": "793f1df8",
   "metadata": {},
   "outputs": [],
   "source": [
    "import pickle"
   ]
  },
  {
   "cell_type": "code",
   "execution_count": 213,
   "id": "9599416a",
   "metadata": {},
   "outputs": [],
   "source": [
    "pickle.dump(rf_Random,open('rf_random1.pkl','wb'))"
   ]
  },
  {
   "cell_type": "code",
   "execution_count": 214,
   "id": "56196db9",
   "metadata": {},
   "outputs": [
    {
     "data": {
      "text/plain": [
       "['rf_random.pkl']"
      ]
     },
     "execution_count": 214,
     "metadata": {},
     "output_type": "execute_result"
    }
   ],
   "source": [
    "import joblib\n",
    "\n",
    "# Save with compression level 3 (0-9)\n",
    "joblib.dump(rf_Random, 'rf_random.pkl', compress=7)\n"
   ]
  },
  {
   "cell_type": "code",
   "execution_count": 215,
   "id": "48615133",
   "metadata": {},
   "outputs": [],
   "source": [
    "import joblib\n",
    "forest = joblib.load('rf_random.pkl')"
   ]
  },
  {
   "cell_type": "code",
   "execution_count": 217,
   "id": "0e5c16f2",
   "metadata": {},
   "outputs": [],
   "source": [
    "y_predictions=forest.predict(X_test)"
   ]
  },
  {
   "cell_type": "code",
   "execution_count": 218,
   "id": "d2fb6775",
   "metadata": {},
   "outputs": [
    {
     "data": {
      "text/plain": [
       "array([17232.81250316,  6079.95233888,  8629.88341923, ...,\n",
       "        6728.16758491, 12092.04801799, 12484.71185119])"
      ]
     },
     "execution_count": 218,
     "metadata": {},
     "output_type": "execute_result"
    }
   ],
   "source": [
    "y_predictions"
   ]
  },
  {
   "cell_type": "code",
   "execution_count": 219,
   "id": "cc311873",
   "metadata": {},
   "outputs": [
    {
     "data": {
      "text/plain": [
       "0.8224009814391808"
      ]
     },
     "execution_count": 219,
     "metadata": {},
     "output_type": "execute_result"
    }
   ],
   "source": [
    "metrics.r2_score(y_test,y_predictions)"
   ]
  },
  {
   "cell_type": "code",
   "execution_count": 220,
   "id": "d54f23a9",
   "metadata": {},
   "outputs": [],
   "source": [
    "df=pd.read_excel('Data_Train.xlsx')"
   ]
  },
  {
   "cell_type": "code",
   "execution_count": 221,
   "id": "7ad4b79e",
   "metadata": {},
   "outputs": [
    {
     "data": {
      "text/html": [
       "<div>\n",
       "<style scoped>\n",
       "    .dataframe tbody tr th:only-of-type {\n",
       "        vertical-align: middle;\n",
       "    }\n",
       "\n",
       "    .dataframe tbody tr th {\n",
       "        vertical-align: top;\n",
       "    }\n",
       "\n",
       "    .dataframe thead th {\n",
       "        text-align: right;\n",
       "    }\n",
       "</style>\n",
       "<table border=\"1\" class=\"dataframe\">\n",
       "  <thead>\n",
       "    <tr style=\"text-align: right;\">\n",
       "      <th></th>\n",
       "      <th>Airline</th>\n",
       "      <th>Date_of_Journey</th>\n",
       "      <th>Source</th>\n",
       "      <th>Destination</th>\n",
       "      <th>Route</th>\n",
       "      <th>Dep_Time</th>\n",
       "      <th>Arrival_Time</th>\n",
       "      <th>Duration</th>\n",
       "      <th>Total_Stops</th>\n",
       "      <th>Additional_Info</th>\n",
       "      <th>Price</th>\n",
       "    </tr>\n",
       "  </thead>\n",
       "  <tbody>\n",
       "    <tr>\n",
       "      <th>0</th>\n",
       "      <td>IndiGo</td>\n",
       "      <td>24/03/2019</td>\n",
       "      <td>Banglore</td>\n",
       "      <td>New Delhi</td>\n",
       "      <td>BLR → DEL</td>\n",
       "      <td>22:20</td>\n",
       "      <td>01:10 22 Mar</td>\n",
       "      <td>2h 50m</td>\n",
       "      <td>non-stop</td>\n",
       "      <td>No info</td>\n",
       "      <td>3897</td>\n",
       "    </tr>\n",
       "    <tr>\n",
       "      <th>1</th>\n",
       "      <td>Air India</td>\n",
       "      <td>1/05/2019</td>\n",
       "      <td>Kolkata</td>\n",
       "      <td>Banglore</td>\n",
       "      <td>CCU → IXR → BBI → BLR</td>\n",
       "      <td>05:50</td>\n",
       "      <td>13:15</td>\n",
       "      <td>7h 25m</td>\n",
       "      <td>2 stops</td>\n",
       "      <td>No info</td>\n",
       "      <td>7662</td>\n",
       "    </tr>\n",
       "    <tr>\n",
       "      <th>2</th>\n",
       "      <td>Jet Airways</td>\n",
       "      <td>9/06/2019</td>\n",
       "      <td>Delhi</td>\n",
       "      <td>Cochin</td>\n",
       "      <td>DEL → LKO → BOM → COK</td>\n",
       "      <td>09:25</td>\n",
       "      <td>04:25 10 Jun</td>\n",
       "      <td>19h</td>\n",
       "      <td>2 stops</td>\n",
       "      <td>No info</td>\n",
       "      <td>13882</td>\n",
       "    </tr>\n",
       "    <tr>\n",
       "      <th>3</th>\n",
       "      <td>IndiGo</td>\n",
       "      <td>12/05/2019</td>\n",
       "      <td>Kolkata</td>\n",
       "      <td>Banglore</td>\n",
       "      <td>CCU → NAG → BLR</td>\n",
       "      <td>18:05</td>\n",
       "      <td>23:30</td>\n",
       "      <td>5h 25m</td>\n",
       "      <td>1 stop</td>\n",
       "      <td>No info</td>\n",
       "      <td>6218</td>\n",
       "    </tr>\n",
       "    <tr>\n",
       "      <th>4</th>\n",
       "      <td>IndiGo</td>\n",
       "      <td>01/03/2019</td>\n",
       "      <td>Banglore</td>\n",
       "      <td>New Delhi</td>\n",
       "      <td>BLR → NAG → DEL</td>\n",
       "      <td>16:50</td>\n",
       "      <td>21:35</td>\n",
       "      <td>4h 45m</td>\n",
       "      <td>1 stop</td>\n",
       "      <td>No info</td>\n",
       "      <td>13302</td>\n",
       "    </tr>\n",
       "  </tbody>\n",
       "</table>\n",
       "</div>"
      ],
      "text/plain": [
       "       Airline Date_of_Journey    Source Destination                  Route  \\\n",
       "0       IndiGo      24/03/2019  Banglore   New Delhi              BLR → DEL   \n",
       "1    Air India       1/05/2019   Kolkata    Banglore  CCU → IXR → BBI → BLR   \n",
       "2  Jet Airways       9/06/2019     Delhi      Cochin  DEL → LKO → BOM → COK   \n",
       "3       IndiGo      12/05/2019   Kolkata    Banglore        CCU → NAG → BLR   \n",
       "4       IndiGo      01/03/2019  Banglore   New Delhi        BLR → NAG → DEL   \n",
       "\n",
       "  Dep_Time  Arrival_Time Duration Total_Stops Additional_Info  Price  \n",
       "0    22:20  01:10 22 Mar   2h 50m    non-stop         No info   3897  \n",
       "1    05:50         13:15   7h 25m     2 stops         No info   7662  \n",
       "2    09:25  04:25 10 Jun      19h     2 stops         No info  13882  \n",
       "3    18:05         23:30   5h 25m      1 stop         No info   6218  \n",
       "4    16:50         21:35   4h 45m      1 stop         No info  13302  "
      ]
     },
     "execution_count": 221,
     "metadata": {},
     "output_type": "execute_result"
    }
   ],
   "source": [
    "df.head()"
   ]
  },
  {
   "cell_type": "code",
   "execution_count": 222,
   "id": "b0528335",
   "metadata": {},
   "outputs": [
    {
     "name": "stderr",
     "output_type": "stream",
     "text": [
      "C:\\Users\\rohit\\AppData\\Local\\Temp\\ipykernel_13920\\165850772.py:2: UserWarning: Parsing dates in %d/%m/%Y format when dayfirst=False (the default) was specified. Pass `dayfirst=True` or specify a format to silence this warning.\n",
      "  df[date_column] = pd.to_datetime(df[date_column])\n",
      "C:\\Users\\rohit\\AppData\\Local\\Temp\\ipykernel_13920\\165850772.py:2: UserWarning: Could not infer format, so each element will be parsed individually, falling back to `dateutil`. To ensure parsing is consistent and as-expected, please specify a format.\n",
      "  df[date_column] = pd.to_datetime(df[date_column])\n",
      "C:\\Users\\rohit\\AppData\\Local\\Temp\\ipykernel_13920\\165850772.py:2: UserWarning: Could not infer format, so each element will be parsed individually, falling back to `dateutil`. To ensure parsing is consistent and as-expected, please specify a format.\n",
      "  df[date_column] = pd.to_datetime(df[date_column])\n"
     ]
    }
   ],
   "source": [
    "x=['Date_of_Journey','Dep_Time','Arrival_Time']\n",
    "for i in x:\n",
    "    converter(df,i)"
   ]
  },
  {
   "cell_type": "code",
   "execution_count": 223,
   "id": "9ba26cc8",
   "metadata": {},
   "outputs": [
    {
     "data": {
      "text/plain": [
       "Airline                    object\n",
       "Date_of_Journey    datetime64[ns]\n",
       "Source                     object\n",
       "Destination                object\n",
       "Route                      object\n",
       "Dep_Time           datetime64[ns]\n",
       "Arrival_Time       datetime64[ns]\n",
       "Duration                   object\n",
       "Total_Stops                object\n",
       "Additional_Info            object\n",
       "Price                       int64\n",
       "dtype: object"
      ]
     },
     "execution_count": 223,
     "metadata": {},
     "output_type": "execute_result"
    }
   ],
   "source": [
    "df.dtypes"
   ]
  },
  {
   "cell_type": "code",
   "execution_count": 224,
   "id": "bb480712",
   "metadata": {},
   "outputs": [],
   "source": [
    "pickle.dump(df,open('df.pkl','wb'))"
   ]
  },
  {
   "cell_type": "code",
   "execution_count": 225,
   "id": "a4e7a4bc",
   "metadata": {},
   "outputs": [
    {
     "name": "stdout",
     "output_type": "stream",
     "text": [
      "Name: scikit-learn\n",
      "Version: 1.3.0\n",
      "Summary: A set of python modules for machine learning and data mining\n",
      "Home-page: http://scikit-learn.org\n",
      "Author: \n",
      "Author-email: \n",
      "License: new BSD\n",
      "Location: C:\\Users\\rohit\\anaconda3\\Lib\\site-packages\n",
      "Requires: joblib, numpy, scipy, threadpoolctl\n",
      "Required-by: daal4py, imbalanced-learn, scikit-learn-intelex\n",
      "Note: you may need to restart the kernel to use updated packages.\n"
     ]
    }
   ],
   "source": []
  },
  {
   "cell_type": "code",
   "execution_count": null,
   "id": "c2b2a10c",
   "metadata": {},
   "outputs": [],
   "source": []
  }
 ],
 "metadata": {
  "kernelspec": {
   "display_name": "Python 3 (ipykernel)",
   "language": "python",
   "name": "python3"
  },
  "language_info": {
   "codemirror_mode": {
    "name": "ipython",
    "version": 3
   },
   "file_extension": ".py",
   "mimetype": "text/x-python",
   "name": "python",
   "nbconvert_exporter": "python",
   "pygments_lexer": "ipython3",
   "version": "3.11.3"
  }
 },
 "nbformat": 4,
 "nbformat_minor": 5
}
